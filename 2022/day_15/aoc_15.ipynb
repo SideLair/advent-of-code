{
 "cells": [
  {
   "cell_type": "markdown",
   "metadata": {},
   "source": [
    "### Day 15 - beacons\n",
    "https://adventofcode.com/2022/day/15"
   ]
  },
  {
   "cell_type": "code",
   "execution_count": 1,
   "metadata": {},
   "outputs": [],
   "source": [
    "import re\n",
    "import geopandas as gpd"
   ]
  },
  {
   "cell_type": "code",
   "execution_count": 2,
   "metadata": {},
   "outputs": [],
   "source": [
    "test_data = \"\"\"Sensor at x=2, y=18: closest beacon is at x=-2, y=15\n",
    "Sensor at x=9, y=16: closest beacon is at x=10, y=16\n",
    "Sensor at x=13, y=2: closest beacon is at x=15, y=3\n",
    "Sensor at x=12, y=14: closest beacon is at x=10, y=16\n",
    "Sensor at x=10, y=20: closest beacon is at x=10, y=16\n",
    "Sensor at x=14, y=17: closest beacon is at x=10, y=16\n",
    "Sensor at x=8, y=7: closest beacon is at x=2, y=10\n",
    "Sensor at x=2, y=0: closest beacon is at x=2, y=10\n",
    "Sensor at x=0, y=11: closest beacon is at x=2, y=10\n",
    "Sensor at x=20, y=14: closest beacon is at x=25, y=17\n",
    "Sensor at x=17, y=20: closest beacon is at x=21, y=22\n",
    "Sensor at x=16, y=7: closest beacon is at x=15, y=3\n",
    "Sensor at x=14, y=3: closest beacon is at x=15, y=3\n",
    "Sensor at x=20, y=1: closest beacon is at x=15, y=3\"\"\""
   ]
  },
  {
   "cell_type": "code",
   "execution_count": 3,
   "metadata": {},
   "outputs": [],
   "source": [
    "def radius(coords):\n",
    "    s_x, s_y, b_x, b_y = coords\n",
    "\n",
    "    return abs(s_y - b_y) + abs(s_x - b_x)"
   ]
  },
  {
   "cell_type": "code",
   "execution_count": 4,
   "metadata": {},
   "outputs": [],
   "source": [
    "def coverage_light(coords, row):\n",
    "    s_x, s_y, b_x, b_y = coords\n",
    "    distance = radius(coords)\n",
    "    coverage_coords = {\n",
    "        'S' : None,\n",
    "        'B' : None,\n",
    "        '#' : set()\n",
    "    }\n",
    "\n",
    "    start_coords = (s_x - distance, s_y)\n",
    "\n",
    "    c = (start_coords[0] + (row - s_y), start_coords[1] + (row - s_y)) if (row - s_y) >= 0 else (start_coords[0] - (row - s_y), start_coords[1] + (row - s_y))\n",
    "    l = (2 * distance + 1) - (2 * (row - s_y)) if (row - s_y) >= 0 else (2 * distance + 1) + (2 * (row - s_y))\n",
    "    \n",
    "    coverage_coords['#'] = set([(c[0] + inc, c[1]) for inc in range(l)])\n",
    "    coverage_coords['S'] = (s_x, s_y)\n",
    "    coverage_coords['B'] = (b_x, b_y)\n",
    "\n",
    "    return coverage_coords"
   ]
  },
  {
   "cell_type": "code",
   "execution_count": 5,
   "metadata": {},
   "outputs": [],
   "source": [
    "with open(\"input_15.txt\", \"r\") as input_file:\n",
    "    coords = [[int(n) for n in re.findall(r'(-?\\d+)', item)] for item in input_file.read().strip().split('\\n')]\n",
    "\n",
    "#coords (sensor x, sensor y, beacon x, beacon y)\n",
    "#coords = [[int(n) for n in re.findall(r'(-?\\d+)', item)] for item in test_data.strip().split('\\n')]"
   ]
  },
  {
   "cell_type": "code",
   "execution_count": 6,
   "metadata": {},
   "outputs": [
    {
     "data": {
      "text/plain": [
       "6078701"
      ]
     },
     "execution_count": 6,
     "metadata": {},
     "output_type": "execute_result"
    }
   ],
   "source": [
    "row = 2000000\n",
    "hashes = set()\n",
    "bs = set()\n",
    "ss = set()\n",
    "\n",
    "\n",
    "for c in coords:\n",
    "    tmp = coverage_light(c, row)\n",
    "\n",
    "    hashes.update(tmp['#'])\n",
    "    bs.add(tmp['B'])\n",
    "    ss.add(tmp['S'])\n",
    "\n",
    "hashes.difference_update(hashes.intersection(bs))\n",
    "hashes.difference_update(hashes.intersection(ss))\n",
    "\n",
    "len(hashes)"
   ]
  },
  {
   "cell_type": "code",
   "execution_count": 7,
   "metadata": {},
   "outputs": [
    {
     "data": {
      "text/plain": [
       "['POLYGON((3271747 2813277, 2983166 3101858, 2694585 2813277, 2983166 2524696, 3271747 2813277))',\n",
       " 'POLYGON((4347212 122751, 2507490 1962473, 667768 122751, 2507490 -1716971, 4347212 122751))',\n",
       " 'POLYGON((3816452 2510538, 3273116 3053874, 2729780 2510538, 3273116 1967202, 3816452 2510538))',\n",
       " 'POLYGON((1540406 995389, 1429671 1106124, 1318936 995389, 1429671 884654, 1540406 995389))',\n",
       " 'POLYGON((3435036 2260162, 2465994 3229204, 1496952 2260162, 2465994 1291120, 3435036 2260162))',\n",
       " 'POLYGON((3350482 3191882, 2926899 3615465, 2503316 3191882, 2926899 2768299, 3350482 3191882))',\n",
       " 'POLYGON((1566194 1021177, 1022491 1564880, 478788 1021177, 1022491 477474, 1566194 1021177))',\n",
       " 'POLYGON((1675990 1130973, 1353273 1453690, 1030556 1130973, 1353273 808256, 1675990 1130973))',\n",
       " 'POLYGON((1679028 2081049, 1565476 2194601, 1451924 2081049, 1565476 1967497, 1679028 2081049))',\n",
       " 'POLYGON((2190705 1893566, 1841125 2243146, 1491545 1893566, 1841125 1543986, 2190705 1893566))',\n",
       " 'POLYGON((1834567 71317, 99988 1805896, -1634591 71317, 99988 -1663262, 1834567 71317))',\n",
       " 'POLYGON((3329039 3984582, 3080600 4233021, 2832161 3984582, 3080600 3736143, 3329039 3984582))',\n",
       " 'POLYGON((4453051 3002123, 3942770 3512404, 3432489 3002123, 3942770 2491842, 4453051 3002123))',\n",
       " 'POLYGON((1629426 2031447, 1572920 2087953, 1516414 2031447, 1572920 1974941, 1629426 2031447))',\n",
       " 'POLYGON((1715202 1882777, 218329 3379650, -1278544 1882777, 218329 385904, 1715202 1882777))',\n",
       " 'POLYGON((2005543 1460526, 1401723 2064346, 797903 1460526, 1401723 856706, 2005543 1460526))',\n",
       " 'POLYGON((2728965 985978, 2114094 1600849, 1499223 985978, 2114094 371107, 2728965 985978))',\n",
       " 'POLYGON((3804005 3171857, 3358586 3617276, 2913167 3171857, 3358586 2726438, 3804005 3171857))',\n",
       " 'POLYGON((2959030 3662922, 1226284 5395668, -506462 3662922, 1226284 1930176, 2959030 3662922))',\n",
       " 'POLYGON((4148233 3717867, 3486366 4379734, 2824499 3717867, 3486366 3056000, 4148233 3717867))',\n",
       " 'POLYGON((1653847 831354, 1271873 1213328, 889899 831354, 1271873 449380, 1653847 831354))',\n",
       " 'POLYGON((5350980 1566400, 3568311 3349069, 1785642 1566400, 3568311 -216269, 5350980 1566400))',\n",
       " 'POLYGON((4086943 3146611, 3831960 3401594, 3576977 3146611, 3831960 2891628, 4086943 3146611))',\n",
       " 'POLYGON((2535900 3196726, 2505534 3227092, 2475168 3196726, 2505534 3166360, 2535900 3196726))',\n",
       " 'POLYGON((3373406 3632098, 2736967 4268537, 2100528 3632098, 2736967 2995659, 3373406 3632098))',\n",
       " 'POLYGON((4852219 3944423, 3963402 4833240, 3074585 3944423, 3963402 3055606, 4852219 3944423))',\n",
       " 'POLYGON((1717618 2119639, 1483115 2354142, 1248612 2119639, 1483115 1885136, 1717618 2119639))']"
      ]
     },
     "execution_count": 7,
     "metadata": {},
     "output_type": "execute_result"
    }
   ],
   "source": [
    "wkt = [f'POLYGON(({a+radius([a,b,c,d])} {b}, {a} {b+radius([a,b,c,d])}, {a-radius([a,b,c,d])} {b}, {a} {b-radius([a,b,c,d])}, {a+radius([a,b,c,d])} {b}))' for a,b,c,d in coords]\n",
    "wkt"
   ]
  },
  {
   "cell_type": "code",
   "execution_count": 8,
   "metadata": {},
   "outputs": [
    {
     "data": {
      "text/html": [
       "<div>\n",
       "<style scoped>\n",
       "    .dataframe tbody tr th:only-of-type {\n",
       "        vertical-align: middle;\n",
       "    }\n",
       "\n",
       "    .dataframe tbody tr th {\n",
       "        vertical-align: top;\n",
       "    }\n",
       "\n",
       "    .dataframe thead th {\n",
       "        text-align: right;\n",
       "    }\n",
       "</style>\n",
       "<table border=\"1\" class=\"dataframe\">\n",
       "  <thead>\n",
       "    <tr style=\"text-align: right;\">\n",
       "      <th></th>\n",
       "      <th>pol_id</th>\n",
       "      <th>geometry</th>\n",
       "    </tr>\n",
       "  </thead>\n",
       "  <tbody>\n",
       "    <tr>\n",
       "      <th>0</th>\n",
       "      <td>0</td>\n",
       "      <td>POLYGON ((0.000 0.000, 0.000 4000000.000, 4000...</td>\n",
       "    </tr>\n",
       "  </tbody>\n",
       "</table>\n",
       "</div>"
      ],
      "text/plain": [
       "   pol_id                                           geometry\n",
       "0       0  POLYGON ((0.000 0.000, 0.000 4000000.000, 4000..."
      ]
     },
     "execution_count": 8,
     "metadata": {},
     "output_type": "execute_result"
    }
   ],
   "source": [
    "capture_area = gpd.GeoDataFrame(\n",
    "    {\n",
    "        'pol_id' : [0]\n",
    "    },\n",
    "    geometry=gpd.GeoSeries.from_wkt(['POLYGON((0 0, 0 4000000, 4000000 4000000, 4000000 0, 0 0))']),\n",
    "    crs='EPSG:5513'\n",
    "    )\n",
    "capture_area"
   ]
  },
  {
   "cell_type": "code",
   "execution_count": 9,
   "metadata": {},
   "outputs": [
    {
     "data": {
      "text/html": [
       "<div>\n",
       "<style scoped>\n",
       "    .dataframe tbody tr th:only-of-type {\n",
       "        vertical-align: middle;\n",
       "    }\n",
       "\n",
       "    .dataframe tbody tr th {\n",
       "        vertical-align: top;\n",
       "    }\n",
       "\n",
       "    .dataframe thead th {\n",
       "        text-align: right;\n",
       "    }\n",
       "</style>\n",
       "<table border=\"1\" class=\"dataframe\">\n",
       "  <thead>\n",
       "    <tr style=\"text-align: right;\">\n",
       "      <th></th>\n",
       "      <th>pol_id</th>\n",
       "      <th>geometry</th>\n",
       "    </tr>\n",
       "  </thead>\n",
       "  <tbody>\n",
       "    <tr>\n",
       "      <th>0</th>\n",
       "      <td>1</td>\n",
       "      <td>POLYGON ((3271747.000 2813277.000, 2983166.000...</td>\n",
       "    </tr>\n",
       "    <tr>\n",
       "      <th>1</th>\n",
       "      <td>1</td>\n",
       "      <td>POLYGON ((4347212.000 122751.000, 2507490.000 ...</td>\n",
       "    </tr>\n",
       "    <tr>\n",
       "      <th>2</th>\n",
       "      <td>1</td>\n",
       "      <td>POLYGON ((3816452.000 2510538.000, 3273116.000...</td>\n",
       "    </tr>\n",
       "    <tr>\n",
       "      <th>3</th>\n",
       "      <td>1</td>\n",
       "      <td>POLYGON ((1540406.000 995389.000, 1429671.000 ...</td>\n",
       "    </tr>\n",
       "    <tr>\n",
       "      <th>4</th>\n",
       "      <td>1</td>\n",
       "      <td>POLYGON ((3435036.000 2260162.000, 2465994.000...</td>\n",
       "    </tr>\n",
       "    <tr>\n",
       "      <th>5</th>\n",
       "      <td>1</td>\n",
       "      <td>POLYGON ((3350482.000 3191882.000, 2926899.000...</td>\n",
       "    </tr>\n",
       "    <tr>\n",
       "      <th>6</th>\n",
       "      <td>1</td>\n",
       "      <td>POLYGON ((1566194.000 1021177.000, 1022491.000...</td>\n",
       "    </tr>\n",
       "    <tr>\n",
       "      <th>7</th>\n",
       "      <td>1</td>\n",
       "      <td>POLYGON ((1675990.000 1130973.000, 1353273.000...</td>\n",
       "    </tr>\n",
       "    <tr>\n",
       "      <th>8</th>\n",
       "      <td>1</td>\n",
       "      <td>POLYGON ((1679028.000 2081049.000, 1565476.000...</td>\n",
       "    </tr>\n",
       "    <tr>\n",
       "      <th>9</th>\n",
       "      <td>1</td>\n",
       "      <td>POLYGON ((2190705.000 1893566.000, 1841125.000...</td>\n",
       "    </tr>\n",
       "    <tr>\n",
       "      <th>10</th>\n",
       "      <td>1</td>\n",
       "      <td>POLYGON ((1834567.000 71317.000, 99988.000 180...</td>\n",
       "    </tr>\n",
       "    <tr>\n",
       "      <th>11</th>\n",
       "      <td>1</td>\n",
       "      <td>POLYGON ((3329039.000 3984582.000, 3080600.000...</td>\n",
       "    </tr>\n",
       "    <tr>\n",
       "      <th>12</th>\n",
       "      <td>1</td>\n",
       "      <td>POLYGON ((4453051.000 3002123.000, 3942770.000...</td>\n",
       "    </tr>\n",
       "    <tr>\n",
       "      <th>13</th>\n",
       "      <td>1</td>\n",
       "      <td>POLYGON ((1629426.000 2031447.000, 1572920.000...</td>\n",
       "    </tr>\n",
       "    <tr>\n",
       "      <th>14</th>\n",
       "      <td>1</td>\n",
       "      <td>POLYGON ((1715202.000 1882777.000, 218329.000 ...</td>\n",
       "    </tr>\n",
       "    <tr>\n",
       "      <th>15</th>\n",
       "      <td>1</td>\n",
       "      <td>POLYGON ((2005543.000 1460526.000, 1401723.000...</td>\n",
       "    </tr>\n",
       "    <tr>\n",
       "      <th>16</th>\n",
       "      <td>1</td>\n",
       "      <td>POLYGON ((2728965.000 985978.000, 2114094.000 ...</td>\n",
       "    </tr>\n",
       "    <tr>\n",
       "      <th>17</th>\n",
       "      <td>1</td>\n",
       "      <td>POLYGON ((3804005.000 3171857.000, 3358586.000...</td>\n",
       "    </tr>\n",
       "    <tr>\n",
       "      <th>18</th>\n",
       "      <td>1</td>\n",
       "      <td>POLYGON ((2959030.000 3662922.000, 1226284.000...</td>\n",
       "    </tr>\n",
       "    <tr>\n",
       "      <th>19</th>\n",
       "      <td>1</td>\n",
       "      <td>POLYGON ((4148233.000 3717867.000, 3486366.000...</td>\n",
       "    </tr>\n",
       "    <tr>\n",
       "      <th>20</th>\n",
       "      <td>1</td>\n",
       "      <td>POLYGON ((1653847.000 831354.000, 1271873.000 ...</td>\n",
       "    </tr>\n",
       "    <tr>\n",
       "      <th>21</th>\n",
       "      <td>1</td>\n",
       "      <td>POLYGON ((5350980.000 1566400.000, 3568311.000...</td>\n",
       "    </tr>\n",
       "    <tr>\n",
       "      <th>22</th>\n",
       "      <td>1</td>\n",
       "      <td>POLYGON ((4086943.000 3146611.000, 3831960.000...</td>\n",
       "    </tr>\n",
       "    <tr>\n",
       "      <th>23</th>\n",
       "      <td>1</td>\n",
       "      <td>POLYGON ((2535900.000 3196726.000, 2505534.000...</td>\n",
       "    </tr>\n",
       "    <tr>\n",
       "      <th>24</th>\n",
       "      <td>1</td>\n",
       "      <td>POLYGON ((3373406.000 3632098.000, 2736967.000...</td>\n",
       "    </tr>\n",
       "    <tr>\n",
       "      <th>25</th>\n",
       "      <td>1</td>\n",
       "      <td>POLYGON ((4852219.000 3944423.000, 3963402.000...</td>\n",
       "    </tr>\n",
       "    <tr>\n",
       "      <th>26</th>\n",
       "      <td>1</td>\n",
       "      <td>POLYGON ((1717618.000 2119639.000, 1483115.000...</td>\n",
       "    </tr>\n",
       "  </tbody>\n",
       "</table>\n",
       "</div>"
      ],
      "text/plain": [
       "    pol_id                                           geometry\n",
       "0        1  POLYGON ((3271747.000 2813277.000, 2983166.000...\n",
       "1        1  POLYGON ((4347212.000 122751.000, 2507490.000 ...\n",
       "2        1  POLYGON ((3816452.000 2510538.000, 3273116.000...\n",
       "3        1  POLYGON ((1540406.000 995389.000, 1429671.000 ...\n",
       "4        1  POLYGON ((3435036.000 2260162.000, 2465994.000...\n",
       "5        1  POLYGON ((3350482.000 3191882.000, 2926899.000...\n",
       "6        1  POLYGON ((1566194.000 1021177.000, 1022491.000...\n",
       "7        1  POLYGON ((1675990.000 1130973.000, 1353273.000...\n",
       "8        1  POLYGON ((1679028.000 2081049.000, 1565476.000...\n",
       "9        1  POLYGON ((2190705.000 1893566.000, 1841125.000...\n",
       "10       1  POLYGON ((1834567.000 71317.000, 99988.000 180...\n",
       "11       1  POLYGON ((3329039.000 3984582.000, 3080600.000...\n",
       "12       1  POLYGON ((4453051.000 3002123.000, 3942770.000...\n",
       "13       1  POLYGON ((1629426.000 2031447.000, 1572920.000...\n",
       "14       1  POLYGON ((1715202.000 1882777.000, 218329.000 ...\n",
       "15       1  POLYGON ((2005543.000 1460526.000, 1401723.000...\n",
       "16       1  POLYGON ((2728965.000 985978.000, 2114094.000 ...\n",
       "17       1  POLYGON ((3804005.000 3171857.000, 3358586.000...\n",
       "18       1  POLYGON ((2959030.000 3662922.000, 1226284.000...\n",
       "19       1  POLYGON ((4148233.000 3717867.000, 3486366.000...\n",
       "20       1  POLYGON ((1653847.000 831354.000, 1271873.000 ...\n",
       "21       1  POLYGON ((5350980.000 1566400.000, 3568311.000...\n",
       "22       1  POLYGON ((4086943.000 3146611.000, 3831960.000...\n",
       "23       1  POLYGON ((2535900.000 3196726.000, 2505534.000...\n",
       "24       1  POLYGON ((3373406.000 3632098.000, 2736967.000...\n",
       "25       1  POLYGON ((4852219.000 3944423.000, 3963402.000...\n",
       "26       1  POLYGON ((1717618.000 2119639.000, 1483115.000..."
      ]
     },
     "execution_count": 9,
     "metadata": {},
     "output_type": "execute_result"
    }
   ],
   "source": [
    "sensors = gpd.GeoDataFrame(\n",
    "    {\n",
    "        'pol_id' : [1 for _ in range(len(wkt))]\n",
    "    },\n",
    "    geometry=gpd.GeoSeries.from_wkt(wkt),\n",
    "    crs='EPSG:5513'\n",
    "    )\n",
    "sensors"
   ]
  },
  {
   "cell_type": "code",
   "execution_count": 10,
   "metadata": {},
   "outputs": [
    {
     "data": {
      "image/png": "[encoded data removed]",
      "text/plain": [
       "<Figure size 640x480 with 1 Axes>"
      ]
     },
     "metadata": {},
     "output_type": "display_data"
    }
   ],
   "source": [
    "sensors_merged = sensors.dissolve(by='pol_id', as_index=False)\n",
    "sensors_merged.plot();"
   ]
  },
  {
   "cell_type": "code",
   "execution_count": 11,
   "metadata": {},
   "outputs": [
    {
     "data": {
      "text/plain": [
       "12567351400528"
      ]
     },
     "execution_count": 11,
     "metadata": {},
     "output_type": "execute_result"
    }
   ],
   "source": [
    "x1, y1, x2, y2 = gpd.overlay(capture_area, sensors_merged, how='difference').total_bounds\n",
    "\n",
    "x = int((x1 + x2) / 2)\n",
    "y = int((y1 + y2) / 2)\n",
    "\n",
    "x * 4_000_000 + y"
   ]
  }
 ],
 "metadata": {
  "kernelspec": {
   "display_name": "Python 3.10.5 ('venv-jupyter')",
   "language": "python",
   "name": "python3"
  },
  "language_info": {
   "codemirror_mode": {
    "name": "ipython",
    "version": 3
   },
   "file_extension": ".py",
   "mimetype": "text/x-python",
   "name": "python",
   "nbconvert_exporter": "python",
   "pygments_lexer": "ipython3",
   "version": "3.10.5"
  },
  "orig_nbformat": 4,
  "vscode": {
   "interpreter": {
    "hash": "62abda820e838343c9dc43ed9e178e200f47ce3a485529130a5bf834a20b7dfe"
   }
  }
 },
 "nbformat": 4,
 "nbformat_minor": 2
}
