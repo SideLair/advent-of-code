{
 "cells": [
  {
   "cell_type": "markdown",
   "metadata": {},
   "source": [
    "### Day 13 - packet check\n",
    "\n",
    "https://adventofcode.com/2022/day/13"
   ]
  },
  {
   "cell_type": "code",
   "execution_count": 1,
   "metadata": {},
   "outputs": [],
   "source": [
    "test_data = \"\"\"[1,1,3,1,1]\n",
    "[1,1,5,1,1]\n",
    "\n",
    "[[1],[2,3,4]]\n",
    "[[1],4]\n",
    "\n",
    "[9]\n",
    "[[8,7,6]]\n",
    "\n",
    "[[4,4],4,4]\n",
    "[[4,4],4,4,4]\n",
    "\n",
    "[7,7,7,7]\n",
    "[7,7,7]\n",
    "\n",
    "[]\n",
    "[3]\n",
    "\n",
    "[[[]]]\n",
    "[[]]\n",
    "\n",
    "[1,[2,[3,[4,[5,6,7]]]],8,9]\n",
    "[1,[2,[3,[4,[5,6,0]]]],8,9]\"\"\""
   ]
  },
  {
   "cell_type": "code",
   "execution_count": 2,
   "metadata": {},
   "outputs": [],
   "source": [
    "def transform(s):\n",
    "    stack = []\n",
    "    c_buffer = ''\n",
    "\n",
    "    for c in s:\n",
    "        if c_buffer != '' and not c.isnumeric():\n",
    "            stack[-1].append(int(c_buffer))\n",
    "            c_buffer = ''\n",
    "\n",
    "        if c == '[':\n",
    "            stack.append([])\n",
    "        elif c.isnumeric():\n",
    "            c_buffer += c\n",
    "        elif c == ',':\n",
    "            pass\n",
    "        elif c == ']':\n",
    "            closed = stack.pop()\n",
    "\n",
    "            if stack:\n",
    "                stack[-1].append(closed)\n",
    "            else:\n",
    "                return closed\n",
    "\n",
    "    return stack"
   ]
  },
  {
   "cell_type": "code",
   "execution_count": 3,
   "metadata": {},
   "outputs": [],
   "source": [
    "def comp(l, r):\n",
    "    if l == r:\n",
    "        return 0\n",
    "    elif l < r:\n",
    "        return 1\n",
    "    elif r < l:\n",
    "        return -1"
   ]
  },
  {
   "cell_type": "code",
   "execution_count": 4,
   "metadata": {},
   "outputs": [],
   "source": [
    "def is_ordered(l, r):\n",
    "    if isinstance(l, list) == isinstance(r, list) == True:\n",
    "        common_i = min([len(l), len(r)])\n",
    "\n",
    "        for i in range(common_i):\n",
    "            res = is_ordered(l[i], r[i])\n",
    "\n",
    "            if res != 0:\n",
    "                return res\n",
    "\n",
    "        return comp(len(l), len(r))\n",
    "    elif isinstance(l, int) == isinstance(r, int):\n",
    "        return comp(l, r)\n",
    "    elif isinstance(l, int):\n",
    "        return is_ordered([l], r)\n",
    "    elif isinstance(r, int):\n",
    "        return is_ordered(l, [r])"
   ]
  },
  {
   "cell_type": "code",
   "execution_count": 5,
   "metadata": {},
   "outputs": [],
   "source": [
    "def bubbleSort(arr):\n",
    "    \"\"\"mighty since 2004\"\"\"\n",
    "\n",
    "    n = len(arr)\n",
    "    swapped = False\n",
    "    \n",
    "    for i in range(n-1):\n",
    "        for j in range(0, n-i-1):\n",
    " \n",
    "            if is_ordered(arr[j], arr[j + 1]) == -1:\n",
    "                swapped = True\n",
    "                arr[j], arr[j + 1] = arr[j + 1], arr[j]\n",
    "         \n",
    "        if not swapped:\n",
    "            return"
   ]
  },
  {
   "cell_type": "code",
   "execution_count": 6,
   "metadata": {},
   "outputs": [],
   "source": [
    "with open(\"input_13.txt\", \"r\") as input_file:\n",
    "    raw_packets = [item.split('\\n') for item in input_file.read().strip().split('\\n\\n')]\n",
    "    \n",
    "#raw_packets = [item.split('\\n') for item in test_data.strip().split('\\n\\n')]\n",
    "packets = [(transform(l), transform(r)) for l, r in raw_packets]"
   ]
  },
  {
   "cell_type": "code",
   "execution_count": 7,
   "metadata": {},
   "outputs": [
    {
     "data": {
      "text/plain": [
       "5506"
      ]
     },
     "execution_count": 7,
     "metadata": {},
     "output_type": "execute_result"
    }
   ],
   "source": [
    "sum([i for i, res in enumerate([is_ordered(l, r) for l, r in packets], 1) if res == 1])"
   ]
  },
  {
   "cell_type": "code",
   "execution_count": 8,
   "metadata": {},
   "outputs": [
    {
     "data": {
      "text/plain": [
       "21756"
      ]
     },
     "execution_count": 8,
     "metadata": {},
     "output_type": "execute_result"
    }
   ],
   "source": [
    "raw_packets.append(['[[2]]', '[[6]]'])\n",
    "all_packets = []\n",
    "\n",
    "for a, b in raw_packets:\n",
    "    all_packets.extend([transform(a), transform(b)])\n",
    "\n",
    "bubbleSort(all_packets)\n",
    "\n",
    "divider_indexes = [i for i, res in enumerate([l for l in all_packets], 1) if res in [[[2]], [[6]]]]\n",
    "divider_indexes[0] * divider_indexes[1]"
   ]
  }
 ],
 "metadata": {
  "kernelspec": {
   "display_name": "Python 3.10.5 ('venv-jupyter')",
   "language": "python",
   "name": "python3"
  },
  "language_info": {
   "codemirror_mode": {
    "name": "ipython",
    "version": 3
   },
   "file_extension": ".py",
   "mimetype": "text/x-python",
   "name": "python",
   "nbconvert_exporter": "python",
   "pygments_lexer": "ipython3",
   "version": "3.10.5"
  },
  "orig_nbformat": 4,
  "vscode": {
   "interpreter": {
    "hash": "62abda820e838343c9dc43ed9e178e200f47ce3a485529130a5bf834a20b7dfe"
   }
  }
 },
 "nbformat": 4,
 "nbformat_minor": 2
}
