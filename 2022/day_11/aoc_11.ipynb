{
 "cells": [
  {
   "cell_type": "markdown",
   "metadata": {},
   "source": [
    "### Day 11 - monkey business\n",
    "\n",
    "https://adventofcode.com/2022/day/11"
   ]
  },
  {
   "cell_type": "code",
   "execution_count": 1,
   "metadata": {},
   "outputs": [],
   "source": [
    "from math import floor\n",
    "from functools import reduce"
   ]
  },
  {
   "cell_type": "code",
   "execution_count": 2,
   "metadata": {},
   "outputs": [],
   "source": [
    "test_data = \"\"\"Monkey 0:\n",
    "  Starting items: 79, 98\n",
    "  Operation: new = old * 19\n",
    "  Test: divisible by 23\n",
    "    If true: throw to monkey 2\n",
    "    If false: throw to monkey 3\n",
    "\n",
    "Monkey 1:\n",
    "  Starting items: 54, 65, 75, 74\n",
    "  Operation: new = old + 6\n",
    "  Test: divisible by 19\n",
    "    If true: throw to monkey 2\n",
    "    If false: throw to monkey 0\n",
    "\n",
    "Monkey 2:\n",
    "  Starting items: 79, 60, 97\n",
    "  Operation: new = old * old\n",
    "  Test: divisible by 13\n",
    "    If true: throw to monkey 1\n",
    "    If false: throw to monkey 3\n",
    "\n",
    "Monkey 3:\n",
    "  Starting items: 74\n",
    "  Operation: new = old + 3\n",
    "  Test: divisible by 17\n",
    "    If true: throw to monkey 0\n",
    "    If false: throw to monkey 1\"\"\""
   ]
  },
  {
   "cell_type": "code",
   "execution_count": 3,
   "metadata": {},
   "outputs": [],
   "source": [
    "def prepare_monkeys(data):\n",
    "    monkeys = {}\n",
    "    monkey_description = [monkey.split('\\n') for monkey in data.strip().split('\\n\\n')]\n",
    "\n",
    "    for monkey in monkey_description:\n",
    "        monkey_nr = int(monkey[0].replace(':', '').split(' ')[1])\n",
    "        monkey_items = [int(i) for i in monkey[1].replace(',', '').split(':')[1].strip().split(' ')]\n",
    "        operation = [int(item) if item.isnumeric() else item for item in monkey[2].split('= ')[1].split(' ')]\n",
    "        test = int(monkey[3].split('by ')[1])\n",
    "        test_true = int(monkey[4].split('monkey ')[1])\n",
    "        test_false = int(monkey[5].split('monkey ')[1])\n",
    "\n",
    "        monkeys[monkey_nr] = {\n",
    "            'items' : monkey_items,\n",
    "            'operation' : operation,\n",
    "            'test' : test,\n",
    "            'test_true' : test_true,\n",
    "            'test_false' : test_false,\n",
    "            'inspection_counter' : 0\n",
    "        }\n",
    "\n",
    "    return monkeys"
   ]
  },
  {
   "cell_type": "code",
   "execution_count": 4,
   "metadata": {},
   "outputs": [],
   "source": [
    "def monkeynize(monkey, monkeys):\n",
    "    for item in monkey['items']:\n",
    "        a = item if isinstance(monkey['operation'][0], str) else monkey['operation'][0]\n",
    "        b = item if isinstance(monkey['operation'][2], str) else monkey['operation'][2]\n",
    "        \n",
    "        if '+' in monkey['operation']:\n",
    "            x = floor((a + b) / 3)\n",
    "        elif '*' in monkey['operation']:\n",
    "            x = floor((a * b) / 3)\n",
    "\n",
    "        target_monkey = monkey['test_true'] if x % monkey['test'] == 0 else monkey['test_false']\n",
    "\n",
    "        monkeys[target_monkey]['items'].append(x)\n",
    "        monkey['inspection_counter'] += 1\n",
    "\n",
    "    monkey['items'] = []"
   ]
  },
  {
   "cell_type": "code",
   "execution_count": 5,
   "metadata": {},
   "outputs": [],
   "source": [
    "def make_storable(n, deviders):\n",
    "    hcm = reduce(lambda x, y: x*y, deviders)\n",
    "\n",
    "    return n - ((n // hcm) * hcm)"
   ]
  },
  {
   "cell_type": "code",
   "execution_count": 6,
   "metadata": {},
   "outputs": [],
   "source": [
    "def insane_monkeynize(monkey, monkeys):\n",
    "    deviders = [m['test'] for i, m in monkeys.items()]\n",
    "\n",
    "    for item in monkey['items']:\n",
    "        a = item if isinstance(monkey['operation'][0], str) else monkey['operation'][0]\n",
    "        b = item if isinstance(monkey['operation'][2], str) else monkey['operation'][2]\n",
    "        \n",
    "        if '+' in monkey['operation']:\n",
    "            x = a + b\n",
    "        elif '*' in monkey['operation']:\n",
    "            x = a * b\n",
    "\n",
    "        target_monkey = monkey['test_true'] if x % monkey['test'] == 0 else monkey['test_false']\n",
    "\n",
    "        monkeys[target_monkey]['items'].append(make_storable(x, deviders))\n",
    "        monkey['inspection_counter'] += 1\n",
    "\n",
    "    monkey['items'] = []"
   ]
  },
  {
   "cell_type": "code",
   "execution_count": 7,
   "metadata": {},
   "outputs": [],
   "source": [
    "with open(\"input_11.txt\", \"r\") as input_file:\n",
    "    data = input_file.read()\n",
    "\n",
    "#data = test_data\n",
    "\n",
    "monkeys = prepare_monkeys(data)"
   ]
  },
  {
   "cell_type": "code",
   "execution_count": 8,
   "metadata": {},
   "outputs": [
    {
     "data": {
      "text/plain": [
       "120056"
      ]
     },
     "execution_count": 8,
     "metadata": {},
     "output_type": "execute_result"
    }
   ],
   "source": [
    "monkeys = prepare_monkeys(data)\n",
    "r = 0\n",
    "\n",
    "while r != 20: \n",
    "    for i, monkey in monkeys.items():\n",
    "        monkeynize(monkeys[i], monkeys)\n",
    "    \n",
    "    r += 1\n",
    "\n",
    "reduce(lambda x, y: x*y, sorted([m['inspection_counter'] for i, m in monkeys.items()])[-2:])"
   ]
  },
  {
   "cell_type": "code",
   "execution_count": 9,
   "metadata": {},
   "outputs": [
    {
     "data": {
      "text/plain": [
       "21816744824"
      ]
     },
     "execution_count": 9,
     "metadata": {},
     "output_type": "execute_result"
    }
   ],
   "source": [
    "monkeys = prepare_monkeys(data)\n",
    "r = 0\n",
    "\n",
    "while r != 10000: \n",
    "    for i, monkey in monkeys.items():\n",
    "        insane_monkeynize(monkeys[i], monkeys)\n",
    "    \n",
    "    r += 1\n",
    " \n",
    "reduce(lambda x, y: x*y, sorted([m['inspection_counter'] for i, m in monkeys.items()])[-2:])"
   ]
  }
 ],
 "metadata": {
  "kernelspec": {
   "display_name": "Python 3.10.5 ('venv-jupyter')",
   "language": "python",
   "name": "python3"
  },
  "language_info": {
   "codemirror_mode": {
    "name": "ipython",
    "version": 3
   },
   "file_extension": ".py",
   "mimetype": "text/x-python",
   "name": "python",
   "nbconvert_exporter": "python",
   "pygments_lexer": "ipython3",
   "version": "3.10.5"
  },
  "orig_nbformat": 4,
  "vscode": {
   "interpreter": {
    "hash": "62abda820e838343c9dc43ed9e178e200f47ce3a485529130a5bf834a20b7dfe"
   }
  }
 },
 "nbformat": 4,
 "nbformat_minor": 2
}
