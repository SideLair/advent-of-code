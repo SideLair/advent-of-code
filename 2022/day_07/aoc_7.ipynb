{
 "cells": [
  {
   "cell_type": "markdown",
   "metadata": {},
   "source": [
    "### Day 7 - filesystem\n",
    "\n",
    "https://adventofcode.com/2022/day/7"
   ]
  },
  {
   "cell_type": "code",
   "execution_count": 1,
   "metadata": {},
   "outputs": [],
   "source": [
    "test_data = \"\"\"$ cd /\n",
    "$ ls\n",
    "dir a\n",
    "14848514 b.txt\n",
    "8504156 c.dat\n",
    "dir d\n",
    "$ cd a\n",
    "$ ls\n",
    "dir e\n",
    "29116 f\n",
    "2557 g\n",
    "62596 h.lst\n",
    "$ cd e\n",
    "$ ls\n",
    "584 i\n",
    "$ cd ..\n",
    "$ cd ..\n",
    "$ cd d\n",
    "$ ls\n",
    "4060174 j\n",
    "8033020 d.log\n",
    "5626152 d.ext\n",
    "7214296 k\"\"\""
   ]
  },
  {
   "cell_type": "code",
   "execution_count": 92,
   "metadata": {},
   "outputs": [],
   "source": [
    "with open(\"input_07.txt\", \"r\") as input_file:\n",
    "    lines = input_file.read().strip().split('\\n')\n",
    "\n",
    "#lines = test_data.strip().split('\\n')"
   ]
  },
  {
   "cell_type": "code",
   "execution_count": null,
   "metadata": {},
   "outputs": [],
   "source": [
    "dirs = {}\n",
    "\n",
    "filesystem = {\n",
    "    'name' : 'ROOT',\n",
    "    'type' : 'ROOT',\n",
    "    'size' : 0,\n",
    "    'parent' : None,\n",
    "    'children' : {}\n",
    "    }\n",
    "\n",
    "filesystem['children']['/'] = {\n",
    "    'path' : '/',\n",
    "    'type' : 'dir',\n",
    "    'size' : 0,\n",
    "    'parent' : filesystem,\n",
    "    'children' : {}\n",
    "    }\n",
    "\n",
    "current_node = filesystem\n",
    "\n",
    "for line in lines:\n",
    "    print(line)\n",
    "    if '$' in line:\n",
    "        commands = line.split(' ')\n",
    "\n",
    "        if 'cd' in commands:\n",
    "            _, cmd, dirname = commands\n",
    "\n",
    "            if dirname == '..':\n",
    "                current_node =  current_node['parent']\n",
    "            else:\n",
    "                current_node = current_node['children'][dirname]\n",
    "        \n",
    "        elif 'ls' in commands:\n",
    "            pass\n",
    "\n",
    "    elif 'dir' in line:\n",
    "        dirname = line.split(' ')[1]\n",
    "        current_node['children'][dirname] = {\n",
    "                    'path' : f'{current_node[\"path\"]}/{dirname}',\n",
    "                    'type' : 'dir',\n",
    "                    'size' : 0,\n",
    "                    'parent' : current_node,\n",
    "                    'children' : {}\n",
    "                }\n",
    "\n",
    "        dirs[current_node['children'][dirname]['path']] = current_node['children'][dirname]\n",
    "\n",
    "    else:\n",
    "        filesize, filename = line.split(' ')\n",
    "        current_node['children'][filename] = {\n",
    "                    'path' : f'{current_node[\"path\"]}/{filename}',\n",
    "                    'type' : 'file',\n",
    "                    'size' : int(filesize),\n",
    "                    'parent' : current_node,\n",
    "                    'children' : {}\n",
    "                }\n",
    "\n",
    "        #probublame prirustek velikosti\n",
    "        temp_node = current_node       \n",
    "        while temp_node['type'] != 'ROOT':\n",
    "            ch_sum = sum([temp_node['children'][fname]['size'] for fname in temp_node['children'].keys()])\n",
    "            temp_node['size'] = ch_sum\n",
    "            temp_node = temp_node['parent']\n",
    "        else:\n",
    "            #jeste jednou pro /\n",
    "            temp_node['size'] = sum([temp_node['children'][fname]['size'] for fname in temp_node['children'].keys()])\n"
   ]
  },
  {
   "cell_type": "code",
   "execution_count": 97,
   "metadata": {},
   "outputs": [
    {
     "data": {
      "text/plain": [
       "1513699"
      ]
     },
     "execution_count": 97,
     "metadata": {},
     "output_type": "execute_result"
    }
   ],
   "source": [
    "sum([dirs[k]['size'] for k in dirs.keys() if int(dirs[k]['size']) <= 100_000])"
   ]
  },
  {
   "cell_type": "code",
   "execution_count": 102,
   "metadata": {},
   "outputs": [
    {
     "data": {
      "text/plain": [
       "7991939"
      ]
     },
     "execution_count": 102,
     "metadata": {},
     "output_type": "execute_result"
    }
   ],
   "source": [
    "total = 70_000_000\n",
    "needed = 30_000_000\n",
    "fsystem_size = filesystem['children']['/']['size']\n",
    "\n",
    "to_erase = needed - (total - fsystem_size)\n",
    "\n",
    "min([dirs[k]['size'] for k in dirs.keys() if dirs[k]['size'] >= to_erase])"
   ]
  }
 ],
 "metadata": {
  "kernelspec": {
   "display_name": "Python 3.10.5 ('venv-jupyter')",
   "language": "python",
   "name": "python3"
  },
  "language_info": {
   "codemirror_mode": {
    "name": "ipython",
    "version": 3
   },
   "file_extension": ".py",
   "mimetype": "text/x-python",
   "name": "python",
   "nbconvert_exporter": "python",
   "pygments_lexer": "ipython3",
   "version": "3.10.5"
  },
  "orig_nbformat": 4,
  "vscode": {
   "interpreter": {
    "hash": "62abda820e838343c9dc43ed9e178e200f47ce3a485529130a5bf834a20b7dfe"
   }
  }
 },
 "nbformat": 4,
 "nbformat_minor": 2
}
