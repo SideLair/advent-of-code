{
 "cells": [
  {
   "cell_type": "markdown",
   "metadata": {},
   "source": [
    "### Day 5 - supply stacks\n",
    "\n",
    "https://adventofcode.com/2022/day/5"
   ]
  },
  {
   "cell_type": "code",
   "execution_count": 1,
   "metadata": {},
   "outputs": [],
   "source": [
    "import re"
   ]
  },
  {
   "cell_type": "code",
   "execution_count": 2,
   "metadata": {},
   "outputs": [],
   "source": [
    "test_data = \"\"\"    [D]    \n",
    "[N] [C]    \n",
    "[Z] [M] [P]\n",
    " 1   2   3 \n",
    "\n",
    "move 1 from 2 to 1\n",
    "move 3 from 1 to 3\n",
    "move 2 from 2 to 1\n",
    "move 1 from 1 to 2\n",
    "\"\"\""
   ]
  },
  {
   "cell_type": "code",
   "execution_count": 3,
   "metadata": {},
   "outputs": [],
   "source": [
    "with open(\"input_05.txt\", \"r\") as input_file:\n",
    "    data = input_file.read()\n",
    "\n",
    "#data = test_data\n",
    "\n",
    "stackes, moves = data.split('\\n\\n')\n",
    "stackes = stackes.split('\\n')[:-1]\n",
    "moves = moves.strip().split('\\n')"
   ]
  },
  {
   "cell_type": "code",
   "execution_count": 4,
   "metadata": {},
   "outputs": [],
   "source": [
    "def prepare_stackes(stackes):\n",
    "    pillars = [['dummy']]\n",
    "\n",
    "    for i in range(stackes[::-1][0].count('[')):\n",
    "        pillars.append(list())\n",
    "\n",
    "\n",
    "    for line in stackes[::-1]:\n",
    "        line_stackes = [int(i / 4) + 1 for i in range(len(line)) if line.startswith('[', i)]\n",
    "        crate_content_index = [i + 1 for i in range(len(line)) if line.startswith('[', i)]\n",
    "\n",
    "        for i, stack_index in enumerate(line_stackes):\n",
    "            pillars[stack_index].append(line[crate_content_index[i]])\n",
    "\n",
    "    return pillars"
   ]
  },
  {
   "cell_type": "code",
   "execution_count": 5,
   "metadata": {},
   "outputs": [
    {
     "data": {
      "text/plain": [
       "[['dummy'],\n",
       " ['F', 'H', 'B', 'V', 'R', 'Q', 'D', 'P'],\n",
       " ['L', 'D', 'Z', 'Q', 'W', 'V'],\n",
       " ['H', 'L', 'Z', 'Q', 'G', 'R', 'P', 'C'],\n",
       " ['R', 'D', 'H', 'F', 'J', 'V', 'B'],\n",
       " ['Z', 'W', 'L', 'C'],\n",
       " ['J', 'R', 'P', 'N', 'T', 'G', 'V', 'M'],\n",
       " ['J', 'R', 'L', 'V', 'M', 'B', 'S'],\n",
       " ['D', 'P', 'J'],\n",
       " ['D', 'C', 'N', 'W', 'V']]"
      ]
     },
     "execution_count": 5,
     "metadata": {},
     "output_type": "execute_result"
    }
   ],
   "source": [
    "prepare_stackes(stackes)"
   ]
  },
  {
   "cell_type": "code",
   "execution_count": null,
   "metadata": {},
   "outputs": [],
   "source": [
    "moves"
   ]
  },
  {
   "cell_type": "code",
   "execution_count": 13,
   "metadata": {},
   "outputs": [
    {
     "data": {
      "text/plain": [
       "'JDTMRWCQJ'"
      ]
     },
     "execution_count": 13,
     "metadata": {},
     "output_type": "execute_result"
    }
   ],
   "source": [
    "pillars = prepare_stackes(stackes)\n",
    "\n",
    "for move in moves:\n",
    "    size, fr, to = [int(item) for item in re.split(r'move (\\d+) from (\\d+) to (\\d+)', move)[1:-1]]\n",
    "\n",
    "    #reversed\n",
    "    moving_stack = pillars[fr][-size:][::-1]\n",
    "    \n",
    "    pillars[to].extend(moving_stack)\n",
    "    pillars[fr] = pillars[fr][:-size]\n",
    "\n",
    "\"\".join([plr[-1] for plr in pillars[1:]])"
   ]
  },
  {
   "cell_type": "code",
   "execution_count": null,
   "metadata": {},
   "outputs": [
    {
     "data": {
      "text/plain": [
       "'VHJDDCWRD'"
      ]
     },
     "metadata": {},
     "output_type": "display_data"
    }
   ],
   "source": [
    "pillars = prepare_stackes(stackes)\n",
    "\n",
    "for move in moves:\n",
    "    size, fr, to = [int(item) for item in re.split(r'move (\\d+) from (\\d+) to (\\d+)', move)[1:-1]]\n",
    "\n",
    "    moving_stack = pillars[fr][-size:]\n",
    "    \n",
    "    pillars[to].extend(moving_stack)\n",
    "    pillars[fr] = pillars[fr][:-size]\n",
    "\n",
    "\"\".join([plr[-1] for plr in pillars[1:]])"
   ]
  }
 ],
 "metadata": {
  "kernelspec": {
   "display_name": "Python 3.10.5 ('venv-jupyter')",
   "language": "python",
   "name": "python3"
  },
  "language_info": {
   "codemirror_mode": {
    "name": "ipython",
    "version": 3
   },
   "file_extension": ".py",
   "mimetype": "text/x-python",
   "name": "python",
   "nbconvert_exporter": "python",
   "pygments_lexer": "ipython3",
   "version": "3.10.5"
  },
  "orig_nbformat": 4,
  "vscode": {
   "interpreter": {
    "hash": "62abda820e838343c9dc43ed9e178e200f47ce3a485529130a5bf834a20b7dfe"
   }
  }
 },
 "nbformat": 4,
 "nbformat_minor": 2
}
