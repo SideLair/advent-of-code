{
 "cells": [
  {
   "cell_type": "markdown",
   "metadata": {},
   "source": [
    "### Day 2 - rock paper scissors\n",
    "\n",
    "https://adventofcode.com/2022/day/2"
   ]
  },
  {
   "cell_type": "code",
   "execution_count": 70,
   "metadata": {},
   "outputs": [],
   "source": [
    "test_data = \"\"\"\n",
    "A Y\n",
    "B X\n",
    "C Z\n",
    "\"\"\""
   ]
  },
  {
   "cell_type": "code",
   "execution_count": 71,
   "metadata": {},
   "outputs": [],
   "source": [
    "points_round = {\n",
    "    'A' : 1,\n",
    "    'X' : 1,\n",
    "    'B' : 2,\n",
    "    'Y' : 2,\n",
    "    'C' : 3,\n",
    "    'Z' : 3,\n",
    "}\n",
    "\n",
    "points_result_silver = {\n",
    "    'AY' : 6,\n",
    "    'BZ' : 6,\n",
    "    'CX' : 6,\n",
    "    'AX' : 3,\n",
    "    'BY' : 3,\n",
    "    'CZ' : 3,\n",
    "    'BX' : 0,\n",
    "    'CY' : 0,\n",
    "    'AZ' : 0\n",
    "}\n",
    "\n",
    "points_result_gold = {\n",
    "    'AY' : 3,\n",
    "    'BZ' : 6,\n",
    "    'CX' : 0,\n",
    "    'AX' : 0,\n",
    "    'BY' : 3,\n",
    "    'CZ' : 6,\n",
    "    'BX' : 0,\n",
    "    'CY' : 3,\n",
    "    'AZ' : 6\n",
    "}\n",
    "\n",
    "loser_conversion = {\n",
    "    'A' : 'Z',\n",
    "    'B' : 'X',\n",
    "    'C' : 'Y',\n",
    "}\n",
    "\n",
    "winner_conversion = {\n",
    "    'A' : 'Y',\n",
    "    'B' : 'Z',\n",
    "    'C' : 'X',\n",
    "}"
   ]
  },
  {
   "cell_type": "code",
   "execution_count": 72,
   "metadata": {},
   "outputs": [],
   "source": [
    "input_file = open(\"input_02.txt\", \"r\")\n",
    "data = input_file.read()\n",
    "#data = test_data\n",
    "\n",
    "rounds = data.strip().split('\\n')"
   ]
  },
  {
   "cell_type": "code",
   "execution_count": 73,
   "metadata": {},
   "outputs": [
    {
     "data": {
      "text/plain": [
       "10404"
      ]
     },
     "execution_count": 73,
     "metadata": {},
     "output_type": "execute_result"
    }
   ],
   "source": [
    "#silver\n",
    "sum([points_round[round.split(' ')[1]] + points_result_silver[round.replace(' ', '')] for round in rounds])"
   ]
  },
  {
   "cell_type": "code",
   "execution_count": 74,
   "metadata": {},
   "outputs": [
    {
     "data": {
      "text/plain": [
       "10334"
      ]
     },
     "execution_count": 74,
     "metadata": {},
     "output_type": "execute_result"
    }
   ],
   "source": [
    "#gold\n",
    "results = []\n",
    "\n",
    "for round in rounds:\n",
    "    res_pts = points_result_gold[round.replace(' ', '')]\n",
    "    opp_move, my_move = round.split(' ')\n",
    "\n",
    "    if my_move == 'X': #need lose\n",
    "        results.append(points_round[loser_conversion[opp_move]] + res_pts)\n",
    "    elif my_move == 'Z': #need win\n",
    "        results.append(points_round[winner_conversion[opp_move]] + res_pts)\n",
    "    else:\n",
    "        results.append(points_round[opp_move] + res_pts)\n",
    "\n",
    "sum(results)"
   ]
  }
 ],
 "metadata": {
  "kernelspec": {
   "display_name": "Python 3.10.5 ('venv-jupyter')",
   "language": "python",
   "name": "python3"
  },
  "language_info": {
   "codemirror_mode": {
    "name": "ipython",
    "version": 3
   },
   "file_extension": ".py",
   "mimetype": "text/x-python",
   "name": "python",
   "nbconvert_exporter": "python",
   "pygments_lexer": "ipython3",
   "version": "3.10.5"
  },
  "orig_nbformat": 4,
  "vscode": {
   "interpreter": {
    "hash": "62abda820e838343c9dc43ed9e178e200f47ce3a485529130a5bf834a20b7dfe"
   }
  }
 },
 "nbformat": 4,
 "nbformat_minor": 2
}
