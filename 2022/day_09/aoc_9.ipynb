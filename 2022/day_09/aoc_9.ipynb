{
 "cells": [
  {
   "cell_type": "markdown",
   "metadata": {},
   "source": [
    "### Day 9 - rope bridge\n",
    "\n",
    "https://adventofcode.com/2022/day/9"
   ]
  },
  {
   "cell_type": "code",
   "execution_count": 1,
   "metadata": {},
   "outputs": [],
   "source": [
    "test_data = \"\"\"R 4\n",
    "U 4\n",
    "L 3\n",
    "D 1\n",
    "R 4\n",
    "D 1\n",
    "L 5\n",
    "R 2\"\"\""
   ]
  },
  {
   "cell_type": "code",
   "execution_count": 2,
   "metadata": {},
   "outputs": [],
   "source": [
    "test_data = \"\"\"R 5\n",
    "U 8\n",
    "L 8\n",
    "D 3\n",
    "R 17\n",
    "D 10\n",
    "L 25\n",
    "U 20\"\"\""
   ]
  },
  {
   "cell_type": "code",
   "execution_count": 3,
   "metadata": {},
   "outputs": [],
   "source": [
    "with open(\"input_09.txt\", \"r\") as input_file:\n",
    "    instructions = input_file.read().strip().split('\\n')\n",
    "\n",
    "#instructions = test_data.strip().split('\\n')"
   ]
  },
  {
   "cell_type": "code",
   "execution_count": 15,
   "metadata": {},
   "outputs": [],
   "source": [
    "def normalize(n):\n",
    "    if n > 0:\n",
    "        return 1\n",
    "    elif n < 0:\n",
    "        return -1\n",
    "    else:\n",
    "        return 0"
   ]
  },
  {
   "cell_type": "code",
   "execution_count": 5,
   "metadata": {},
   "outputs": [],
   "source": [
    "def build_generator(instructions):\n",
    "    for c in ''.join([''.join(ins[0] * int(ins.split(' ')[1])) for ins in instructions]):\n",
    "        yield c"
   ]
  },
  {
   "cell_type": "code",
   "execution_count": 18,
   "metadata": {},
   "outputs": [],
   "source": [
    "def move_knot(head_knot, tail_knot):\n",
    "    x_diff = head_knot[0] - tail_knot[0]\n",
    "    y_diff = head_knot[1] - tail_knot[1]\n",
    "\n",
    "    x = normalize(x_diff) if abs(x_diff) > 1 or abs(y_diff) > 1 else 0\n",
    "    y = normalize(y_diff) if abs(x_diff) > 1 or abs(y_diff) > 1 else 0\n",
    "\n",
    "    return (tail_knot[0] + x, tail_knot[1] + y)"
   ]
  },
  {
   "cell_type": "code",
   "execution_count": 11,
   "metadata": {},
   "outputs": [],
   "source": [
    "def get_tail_position_history(instructions, rope_length):\n",
    "    inst_gen = build_generator(instructions)\n",
    "    rope = [(0, 0) for _ in range(rope_length)]\n",
    "    tail_positions = set()\n",
    "        \n",
    "    for dir in inst_gen:\n",
    "        new_rope = []\n",
    "\n",
    "        for i, knot in enumerate(rope):\n",
    "            if i == rope_length - 1:\n",
    "                tail_positions.add(new_rope[i])\n",
    "                break\n",
    "\n",
    "            if i == 0:\n",
    "                if dir == 'U':\n",
    "                    new_head = (knot[0] + 1, knot[1])\n",
    "                elif dir == 'D':\n",
    "                    new_head = (knot[0] - 1, knot[1])\n",
    "                elif dir == 'L':\n",
    "                    new_head = (knot[0], knot[1] - 1)\n",
    "                elif dir == 'R':\n",
    "                    new_head = (knot[0], knot[1] + 1)\n",
    "\n",
    "                new_rope.append(new_head)\n",
    "                \n",
    "            new_knot = move_knot(new_rope[i], rope[i+1])\n",
    "            new_rope.append(new_knot)\n",
    "\n",
    "        rope = new_rope\n",
    "\n",
    "    return len(tail_positions)"
   ]
  },
  {
   "cell_type": "code",
   "execution_count": 19,
   "metadata": {},
   "outputs": [
    {
     "data": {
      "text/plain": [
       "6494"
      ]
     },
     "execution_count": 19,
     "metadata": {},
     "output_type": "execute_result"
    }
   ],
   "source": [
    "get_tail_position_history(instructions, rope_length=2)"
   ]
  },
  {
   "cell_type": "code",
   "execution_count": 20,
   "metadata": {},
   "outputs": [
    {
     "data": {
      "text/plain": [
       "2691"
      ]
     },
     "execution_count": 20,
     "metadata": {},
     "output_type": "execute_result"
    }
   ],
   "source": [
    "get_tail_position_history(instructions, rope_length=10)"
   ]
  }
 ],
 "metadata": {
  "kernelspec": {
   "display_name": "Python 3.10.5 ('venv-jupyter')",
   "language": "python",
   "name": "python3"
  },
  "language_info": {
   "codemirror_mode": {
    "name": "ipython",
    "version": 3
   },
   "file_extension": ".py",
   "mimetype": "text/x-python",
   "name": "python",
   "nbconvert_exporter": "python",
   "pygments_lexer": "ipython3",
   "version": "3.10.5"
  },
  "orig_nbformat": 4,
  "vscode": {
   "interpreter": {
    "hash": "62abda820e838343c9dc43ed9e178e200f47ce3a485529130a5bf834a20b7dfe"
   }
  }
 },
 "nbformat": 4,
 "nbformat_minor": 2
}
