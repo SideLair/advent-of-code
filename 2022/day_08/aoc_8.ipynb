{
 "cells": [
  {
   "cell_type": "markdown",
   "metadata": {},
   "source": [
    "### Day 8 - trees\n",
    "\n",
    "https://adventofcode.com/2022/day/8"
   ]
  },
  {
   "cell_type": "code",
   "execution_count": 2,
   "metadata": {},
   "outputs": [],
   "source": [
    "import numpy as np"
   ]
  },
  {
   "cell_type": "code",
   "execution_count": 3,
   "metadata": {},
   "outputs": [],
   "source": [
    "test_data = \"\"\"30373\n",
    "25512\n",
    "65332\n",
    "33549\n",
    "35390\"\"\""
   ]
  },
  {
   "cell_type": "code",
   "execution_count": 75,
   "metadata": {},
   "outputs": [],
   "source": [
    "with open(\"input_08.txt\", \"r\") as input_file:\n",
    "    lines = input_file.read().strip().split('\\n')\n",
    "\n",
    "#lines = test_data.strip().split('\\n')"
   ]
  },
  {
   "cell_type": "code",
   "execution_count": 87,
   "metadata": {},
   "outputs": [
    {
     "data": {
      "text/plain": [
       "1789"
      ]
     },
     "execution_count": 87,
     "metadata": {},
     "output_type": "execute_result"
    }
   ],
   "source": [
    "visible_trees = set()\n",
    "\n",
    "#v jednom behu projdu line z obou stran\n",
    "for y, line in enumerate(lines):\n",
    "    l_top = -1\n",
    "    r_top = -1\n",
    "\n",
    "    for x in range(0, int(len(line)) - 1):\n",
    "        if int(line[x]) > l_top:\n",
    "            l_top = int(line[x])\n",
    "            visible_trees.add((y, x))\n",
    "\n",
    "        if int(line[-x-1]) > r_top:\n",
    "            r_top = int(line[-x-1])\n",
    "            visible_trees.add((y, len(line)-x-1))\n",
    "\n",
    "#pak transpozice abych prosel i vertikaly\n",
    "trans_lines = [''.join(a) for a in np.array([[c for c in line] for line in lines]).transpose()]\n",
    "\n",
    "for y, line in enumerate(trans_lines):\n",
    "    l_top = -1\n",
    "    r_top = -1\n",
    "\n",
    "    for x in range(0, int(len(line)) - 1):\n",
    "        if int(line[x]) > l_top:\n",
    "            l_top = int(line[x])\n",
    "            visible_trees.add((x, y))\n",
    "\n",
    "        if int(line[-x-1]) > r_top:\n",
    "            r_top = int(line[-x-1])\n",
    "            visible_trees.add((len(line)-x-1, y))\n",
    "\n",
    "len(visible_trees)"
   ]
  },
  {
   "cell_type": "code",
   "execution_count": 88,
   "metadata": {},
   "outputs": [
    {
     "data": {
      "text/plain": [
       "314820"
      ]
     },
     "execution_count": 88,
     "metadata": {},
     "output_type": "execute_result"
    }
   ],
   "source": [
    "coords = [(x, y) for x in range(len(lines)) for y in range(len(lines))]\n",
    "score = []\n",
    "\n",
    "for y, x in coords:\n",
    "    radius = 1\n",
    "    top_tree = lines[y][x]\n",
    "\n",
    "    up_in_progress = True\n",
    "    up_radius = 0\n",
    "\n",
    "    down_in_progress = True\n",
    "    down_radius = 0\n",
    "\n",
    "    left_in_progress = True\n",
    "    left_radius = 0\n",
    "\n",
    "    right_in_progress = True\n",
    "    right_radius = 0\n",
    "    \n",
    "\n",
    "    while up_in_progress or down_in_progress or left_in_progress or right_in_progress:\n",
    "        if up_in_progress:\n",
    "            if (y - radius) < 0 or (y - radius > (len(lines) - 1)):\n",
    "                up_in_progress = False\n",
    "            elif (lines[y-radius][x] < top_tree):\n",
    "                up_radius = radius\n",
    "            else:\n",
    "                up_in_progress = False\n",
    "                up_radius = radius\n",
    "\n",
    "        if down_in_progress:\n",
    "            if (y + radius) < 0 or (y + radius > (len(lines) - 1)):\n",
    "                down_in_progress = False\n",
    "            elif (lines[y+radius][x] < top_tree):\n",
    "                down_radius = radius\n",
    "            else:\n",
    "                down_in_progress = False\n",
    "                down_radius = radius\n",
    "\n",
    "        if left_in_progress:\n",
    "            if (x - radius) < 0 or (x - radius > (len(lines) - 1)):\n",
    "                left_in_progress = False\n",
    "            elif (lines[y][x-radius] < top_tree):\n",
    "                left_radius = radius\n",
    "            else:\n",
    "                left_in_progress = False\n",
    "                left_radius = radius\n",
    "\n",
    "        if right_in_progress:\n",
    "            if (x + radius) < 0 or (x + radius > (len(lines) - 1)):\n",
    "                right_in_progress = False\n",
    "            elif (lines[y][x+radius] < top_tree):\n",
    "                right_radius = radius\n",
    "            else:\n",
    "                right_in_progress = False\n",
    "                right_radius = radius\n",
    "\n",
    "        radius += 1\n",
    "\n",
    "    score.append(up_radius * down_radius * left_radius * right_radius)\n",
    "\n",
    "max(score)"
   ]
  }
 ],
 "metadata": {
  "kernelspec": {
   "display_name": "Python 3.10.5 ('venv-jupyter')",
   "language": "python",
   "name": "python3"
  },
  "language_info": {
   "codemirror_mode": {
    "name": "ipython",
    "version": 3
   },
   "file_extension": ".py",
   "mimetype": "text/x-python",
   "name": "python",
   "nbconvert_exporter": "python",
   "pygments_lexer": "ipython3",
   "version": "3.10.5"
  },
  "orig_nbformat": 4,
  "vscode": {
   "interpreter": {
    "hash": "62abda820e838343c9dc43ed9e178e200f47ce3a485529130a5bf834a20b7dfe"
   }
  }
 },
 "nbformat": 4,
 "nbformat_minor": 2
}
