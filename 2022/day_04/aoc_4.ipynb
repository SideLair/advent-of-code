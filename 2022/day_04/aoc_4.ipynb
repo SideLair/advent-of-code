{
 "cells": [
  {
   "cell_type": "markdown",
   "metadata": {},
   "source": [
    "### Day 4 - camp cleaning\n",
    "\n",
    "https://adventofcode.com/2022/day/4"
   ]
  },
  {
   "cell_type": "code",
   "execution_count": 1,
   "metadata": {},
   "outputs": [],
   "source": [
    "import re"
   ]
  },
  {
   "cell_type": "code",
   "execution_count": 2,
   "metadata": {},
   "outputs": [],
   "source": [
    "test_data = \"\"\"\n",
    "2-4,6-8\n",
    "2-3,4-5\n",
    "5-7,7-9\n",
    "2-8,3-7\n",
    "6-6,4-6\n",
    "2-6,4-8\n",
    "\"\"\""
   ]
  },
  {
   "cell_type": "code",
   "execution_count": 3,
   "metadata": {},
   "outputs": [],
   "source": [
    "with open(\"input_04.txt\", \"r\") as input_file:\n",
    "    data = input_file.read()\n",
    "\n",
    "#data = test_data\n",
    "\n",
    "ranges = data.strip().split('\\n')"
   ]
  },
  {
   "cell_type": "code",
   "execution_count": 4,
   "metadata": {},
   "outputs": [
    {
     "data": {
      "text/plain": [
       "444"
      ]
     },
     "execution_count": 4,
     "metadata": {},
     "output_type": "execute_result"
    }
   ],
   "source": [
    "overlays = []\n",
    "\n",
    "for r in ranges:\n",
    "    current_range = re.split(r'^(\\d+)-(\\d+),(\\d+)-(\\d+)', r)[1:-1]\n",
    "\n",
    "    min_a, max_a, min_b, max_b = [int(val) for val in current_range]\n",
    "    if ((min_a <= min_b) and (max_a >= max_b)) or ((min_a >= min_b) and (max_a <= max_b)):\n",
    "        overlays.append(current_range)\n",
    "\n",
    "len(overlays)"
   ]
  },
  {
   "cell_type": "code",
   "execution_count": 5,
   "metadata": {},
   "outputs": [
    {
     "data": {
      "text/plain": [
       "801"
      ]
     },
     "execution_count": 5,
     "metadata": {},
     "output_type": "execute_result"
    }
   ],
   "source": [
    "overlays = []\n",
    "\n",
    "for r in ranges:\n",
    "    current_range = re.split(r'^(\\d+)-(\\d+),(\\d+)-(\\d+)', r)[1:-1]\n",
    "\n",
    "    min_a, max_a, min_b, max_b = [int(val) for val in current_range]\n",
    "\n",
    "    if ((max_a >= min_b) and (min_a <= max_b)):\n",
    "        overlays.append(current_range)\n",
    "\n",
    "len(overlays)"
   ]
  }
 ],
 "metadata": {
  "kernelspec": {
   "display_name": "Python 3.10.5 ('venv-jupyter')",
   "language": "python",
   "name": "python3"
  },
  "language_info": {
   "codemirror_mode": {
    "name": "ipython",
    "version": 3
   },
   "file_extension": ".py",
   "mimetype": "text/x-python",
   "name": "python",
   "nbconvert_exporter": "python",
   "pygments_lexer": "ipython3",
   "version": "3.10.5"
  },
  "orig_nbformat": 4,
  "vscode": {
   "interpreter": {
    "hash": "62abda820e838343c9dc43ed9e178e200f47ce3a485529130a5bf834a20b7dfe"
   }
  }
 },
 "nbformat": 4,
 "nbformat_minor": 2
}
