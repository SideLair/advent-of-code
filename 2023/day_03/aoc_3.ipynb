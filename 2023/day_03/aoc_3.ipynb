{
 "cells": [
  {
   "cell_type": "code",
   "execution_count": 1,
   "metadata": {},
   "outputs": [],
   "source": [
    "import math\n",
    "import pandas as pd\n",
    "from itertools import product\n",
    "\n",
    "pd.set_option('display.max_rows', None)\n",
    "pd.set_option('display.max_colwidth', None)"
   ]
  },
  {
   "cell_type": "code",
   "execution_count": 2,
   "metadata": {},
   "outputs": [
    {
     "data": {
      "text/plain": [
       "['467..114..',\n",
       " '...*......',\n",
       " '..35..633.',\n",
       " '......#...',\n",
       " '617*......',\n",
       " '.....+.58.',\n",
       " '..592.....',\n",
       " '......755.',\n",
       " '...$.*....',\n",
       " '.664.598..']"
      ]
     },
     "execution_count": 2,
     "metadata": {},
     "output_type": "execute_result"
    }
   ],
   "source": [
    "input = [item.strip('\\n') for item in open('test_input.txt').readlines()]\n",
    "input"
   ]
  },
  {
   "cell_type": "code",
   "execution_count": 3,
   "metadata": {},
   "outputs": [],
   "source": [
    "input = [item.strip('\\n') for item in open('input_03.txt').readlines()]"
   ]
  },
  {
   "cell_type": "code",
   "execution_count": 4,
   "metadata": {},
   "outputs": [],
   "source": [
    "def get_touched_coords(surr_coords, symbol_coords):\n",
    "    coords = []\n",
    "\n",
    "    for sym in symbol_coords:\n",
    "        for sur in surr_coords:\n",
    "            if (sym[1] == sur[0]) and (sym[2] == sur[1]):\n",
    "                coords.append(sym)\n",
    "\n",
    "    return coords\n",
    "\n",
    "def get_surr_coords(coords, row_cnt, col_cnt):\n",
    "    min_r = coords[0] - 1 if coords[0] - 1 >= 0 else 0\n",
    "    max_r = coords[0] + 1 if coords[0] + 1 < row_cnt else row_cnt \n",
    "    min_c = coords[1] - 1 if coords[1] - 1 >= 0 else 0\n",
    "    max_c = coords[1] + 1 if coords[1] + 1 < col_cnt else col_cnt \n",
    "\n",
    "    return list(product(range(min_r, max_r+1), range(min_c, max_c+1)))"
   ]
  },
  {
   "cell_type": "code",
   "execution_count": 5,
   "metadata": {},
   "outputs": [],
   "source": [
    "symbol_coords = []\n",
    "\n",
    "for row_index, row in enumerate(input):\n",
    "    for col_index, c in enumerate(row):\n",
    "        if c not in '0123456789.':\n",
    "            symbol_coords.append((c, row_index, col_index))"
   ]
  },
  {
   "cell_type": "code",
   "execution_count": 6,
   "metadata": {},
   "outputs": [
    {
     "data": {
      "text/plain": [
       "531932"
      ]
     },
     "execution_count": 6,
     "metadata": {},
     "output_type": "execute_result"
    }
   ],
   "source": [
    "row_cnt = len(input)\n",
    "col_cnt = len(input[0])\n",
    "dist = 1\n",
    "\n",
    "number_coords = {}\n",
    "res = 0\n",
    "anal = []\n",
    "curr_num = ''\n",
    "curr_num_coords = []\n",
    "\n",
    "for row_index, row in enumerate(input):\n",
    "    for col_index, c in enumerate(row):\n",
    "        if (not c.isnumeric() and len(curr_num) > 0) or (col_index == 0 and curr_num != ''):\n",
    "            surround_coords = []\n",
    "\n",
    "            for coords in curr_num_coords:\n",
    "                surround_coords.extend(get_surr_coords(coords, row_cnt, col_cnt))\n",
    "\n",
    "            surround_coords = [item for item in {(a, b): None for a, b in surround_coords}.keys() if item not in curr_num_coords]\n",
    "\n",
    "            touch_list = get_touched_coords(surround_coords, symbol_coords)\n",
    "            if len(touch_list) > 0:\n",
    "                number_coords[int(curr_num)] = {\n",
    "                    'number_coords': curr_num_coords,\n",
    "                    'surround_coords': surround_coords,\n",
    "                    }\n",
    "                res += int(curr_num)\n",
    "                anal.append([int(curr_num), touch_list, curr_num_coords, surround_coords])\n",
    "\n",
    "            curr_num = ''\n",
    "            curr_num_coords = []            \n",
    "        elif c.isnumeric():\n",
    "            curr_num += c\n",
    "            curr_num_coords.append((row_index, col_index))\n",
    "\n",
    "res"
   ]
  },
  {
   "cell_type": "code",
   "execution_count": 7,
   "metadata": {},
   "outputs": [
    {
     "data": {
      "text/plain": [
       "73646890"
      ]
     },
     "execution_count": 7,
     "metadata": {},
     "output_type": "execute_result"
    }
   ],
   "source": [
    "# explode list of touples of characters with coords into columns and keep just chars\n",
    "df_destilated_chars = pd.DataFrame(\n",
    "    pd.DataFrame(\n",
    "        pd.DataFrame(anal, columns=['num', 'touch_list', 'num_crds', 'surr_crds']).touch_list.to_list(),\n",
    "        columns=['touch_list']\n",
    "        ).touch_list.to_list(),\n",
    "        columns=['char', 'r', 'c']\n",
    "    ).loc[:, ['char']]\n",
    "\n",
    "#join chars from above and filter relevant rows, then group by, multiply and filter for 2 neighbors\n",
    "(pd\n",
    "    .DataFrame(anal, columns=['num', 'touch_list', 'num_crds', 'surr_crds'])\n",
    "    .join(df_destilated_chars)\n",
    "    .query('char == \"*\"')\n",
    "    .loc[:, ['num', 'touch_list']]\n",
    "    .astype({'touch_list': str})\n",
    "    .groupby('touch_list')\n",
    "    .agg([math.prod, 'count'])\n",
    "    .reset_index()\n",
    "    .pipe(lambda df: df.loc[df[('num', 'count')] == 2, ('num', 'prod')])\n",
    "    .sum()\n",
    "    )"
   ]
  }
 ],
 "metadata": {
  "kernelspec": {
   "display_name": "Python 3.10.5 ('venv-htal': venv)",
   "language": "python",
   "name": "python3"
  },
  "language_info": {
   "codemirror_mode": {
    "name": "ipython",
    "version": 3
   },
   "file_extension": ".py",
   "mimetype": "text/x-python",
   "name": "python",
   "nbconvert_exporter": "python",
   "pygments_lexer": "ipython3",
   "version": "3.10.5"
  },
  "orig_nbformat": 4,
  "vscode": {
   "interpreter": {
    "hash": "ea36ce6a50853e37c6ce852485d6abfeaade12db4fa907dab4666f13f2233b59"
   }
  }
 },
 "nbformat": 4,
 "nbformat_minor": 2
}
