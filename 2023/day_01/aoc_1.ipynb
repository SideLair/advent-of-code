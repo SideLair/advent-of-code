{
 "cells": [
  {
   "cell_type": "code",
   "execution_count": 1,
   "metadata": {},
   "outputs": [],
   "source": [
    "dct = {\n",
    "    'one' : '1',\n",
    "    'two' : '2',\n",
    "    'three' : '3',\n",
    "    'four' : '4',\n",
    "    'five' : '5',\n",
    "    'six' : '6',\n",
    "    'seven' : '7',\n",
    "    'eight' : '8',\n",
    "    'nine' : '9'\n",
    "}"
   ]
  },
  {
   "cell_type": "code",
   "execution_count": 10,
   "metadata": {},
   "outputs": [],
   "source": [
    "def concat_left_right(phrase: str, with_words: bool = False) -> int:\n",
    "    \"\"\"Function takes the leftmost number and the rightmost number. Then concatenate them and return as an integer.\n",
    "    'with_words' switch provides ability to translate written numbers as digits.\"\"\"\n",
    "\n",
    "    dct_number_position = {index: letter for index, letter in enumerate(phrase) if letter.isnumeric()}\n",
    "\n",
    "    if with_words:\n",
    "        for word, number in dct.items():\n",
    "            temp_phrase = phrase\n",
    "\n",
    "            while word in temp_phrase:\n",
    "                dct_number_position[temp_phrase.index(word)] = number\n",
    "\n",
    "                left_temp_phrase = temp_phrase[:temp_phrase.index(word) + len(word)]\n",
    "                right_temp_phrase = temp_phrase[temp_phrase.index(word) + len(word):]\n",
    "\n",
    "                temp_phrase = left_temp_phrase.replace(word, '$' * len(word)) + right_temp_phrase\n",
    "    \n",
    "    if dct_number_position:\n",
    "        left_number = dct_number_position[min(dct_number_position.keys())]\n",
    "        right_number = dct_number_position[max(dct_number_position.keys())]\n",
    "\n",
    "    return int(f'{left_number}{right_number}')"
   ]
  },
  {
   "cell_type": "code",
   "execution_count": 11,
   "metadata": {},
   "outputs": [],
   "source": [
    "words = [item.strip('\\n') for item in open('input_01.txt').readlines()]"
   ]
  },
  {
   "cell_type": "code",
   "execution_count": 12,
   "metadata": {},
   "outputs": [
    {
     "data": {
      "text/plain": [
       "57346"
      ]
     },
     "execution_count": 12,
     "metadata": {},
     "output_type": "execute_result"
    }
   ],
   "source": [
    "sum([concat_left_right(phrase) for phrase in words])"
   ]
  },
  {
   "cell_type": "code",
   "execution_count": 13,
   "metadata": {},
   "outputs": [
    {
     "data": {
      "text/plain": [
       "57345"
      ]
     },
     "execution_count": 13,
     "metadata": {},
     "output_type": "execute_result"
    }
   ],
   "source": [
    "sum([concat_left_right(phrase, with_words=True) for phrase in words])"
   ]
  }
 ],
 "metadata": {
  "kernelspec": {
   "display_name": "Python 3.10.5 ('venv-htal': venv)",
   "language": "python",
   "name": "python3"
  },
  "language_info": {
   "codemirror_mode": {
    "name": "ipython",
    "version": 3
   },
   "file_extension": ".py",
   "mimetype": "text/x-python",
   "name": "python",
   "nbconvert_exporter": "python",
   "pygments_lexer": "ipython3",
   "version": "3.10.5"
  },
  "orig_nbformat": 4,
  "vscode": {
   "interpreter": {
    "hash": "ea36ce6a50853e37c6ce852485d6abfeaade12db4fa907dab4666f13f2233b59"
   }
  }
 },
 "nbformat": 4,
 "nbformat_minor": 2
}
