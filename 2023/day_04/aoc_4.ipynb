{
 "cells": [
  {
   "cell_type": "code",
   "execution_count": 90,
   "metadata": {},
   "outputs": [],
   "source": [
    "import re"
   ]
  },
  {
   "cell_type": "code",
   "execution_count": 91,
   "metadata": {},
   "outputs": [
    {
     "data": {
      "text/plain": [
       "['Card 1: 41 48 83 86 17 | 83 86  6 31 17  9 48 53',\n",
       " 'Card 2: 13 32 20 16 61 | 61 30 68 82 17 32 24 19',\n",
       " 'Card 3:  1 21 53 59 44 | 69 82 63 72 16 21 14  1',\n",
       " 'Card 4: 41 92 73 84 69 | 59 84 76 51 58  5 54 83',\n",
       " 'Card 5: 87 83 26 28 32 | 88 30 70 12 93 22 82 36',\n",
       " 'Card 6: 31 18 13 56 72 | 74 77 10 23 35 67 36 11']"
      ]
     },
     "execution_count": 91,
     "metadata": {},
     "output_type": "execute_result"
    }
   ],
   "source": [
    "input = [item.strip('\\n') for item in open('test_input.txt').readlines()]\n",
    "input"
   ]
  },
  {
   "cell_type": "code",
   "execution_count": 97,
   "metadata": {},
   "outputs": [],
   "source": [
    "input = [item.strip('\\n') for item in open('input_04.txt').readlines()]"
   ]
  },
  {
   "cell_type": "code",
   "execution_count": 107,
   "metadata": {},
   "outputs": [],
   "source": [
    "def destilate_cards(input):\n",
    "    cards = {}\n",
    "    score = 0\n",
    "    overall_ticket_cnt = 0\n",
    "\n",
    "    for card in input:\n",
    "        name, numbers = card.split(':')\n",
    "        id = int(re.findall(r'(\\d+)', name)[0])\n",
    "\n",
    "        # part 1 - score countin\n",
    "        win_nums, scr_nums = numbers.split(' | ')\n",
    "        win_nums = [int(n) for n in re.findall(r'(\\d+)', win_nums)]\n",
    "        scr_nums = [int(n) for n in re.findall(r'(\\d+)', scr_nums)]\n",
    "        intersction = [n for n in scr_nums if n in win_nums]\n",
    "\n",
    "        score += 0 if len(intersction) == 0 else 2 ** (len(intersction)-1)\n",
    "\n",
    "        # out[id]['win_nums'] = win_nums\n",
    "        # out[id]['scr_nums'] = scr_nums\n",
    "        # out[id]['int_len'] = len(intersction)\n",
    "        # out[id]['score'] = 0 if len(intersction) == 0 else 2 ** (len(intersction)-1)\n",
    "\n",
    "        # part 2 - ticket countin\n",
    "        if id not in cards.keys():\n",
    "            cards[id] = {'tickets': 1}\n",
    "            \n",
    "        for i in range(1, len(intersction) + 1):\n",
    "            if id + i not in cards.keys():\n",
    "                cards[id + i] = {'tickets': 1}\n",
    "            \n",
    "            cards[id + i]['tickets'] += cards[id]['tickets']\n",
    "\n",
    "        overall_ticket_cnt += cards[id]['tickets']\n",
    "\n",
    "    return score, overall_ticket_cnt"
   ]
  },
  {
   "cell_type": "code",
   "execution_count": 108,
   "metadata": {},
   "outputs": [
    {
     "data": {
      "text/plain": [
       "(23678, 15455663)"
      ]
     },
     "execution_count": 108,
     "metadata": {},
     "output_type": "execute_result"
    }
   ],
   "source": [
    "destilate_cards(input)"
   ]
  }
 ],
 "metadata": {
  "kernelspec": {
   "display_name": "Python 3.10.5 ('venv-htal': venv)",
   "language": "python",
   "name": "python3"
  },
  "language_info": {
   "codemirror_mode": {
    "name": "ipython",
    "version": 3
   },
   "file_extension": ".py",
   "mimetype": "text/x-python",
   "name": "python",
   "nbconvert_exporter": "python",
   "pygments_lexer": "ipython3",
   "version": "3.10.5"
  },
  "orig_nbformat": 4,
  "vscode": {
   "interpreter": {
    "hash": "ea36ce6a50853e37c6ce852485d6abfeaade12db4fa907dab4666f13f2233b59"
   }
  }
 },
 "nbformat": 4,
 "nbformat_minor": 2
}
