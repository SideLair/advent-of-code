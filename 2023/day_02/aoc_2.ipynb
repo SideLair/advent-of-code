{
 "cells": [
  {
   "cell_type": "code",
   "execution_count": 1,
   "metadata": {},
   "outputs": [],
   "source": [
    "import math\n",
    "from collections import ChainMap"
   ]
  },
  {
   "cell_type": "code",
   "execution_count": 2,
   "metadata": {},
   "outputs": [],
   "source": [
    "def parse_colours(phrase):\n",
    "    game_id, rounds = phrase.split(': ')\n",
    "    game_id = int(game_id.split(' ')[1])  \n",
    "    max_colours = dict({game_id: {}})\n",
    "\n",
    "    for rnd in rounds.split('; '):\n",
    "        for clr in rnd.split(', '):\n",
    "            cnt, clr_name = clr.split(' ')\n",
    "            cnt = int(cnt)\n",
    "\n",
    "            if clr_name not in max_colours[game_id]:\n",
    "                max_colours[game_id][clr_name] = cnt\n",
    "            elif cnt > max_colours[game_id][clr_name]:\n",
    "                max_colours[game_id][clr_name] = cnt\n",
    "\n",
    "    return max_colours"
   ]
  },
  {
   "cell_type": "code",
   "execution_count": 3,
   "metadata": {},
   "outputs": [],
   "source": [
    "games = [parse_colours(line.strip('\\n')) for line in open('input_02.txt').readlines()]\n",
    "games = dict(ChainMap(*games))"
   ]
  },
  {
   "cell_type": "code",
   "execution_count": 4,
   "metadata": {},
   "outputs": [
    {
     "data": {
      "text/plain": [
       "2683"
      ]
     },
     "execution_count": 4,
     "metadata": {},
     "output_type": "execute_result"
    }
   ],
   "source": [
    "sum([id for id, values in games.items() if (values['green'] <= 13) and (values['red'] <= 12) and (values['blue'] <= 14)])"
   ]
  },
  {
   "cell_type": "code",
   "execution_count": 5,
   "metadata": {},
   "outputs": [
    {
     "data": {
      "text/plain": [
       "49710"
      ]
     },
     "execution_count": 5,
     "metadata": {},
     "output_type": "execute_result"
    }
   ],
   "source": [
    "sum([math.prod(values.values()) for _, values in games.items()])"
   ]
  }
 ],
 "metadata": {
  "kernelspec": {
   "display_name": "Python 3.10.5 ('venv-htal': venv)",
   "language": "python",
   "name": "python3"
  },
  "language_info": {
   "codemirror_mode": {
    "name": "ipython",
    "version": 3
   },
   "file_extension": ".py",
   "mimetype": "text/x-python",
   "name": "python",
   "nbconvert_exporter": "python",
   "pygments_lexer": "ipython3",
   "version": "3.10.5"
  },
  "orig_nbformat": 4,
  "vscode": {
   "interpreter": {
    "hash": "ea36ce6a50853e37c6ce852485d6abfeaade12db4fa907dab4666f13f2233b59"
   }
  }
 },
 "nbformat": 4,
 "nbformat_minor": 2
}
