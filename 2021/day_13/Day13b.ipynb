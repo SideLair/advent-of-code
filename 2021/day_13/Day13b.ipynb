{
 "cells": [
  {
   "cell_type": "code",
   "execution_count": 12,
   "metadata": {},
   "outputs": [],
   "source": [
    "import numpy as np"
   ]
  },
  {
   "cell_type": "code",
   "execution_count": 13,
   "metadata": {},
   "outputs": [],
   "source": [
    "def starting_paper(paper_size, coords):\n",
    "    paper = np.empty(paper_size, dtype='int')\n",
    "    paper.fill(0)\n",
    "\n",
    "    for x, y in coords:\n",
    "        paper[y][x] = 1\n",
    "\n",
    "    return paper"
   ]
  },
  {
   "cell_type": "code",
   "execution_count": 14,
   "metadata": {},
   "outputs": [],
   "source": [
    "def flipper(new_paper, flipped):\n",
    "    diff_x = new_paper.shape[1] - flipped.shape[1]\n",
    "    diff_y = new_paper.shape[0] - flipped.shape[0]\n",
    "\n",
    "    for y in range(flipped.shape[0]):\n",
    "        for x in range(flipped.shape[1]):\n",
    "            new_paper[y + diff_y][x + diff_x] = new_paper[y + diff_y][x + diff_x] | flipped[y][x]\n",
    "\n",
    "    return new_paper"
   ]
  },
  {
   "cell_type": "code",
   "execution_count": 15,
   "metadata": {},
   "outputs": [],
   "source": [
    "def get_paper_size(coords):\n",
    "    max_x = 0\n",
    "    max_y = 0\n",
    "\n",
    "    for x, y in coords:\n",
    "        max_x = x if x > max_x else max_x\n",
    "        max_y = y if y > max_y else max_y\n",
    "\n",
    "    return max_y + 1, max_x + 1"
   ]
  },
  {
   "cell_type": "code",
   "execution_count": 16,
   "metadata": {},
   "outputs": [],
   "source": [
    "coords = []\n",
    "instructions = []\n",
    "\n",
    "with open('input.txt') as f:\n",
    "    for line in f:\n",
    "        if 'fold' in line:\n",
    "            fold = line.strip('\\n').split()[-1]\n",
    "            instructions.append(fold)\n",
    "        elif ',' in line:\n",
    "            coord = line.strip('\\n').split(',')\n",
    "            coords.append((int(coord[0]), int(coord[1])))\n"
   ]
  },
  {
   "cell_type": "code",
   "execution_count": 17,
   "metadata": {},
   "outputs": [
    {
     "data": {
      "text/plain": [
       "(892, 1310)"
      ]
     },
     "execution_count": 17,
     "metadata": {},
     "output_type": "execute_result"
    }
   ],
   "source": [
    "paper_size = get_paper_size(coords)\n",
    "paper_size"
   ]
  },
  {
   "cell_type": "code",
   "execution_count": 18,
   "metadata": {},
   "outputs": [],
   "source": [
    "paper = starting_paper(paper_size, coords)\n",
    "\n",
    "for instruction in instructions:\n",
    "    axis, line = instruction.split('=')\n",
    "    line = int(line)\n",
    "    if axis == 'y':\n",
    "        new_paper = paper[:line,:]\n",
    "        to_flip = paper[line + 1:,:]\n",
    "        flipped = np.flip(to_flip, axis=0)\n",
    "        paper = flipper(new_paper, flipped)\n",
    "    elif axis == 'x':\n",
    "        new_paper = paper[:,:line]\n",
    "        to_flip = paper[:,line + 1:]\n",
    "        flipped = np.flip(to_flip, axis=1)\n",
    "        paper = flipper(new_paper, flipped)\n",
    "\n",
    "    "
   ]
  },
  {
   "cell_type": "code",
   "execution_count": 33,
   "metadata": {},
   "outputs": [
    {
     "name": "stdout",
     "output_type": "stream",
     "text": [
      "#### #  #  ##  #  #  ##  #### #  #  ##  \n",
      "   # # #  #  # #  # #  # #    #  # #  # \n",
      "  #  ##   #  # #  # #    ###  #  # #    \n",
      " #   # #  #### #  # #    #    #  # #    \n",
      "#    # #  #  # #  # #  # #    #  # #  # \n",
      "#### #  # #  #  ##   ##  #     ##   ##  \n"
     ]
    }
   ],
   "source": [
    "for i in range(paper.shape[0]):\n",
    "    for j in range(paper.shape[1]):\n",
    "        if (paper[i][j] == 1):\n",
    "            print('#', end='')\n",
    "        else:\n",
    "            print(' ', end='')\n",
    "        \n",
    "    print()"
   ]
  }
 ],
 "metadata": {
  "interpreter": {
   "hash": "98f78525312aa7537cdbdabd42a2ea1d92467029a55d5f2fa3007de8c400d6f4"
  },
  "kernelspec": {
   "display_name": "Python 3.9.5 64-bit",
   "language": "python",
   "name": "python3"
  },
  "language_info": {
   "codemirror_mode": {
    "name": "ipython",
    "version": 3
   },
   "file_extension": ".py",
   "mimetype": "text/x-python",
   "name": "python",
   "nbconvert_exporter": "python",
   "pygments_lexer": "ipython3",
   "version": "3.9.5"
  },
  "orig_nbformat": 4
 },
 "nbformat": 4,
 "nbformat_minor": 2
}
