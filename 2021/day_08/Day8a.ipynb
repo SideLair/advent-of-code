{
 "cells": [
  {
   "cell_type": "code",
   "execution_count": 35,
   "metadata": {},
   "outputs": [],
   "source": [
    "from collections import defaultdict"
   ]
  },
  {
   "cell_type": "code",
   "execution_count": 40,
   "metadata": {},
   "outputs": [],
   "source": [
    "with open('input.txt') as f:\n",
    "    input = [line.strip('\\n').split(' | ') for line in f]\n",
    "\n",
    "#input = [int(n) for n in input[0]]"
   ]
  },
  {
   "cell_type": "code",
   "execution_count": 26,
   "metadata": {},
   "outputs": [
    {
     "data": {
      "text/plain": [
       "[('be cfbegad cbdgef fgaecd cgeb fdcge agebfd fecdb fabcd edb',\n",
       "  'fdgacbe cefdb cefbgd gcbe'),\n",
       " ('edbfga begcd cbg gc gcadebf fbgde acbgfd abcde gfcbed gfec',\n",
       "  'fcgedb cgb dgebacf gc'),\n",
       " ('fgaebd cg bdaec gdafb agbcfd gdcbef bgcad gfac gcb cdgabef',\n",
       "  'cg cg fdcagb cbg'),\n",
       " ('fbegcd cbd adcefb dageb afcb bc aefdc ecdab fgdeca fcdbega',\n",
       "  'efabcd cedba gadfec cb'),\n",
       " ('aecbfdg fbg gf bafeg dbefa fcge gcbea fcaegb dgceab fcbdga',\n",
       "  'gecf egdcabf bgf bfgea'),\n",
       " ('fgeab ca afcebg bdacfeg cfaedg gcfdb baec bfadeg bafgc acf',\n",
       "  'gebdcfa ecba ca fadegcb'),\n",
       " ('dbcfg fgd bdegcaf fgec aegbdf ecdfab fbedc dacgb gdcebf gf',\n",
       "  'cefg dcbef fcge gbcadfe'),\n",
       " ('bdfegc cbegaf gecbf dfcage bdacg ed bedf ced adcbefg gebcd',\n",
       "  'ed bcgafe cdgba cbgef'),\n",
       " ('egadfb cdbfeg cegd fecab cgb gbdefca cg fgcdab egfdb bfceg',\n",
       "  'gbdfcae bgc cg cgb'),\n",
       " ('gcafb gcf dcaebfg ecagb gf abcdeg gaef cafbge fdbac fegbdc',\n",
       "  'fgae cfgab fg bagce')]"
      ]
     },
     "execution_count": 26,
     "metadata": {},
     "output_type": "execute_result"
    }
   ],
   "source": [
    "input"
   ]
  },
  {
   "cell_type": "code",
   "execution_count": 42,
   "metadata": {},
   "outputs": [],
   "source": [
    "input = [(i, o) for i, o in input]"
   ]
  },
  {
   "cell_type": "code",
   "execution_count": 31,
   "metadata": {},
   "outputs": [
    {
     "data": {
      "text/plain": [
       "['fcgedb', 'cgb', 'dgebacf', 'gc']"
      ]
     },
     "execution_count": 31,
     "metadata": {},
     "output_type": "execute_result"
    }
   ],
   "source": [
    "input[1][1].split()"
   ]
  },
  {
   "cell_type": "code",
   "execution_count": null,
   "metadata": {},
   "outputs": [],
   "source": []
  },
  {
   "cell_type": "code",
   "execution_count": 43,
   "metadata": {},
   "outputs": [],
   "source": [
    "segment_counts = {\n",
    "    2 : 0,\n",
    "    4 : 0,\n",
    "    3 : 0,\n",
    "    7 : 0,\n",
    "\n",
    "    6 : 0,\n",
    "    5 : 0\n",
    "}\n",
    "\n",
    "for line in input:\n",
    "    for item in line[1].split():\n",
    "        segment_counts[len(item)] += 1"
   ]
  },
  {
   "cell_type": "code",
   "execution_count": 44,
   "metadata": {},
   "outputs": [
    {
     "data": {
      "text/plain": [
       "{2: 124, 4: 113, 3: 123, 7: 152, 6: 140, 5: 148}"
      ]
     },
     "execution_count": 44,
     "metadata": {},
     "output_type": "execute_result"
    }
   ],
   "source": [
    "segment_counts"
   ]
  },
  {
   "cell_type": "code",
   "execution_count": 45,
   "metadata": {},
   "outputs": [
    {
     "name": "stdout",
     "output_type": "stream",
     "text": [
      "Count: 512\n"
     ]
    }
   ],
   "source": [
    "print(f'Count: {segment_counts[2] + segment_counts[4] + segment_counts[3] + segment_counts[7]}')"
   ]
  },
  {
   "cell_type": "code",
   "execution_count": 49,
   "metadata": {},
   "outputs": [],
   "source": [
    "from dataclasses import dataclass\n",
    "\n",
    "@dataclass\n",
    "class Digit:\n",
    "    value: int\n",
    "    segments: int\n",
    "    possible_children: list"
   ]
  },
  {
   "cell_type": "code",
   "execution_count": null,
   "metadata": {},
   "outputs": [],
   "source": []
  }
 ],
 "metadata": {
  "interpreter": {
   "hash": "98f78525312aa7537cdbdabd42a2ea1d92467029a55d5f2fa3007de8c400d6f4"
  },
  "kernelspec": {
   "display_name": "Python 3.9.5 64-bit",
   "language": "python",
   "name": "python3"
  },
  "language_info": {
   "codemirror_mode": {
    "name": "ipython",
    "version": 3
   },
   "file_extension": ".py",
   "mimetype": "text/x-python",
   "name": "python",
   "nbconvert_exporter": "python",
   "pygments_lexer": "ipython3",
   "version": "3.9.5"
  },
  "orig_nbformat": 4
 },
 "nbformat": 4,
 "nbformat_minor": 2
}
