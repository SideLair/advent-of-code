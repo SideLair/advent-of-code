{
 "cells": [
  {
   "cell_type": "code",
   "execution_count": 6,
   "metadata": {},
   "outputs": [],
   "source": [
    "with open('test.txt') as f:\n",
    "    input = [line.strip('\\n\\n') for line in f]"
   ]
  },
  {
   "cell_type": "code",
   "execution_count": 2,
   "metadata": {},
   "outputs": [],
   "source": [
    "class Player():\n",
    "    name = 'player'\n",
    "    board = []\n",
    "    sum_unmarked = 0\n",
    "    mask_marked = []\n",
    "\n",
    "    def __init__(self, n, b):\n",
    "        self.name = n\n",
    "        self.board = b\n",
    "        self.mask_marked = [[False] * len(self.board) for i in range(len(self.board))]\n",
    "        self.update_sum()\n",
    "\n",
    "    def __str__(self):\n",
    "        return f'Name: {self.name}, Current unmarked sum: {self.sum_unmarked}'\n",
    "\n",
    "    def update_sum(self):\n",
    "        temp_sum = 0\n",
    "        for i in range(len(self.mask_marked)):\n",
    "            for j in range(len(self.mask_marked[i])):\n",
    "                if not self.mask_marked[i][j]:\n",
    "                    temp_sum += self.board[i][j]\n",
    "\n",
    "        self.sum_unmarked = temp_sum\n",
    "\n",
    "    def mark_number(self, n):\n",
    "        for i in range(len(self.mask_marked)):\n",
    "            for j in range(len(self.mask_marked[i])):\n",
    "                if self.board[i][j] == n:\n",
    "                    self.mask_marked[i][j] = True\n",
    "                    self.update_sum()\n",
    "\n",
    "                    return self.is_finished()\n",
    "\n",
    "        return False\n",
    "\n",
    "    def is_finished(self):\n",
    "        for i in range(len(self.mask_marked)):\n",
    "            row = self.mask_marked[i]\n",
    "            col = [self.mask_marked[j][i] for j in range(len(self.mask_marked[i]))]\n",
    "\n",
    "            if False not in row:\n",
    "                print(f'Row has been found. {self.name} won! Current Unmarked sum is: {self.sum_unmarked}')\n",
    "                return True\n",
    "\n",
    "            if False not in col:\n",
    "                print(f'Column has been found. {self.name} won! Current Unmarked sum is: {self.sum_unmarked}')\n",
    "                return True\n",
    "\n",
    "        return False   \n"
   ]
  },
  {
   "cell_type": "code",
   "execution_count": 3,
   "metadata": {},
   "outputs": [],
   "source": [
    "def load_players():\n",
    "    players = []\n",
    "    counter = 0\n",
    "    board = []\n",
    "\n",
    "    for row in input[2:]:\n",
    "        if row == '':\n",
    "\n",
    "            player = Player(f'Player{counter}', board)\n",
    "            players.append(player)\n",
    "\n",
    "            counter += 1\n",
    "            board = []\n",
    "        else:\n",
    "            board.append([int(n) for n in row.split()])\n",
    "\n",
    "    return players\n"
   ]
  },
  {
   "cell_type": "code",
   "execution_count": 4,
   "metadata": {},
   "outputs": [],
   "source": [
    "def run(players, picks):\n",
    "    for pick in picks:\n",
    "        for player in players:\n",
    "            if player.mark_number(pick):\n",
    "                print(f'End I near! {pick=} * {player.sum_unmarked=} = {pick * player.sum_unmarked}')\n",
    "                return"
   ]
  },
  {
   "cell_type": "code",
   "execution_count": 5,
   "metadata": {},
   "outputs": [
    {
     "name": "stdout",
     "output_type": "stream",
     "text": [
      "Row has been found. Player2 won! Current Unmarked sum is: 188\n",
      "End I near! pick=24 * player.sum_unmarked=188 = 4512\n"
     ]
    }
   ],
   "source": [
    "picks = [int(n) for n in input[0].split(',')]\n",
    "players = load_players()\n",
    "\n",
    "run(players, picks)"
   ]
  }
 ],
 "metadata": {
  "interpreter": {
   "hash": "98f78525312aa7537cdbdabd42a2ea1d92467029a55d5f2fa3007de8c400d6f4"
  },
  "kernelspec": {
   "display_name": "Python 3.9.5 64-bit",
   "language": "python",
   "name": "python3"
  },
  "language_info": {
   "codemirror_mode": {
    "name": "ipython",
    "version": 3
   },
   "file_extension": ".py",
   "mimetype": "text/x-python",
   "name": "python",
   "nbconvert_exporter": "python",
   "pygments_lexer": "ipython3",
   "version": "3.9.5"
  },
  "orig_nbformat": 4
 },
 "nbformat": 4,
 "nbformat_minor": 2
}
