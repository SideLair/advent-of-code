{
 "cells": [
  {
   "cell_type": "code",
   "execution_count": 6,
   "metadata": {},
   "outputs": [],
   "source": [
    "import re\n",
    "from datetime import datetime"
   ]
  },
  {
   "cell_type": "code",
   "execution_count": 7,
   "metadata": {},
   "outputs": [],
   "source": [
    "rules = {}\n",
    "template = ''\n",
    "\n",
    "with open('input.txt') as f:\n",
    "    for line in f:\n",
    "        if '->' in line:\n",
    "            rule = line.strip('\\n')\n",
    "            key, value = re.search(r'([A-Z]{2}) -> ([A-Z])', rule).groups()\n",
    "            rules[key] = value\n",
    "        elif line.isupper():\n",
    "            template = line.strip('\\n')\n",
    "\n",
    "backup_r = rules.copy()\n",
    "backup_t = template\n",
    "\n"
   ]
  },
  {
   "cell_type": "code",
   "execution_count": 8,
   "metadata": {},
   "outputs": [
    {
     "data": {
      "text/plain": [
       "'HBCHSNFFVOBNOFHFOBNO'"
      ]
     },
     "execution_count": 8,
     "metadata": {},
     "output_type": "execute_result"
    }
   ],
   "source": [
    "template"
   ]
  },
  {
   "cell_type": "code",
   "execution_count": 9,
   "metadata": {},
   "outputs": [
    {
     "data": {
      "text/plain": [
       "{'HF': 'O',\n",
       " 'KF': 'F',\n",
       " 'NK': 'F',\n",
       " 'BN': 'O',\n",
       " 'OH': 'H',\n",
       " 'VC': 'F',\n",
       " 'PK': 'B',\n",
       " 'SO': 'B',\n",
       " 'PP': 'H',\n",
       " 'KO': 'F',\n",
       " 'VN': 'S',\n",
       " 'OS': 'B',\n",
       " 'NP': 'C',\n",
       " 'OV': 'C',\n",
       " 'CS': 'P',\n",
       " 'BH': 'P',\n",
       " 'SS': 'P',\n",
       " 'BB': 'H',\n",
       " 'PH': 'V',\n",
       " 'HN': 'F',\n",
       " 'KV': 'H',\n",
       " 'HC': 'B',\n",
       " 'BC': 'P',\n",
       " 'CK': 'P',\n",
       " 'PS': 'O',\n",
       " 'SH': 'N',\n",
       " 'FH': 'N',\n",
       " 'NN': 'P',\n",
       " 'HS': 'O',\n",
       " 'CB': 'F',\n",
       " 'HH': 'F',\n",
       " 'SB': 'P',\n",
       " 'NB': 'F',\n",
       " 'BO': 'V',\n",
       " 'PN': 'H',\n",
       " 'VP': 'B',\n",
       " 'SC': 'C',\n",
       " 'HB': 'H',\n",
       " 'FP': 'O',\n",
       " 'FC': 'H',\n",
       " 'KP': 'B',\n",
       " 'FB': 'B',\n",
       " 'VK': 'F',\n",
       " 'CV': 'P',\n",
       " 'VF': 'V',\n",
       " 'SP': 'K',\n",
       " 'CC': 'K',\n",
       " 'HV': 'P',\n",
       " 'NC': 'N',\n",
       " 'VH': 'K',\n",
       " 'PF': 'P',\n",
       " 'PB': 'S',\n",
       " 'BF': 'K',\n",
       " 'FF': 'C',\n",
       " 'FV': 'V',\n",
       " 'KS': 'H',\n",
       " 'VB': 'F',\n",
       " 'SV': 'F',\n",
       " 'HO': 'B',\n",
       " 'FN': 'C',\n",
       " 'SN': 'F',\n",
       " 'OB': 'N',\n",
       " 'KN': 'P',\n",
       " 'BV': 'H',\n",
       " 'ON': 'N',\n",
       " 'NF': 'S',\n",
       " 'OF': 'P',\n",
       " 'NV': 'S',\n",
       " 'VS': 'C',\n",
       " 'OO': 'C',\n",
       " 'BP': 'H',\n",
       " 'BK': 'N',\n",
       " 'CP': 'N',\n",
       " 'PC': 'K',\n",
       " 'CN': 'H',\n",
       " 'KB': 'B',\n",
       " 'BS': 'P',\n",
       " 'KK': 'P',\n",
       " 'SF': 'V',\n",
       " 'CO': 'V',\n",
       " 'CH': 'P',\n",
       " 'FO': 'B',\n",
       " 'FS': 'F',\n",
       " 'VO': 'H',\n",
       " 'NS': 'F',\n",
       " 'KC': 'H',\n",
       " 'VV': 'K',\n",
       " 'NO': 'P',\n",
       " 'OK': 'F',\n",
       " 'PO': 'V',\n",
       " 'FK': 'H',\n",
       " 'OP': 'H',\n",
       " 'PV': 'N',\n",
       " 'CF': 'P',\n",
       " 'NH': 'K',\n",
       " 'SK': 'O',\n",
       " 'KH': 'P',\n",
       " 'HP': 'V',\n",
       " 'OC': 'V',\n",
       " 'HK': 'F'}"
      ]
     },
     "execution_count": 9,
     "metadata": {},
     "output_type": "execute_result"
    }
   ],
   "source": [
    "rules"
   ]
  },
  {
   "cell_type": "code",
   "execution_count": 10,
   "metadata": {},
   "outputs": [
    {
     "name": "stdout",
     "output_type": "stream",
     "text": [
      "0. finished in 0:00:00\n",
      "1. finished in 0:00:00.000960\n",
      "2. finished in 0:00:00\n",
      "3. finished in 0:00:00\n",
      "4. finished in 0:00:00\n",
      "5. finished in 0:00:00\n",
      "6. finished in 0:00:00.001009\n",
      "7. finished in 0:00:00.000999\n",
      "8. finished in 0:00:00.003998\n",
      "9. finished in 0:00:00.008001\n",
      "10. finished in 0:00:00.013054\n",
      "11. finished in 0:00:00.024998\n",
      "12. finished in 0:00:00.060003\n",
      "13. finished in 0:00:00.143999\n",
      "14. finished in 0:00:00.221961\n",
      "15. finished in 0:00:00.421026\n",
      "16. finished in 0:00:00.993279\n",
      "17. finished in 0:00:02.553000\n",
      "18. finished in 0:00:07.372042\n",
      "19. finished in 0:00:22.999754\n",
      "20. finished in 0:01:18.760670\n",
      "21. finished in 0:04:54.527050\n",
      "22. finished in 0:18:47.233171\n"
     ]
    }
   ],
   "source": [
    "rules = backup_r.copy()\n",
    "template = backup_t\n",
    "\n",
    "for round in range(40):\n",
    "    start = datetime.now()\n",
    "    polymer = ''\n",
    "    #print(f'polymer {template}')\n",
    "    for index in range(len(template) - 1):\n",
    "        window = f'{template[index]}{template[index + 1]}'\n",
    "        #print(window)\n",
    "    \n",
    "\n",
    "        insert = f'{window[0]}{rules[window]}{window[1]}'\n",
    "        #print(f'{window[0]=} {rules[window]=} {window[1]=} {insert=}')\n",
    "        if len(polymer) == 0:\n",
    "            polymer += insert\n",
    "        else:\n",
    "            polymer += insert[1:]\n",
    "\n",
    "    template = polymer\n",
    "    end = datetime.now()\n",
    "    print(f'{round}. finished in {end - start}' )\n",
    "    start = end"
   ]
  },
  {
   "cell_type": "code",
   "execution_count": null,
   "metadata": {},
   "outputs": [],
   "source": [
    "from collections import Counter\n",
    "\n",
    "c = dict(Counter(polymer).most_common())"
   ]
  },
  {
   "cell_type": "code",
   "execution_count": null,
   "metadata": {},
   "outputs": [
    {
     "data": {
      "text/plain": [
       "3408"
      ]
     },
     "execution_count": 8,
     "metadata": {},
     "output_type": "execute_result"
    }
   ],
   "source": [
    "list(c.values())[0] - list(c.values())[-1]"
   ]
  },
  {
   "cell_type": "code",
   "execution_count": null,
   "metadata": {},
   "outputs": [
    {
     "data": {
      "text/plain": [
       "'NCNNBCCHBNBCCCNNCNNBBBBCCNCCBHHCB'"
      ]
     },
     "execution_count": 42,
     "metadata": {},
     "output_type": "execute_result"
    }
   ],
   "source": [
    "polymer"
   ]
  }
 ],
 "metadata": {
  "interpreter": {
   "hash": "98f78525312aa7537cdbdabd42a2ea1d92467029a55d5f2fa3007de8c400d6f4"
  },
  "kernelspec": {
   "display_name": "Python 3.9.5 64-bit",
   "language": "python",
   "name": "python3"
  },
  "language_info": {
   "codemirror_mode": {
    "name": "ipython",
    "version": 3
   },
   "file_extension": ".py",
   "mimetype": "text/x-python",
   "name": "python",
   "nbconvert_exporter": "python",
   "pygments_lexer": "ipython3",
   "version": "3.9.5"
  },
  "orig_nbformat": 4
 },
 "nbformat": 4,
 "nbformat_minor": 2
}
