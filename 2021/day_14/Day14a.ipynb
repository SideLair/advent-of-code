{
 "cells": [
  {
   "cell_type": "code",
   "execution_count": 10,
   "metadata": {},
   "outputs": [],
   "source": [
    "import re\n",
    "from collections import Counter"
   ]
  },
  {
   "cell_type": "code",
   "execution_count": 11,
   "metadata": {},
   "outputs": [],
   "source": [
    "rules = {}\n",
    "template = ''\n",
    "\n",
    "with open('input.txt') as f:\n",
    "    for line in f:\n",
    "        if '->' in line:\n",
    "            rule = line.strip('\\n')\n",
    "            key, value = re.search(r'([A-Z]{2}) -> ([A-Z])', rule).groups()\n",
    "            rules[key] = value\n",
    "        elif line.isupper():\n",
    "            template = line.strip('\\n')\n",
    "\n",
    "backup_r = rules.copy()\n",
    "backup_t = template\n",
    "\n"
   ]
  },
  {
   "cell_type": "code",
   "execution_count": null,
   "metadata": {},
   "outputs": [],
   "source": []
  },
  {
   "cell_type": "code",
   "execution_count": 12,
   "metadata": {},
   "outputs": [],
   "source": [
    "rules = backup_r.copy()\n",
    "template = backup_t\n",
    "\n",
    "for round in range(10):\n",
    "    polymer = ''\n",
    "    for index in range(len(template) - 1):\n",
    "        window = f'{template[index]}{template[index + 1]}'\n",
    "        insert = f'{window[0]}{rules[window]}{window[1]}'\n",
    "\n",
    "        if len(polymer) == 0:\n",
    "            polymer += insert\n",
    "        else:\n",
    "            polymer += insert[1:]\n",
    "\n",
    "    template = polymer"
   ]
  },
  {
   "cell_type": "code",
   "execution_count": 13,
   "metadata": {},
   "outputs": [
    {
     "name": "stdout",
     "output_type": "stream",
     "text": [
      "max=3978 - min=570 = 3408\n"
     ]
    }
   ],
   "source": [
    "c = list(Counter(polymer).most_common())\n",
    "\n",
    "max = c[0][1]\n",
    "min = c[-1][1]\n",
    "\n",
    "print(f'{max=} - {min=} = {max - min}')"
   ]
  }
 ],
 "metadata": {
  "interpreter": {
   "hash": "98f78525312aa7537cdbdabd42a2ea1d92467029a55d5f2fa3007de8c400d6f4"
  },
  "kernelspec": {
   "display_name": "Python 3.9.5 64-bit",
   "language": "python",
   "name": "python3"
  },
  "language_info": {
   "codemirror_mode": {
    "name": "ipython",
    "version": 3
   },
   "file_extension": ".py",
   "mimetype": "text/x-python",
   "name": "python",
   "nbconvert_exporter": "python",
   "pygments_lexer": "ipython3",
   "version": "3.9.5"
  },
  "orig_nbformat": 4
 },
 "nbformat": 4,
 "nbformat_minor": 2
}
