{
 "cells": [
  {
   "cell_type": "code",
   "execution_count": 1,
   "metadata": {},
   "outputs": [],
   "source": [
    "import re\n",
    "import copy\n",
    "from collections import Counter\n",
    "from dataclasses import dataclass"
   ]
  },
  {
   "cell_type": "code",
   "execution_count": 2,
   "metadata": {},
   "outputs": [],
   "source": [
    "@dataclass\n",
    "class Window:\n",
    "    key : str\n",
    "    value : str\n",
    "    count : int"
   ]
  },
  {
   "cell_type": "code",
   "execution_count": 16,
   "metadata": {},
   "outputs": [],
   "source": [
    "windows = {}\n",
    "template = ''\n",
    "\n",
    "with open('test.txt') as f:\n",
    "    for line in f:\n",
    "        if '->' in line:\n",
    "            rule = line.strip('\\n')\n",
    "            key, value = re.search(r'([A-Z]{2}) -> ([A-Z])', rule).groups()\n",
    "            windows[key] = Window(key, value, 0)\n",
    "        elif line.isupper():\n",
    "            template = line.strip('\\n')\n",
    "\n",
    "backup_win = copy.deepcopy(windows)"
   ]
  },
  {
   "cell_type": "code",
   "execution_count": 17,
   "metadata": {},
   "outputs": [],
   "source": [
    "for index in range(len(template) - 1):\n",
    "    window = f'{template[index]}{template[index + 1]}'\n",
    "    #print(window)\n",
    "\n",
    "    windows[window].count += 1   "
   ]
  },
  {
   "cell_type": "code",
   "execution_count": 18,
   "metadata": {},
   "outputs": [],
   "source": [
    "for round in range(4):\n",
    "    next_windows = copy.deepcopy(backup_win)\n",
    "\n",
    "    for key, window in windows.items():\n",
    "        inserted = f'{window.key[0]}{window.value}{window.key[1]}'\n",
    "        first = inserted[:-1]\n",
    "        second = inserted[1:]\n",
    "\n",
    "        next_windows[first].count += window.count\n",
    "        next_windows[second].count += window.count\n",
    "            \n",
    "    windows = copy.deepcopy(next_windows)        "
   ]
  },
  {
   "cell_type": "code",
   "execution_count": 19,
   "metadata": {},
   "outputs": [
    {
     "data": {
      "text/plain": [
       "{'CH': Window(key='CH', value='B', count=0),\n",
       " 'HH': Window(key='HH', value='N', count=1),\n",
       " 'CB': Window(key='CB', value='H', count=5),\n",
       " 'NH': Window(key='NH', value='C', count=1),\n",
       " 'HB': Window(key='HB', value='C', count=0),\n",
       " 'HC': Window(key='HC', value='B', count=3),\n",
       " 'HN': Window(key='HN', value='C', count=1),\n",
       " 'NN': Window(key='NN', value='C', count=0),\n",
       " 'BH': Window(key='BH', value='H', count=3),\n",
       " 'NC': Window(key='NC', value='B', count=1),\n",
       " 'NB': Window(key='NB', value='B', count=9),\n",
       " 'BN': Window(key='BN', value='B', count=6),\n",
       " 'BB': Window(key='BB', value='N', count=9),\n",
       " 'BC': Window(key='BC', value='B', count=4),\n",
       " 'CC': Window(key='CC', value='N', count=2),\n",
       " 'CN': Window(key='CN', value='C', count=3)}"
      ]
     },
     "execution_count": 19,
     "metadata": {},
     "output_type": "execute_result"
    }
   ],
   "source": [
    "windows"
   ]
  },
  {
   "cell_type": "code",
   "execution_count": 20,
   "metadata": {},
   "outputs": [],
   "source": [
    "result = {}\n",
    "\n",
    "for k, window in windows.items():\n",
    "    if k[0] not in result:\n",
    "        result[k[0]] = window.count\n",
    "    else:\n",
    "        result[k[0]] += window.count"
   ]
  },
  {
   "cell_type": "code",
   "execution_count": 21,
   "metadata": {},
   "outputs": [
    {
     "name": "stdout",
     "output_type": "stream",
     "text": [
      "max=22 - min=5 = 16\n"
     ]
    }
   ],
   "source": [
    "c = list(Counter(result).most_common())\n",
    "\n",
    "max = c[0][1]\n",
    "min = c[-1][1]\n",
    "\n",
    "#fakin magic 1 (input data need -1, test data need + 1)\n",
    "print(f'{max=} - {min=} = {max - min - 1}')"
   ]
  },
  {
   "cell_type": "code",
   "execution_count": 23,
   "metadata": {},
   "outputs": [
    {
     "data": {
      "text/plain": [
       "[('B', 22), ('N', 11), ('C', 10), ('H', 5)]"
      ]
     },
     "execution_count": 23,
     "metadata": {},
     "output_type": "execute_result"
    }
   ],
   "source": [
    "c"
   ]
  },
  {
   "cell_type": "code",
   "execution_count": 22,
   "metadata": {},
   "outputs": [
    {
     "data": {
      "text/plain": [
       "[('B', 23), ('N', 11), ('C', 10), ('H', 5)]"
      ]
     },
     "execution_count": 22,
     "metadata": {},
     "output_type": "execute_result"
    }
   ],
   "source": [
    "list(Counter('NBBNBNBBCCNBCNCCNBBNBBNBBBNBBNBBCBHCBHHNHCBBCBHCB').most_common())"
   ]
  }
 ],
 "metadata": {
  "interpreter": {
   "hash": "98f78525312aa7537cdbdabd42a2ea1d92467029a55d5f2fa3007de8c400d6f4"
  },
  "kernelspec": {
   "display_name": "Python 3.9.5 64-bit",
   "language": "python",
   "name": "python3"
  },
  "language_info": {
   "codemirror_mode": {
    "name": "ipython",
    "version": 3
   },
   "file_extension": ".py",
   "mimetype": "text/x-python",
   "name": "python",
   "nbconvert_exporter": "python",
   "pygments_lexer": "ipython3",
   "version": "3.9.5"
  },
  "orig_nbformat": 4
 },
 "nbformat": 4,
 "nbformat_minor": 2
}
