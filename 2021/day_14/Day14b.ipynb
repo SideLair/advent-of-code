{
 "cells": [
  {
   "cell_type": "code",
   "execution_count": 167,
   "metadata": {},
   "outputs": [],
   "source": [
    "import re\n",
    "import copy\n",
    "from collections import Counter\n",
    "from dataclasses import dataclass"
   ]
  },
  {
   "cell_type": "code",
   "execution_count": 168,
   "metadata": {},
   "outputs": [],
   "source": [
    "@dataclass\n",
    "class Window:\n",
    "    key : str\n",
    "    value : str\n",
    "    count : int"
   ]
  },
  {
   "cell_type": "code",
   "execution_count": 156,
   "metadata": {},
   "outputs": [],
   "source": [
    "windows = {}\n",
    "template = ''\n",
    "\n",
    "with open('input.txt') as f:\n",
    "    for line in f:\n",
    "        if '->' in line:\n",
    "            rule = line.strip('\\n')\n",
    "            key, value = re.search(r'([A-Z]{2}) -> ([A-Z])', rule).groups()\n",
    "            windows[key] = Window(key, value, 0)\n",
    "        elif line.isupper():\n",
    "            template = line.strip('\\n')\n",
    "\n",
    "backup_win = copy.deepcopy(windows)"
   ]
  },
  {
   "cell_type": "code",
   "execution_count": 157,
   "metadata": {},
   "outputs": [],
   "source": [
    "for index in range(len(template) - 1):\n",
    "    window = f'{template[index]}{template[index + 1]}'\n",
    "    #print(window)\n",
    "\n",
    "    windows[window].count += 1   "
   ]
  },
  {
   "cell_type": "code",
   "execution_count": 158,
   "metadata": {},
   "outputs": [],
   "source": [
    "for round in range(40):\n",
    "    next_windows = copy.deepcopy(backup_win)\n",
    "\n",
    "    for key, window in windows.items():\n",
    "        inserted = f'{window.key[0]}{window.value}{window.key[1]}'\n",
    "        first = inserted[:-1]\n",
    "        second = inserted[1:]\n",
    "\n",
    "        next_windows[first].count += window.count\n",
    "        next_windows[second].count += window.count\n",
    "            \n",
    "    windows = copy.deepcopy(next_windows)        "
   ]
  },
  {
   "cell_type": "code",
   "execution_count": 169,
   "metadata": {},
   "outputs": [
    {
     "data": {
      "text/plain": [
       "{'HF': Window(key='HF', value='O', count=549267587088),\n",
       " 'KF': Window(key='KF', value='F', count=0),\n",
       " 'NK': Window(key='NK', value='F', count=169288384808),\n",
       " 'BN': Window(key='BN', value='O', count=5682173332),\n",
       " 'OH': Window(key='OH', value='H', count=137637374905),\n",
       " 'VC': Window(key='VC', value='F', count=0),\n",
       " 'PK': Window(key='PK', value='B', count=22723645313),\n",
       " 'SO': Window(key='SO', value='B', count=1034059386),\n",
       " 'PP': Window(key='PP', value='H', count=177105551728),\n",
       " 'KO': Window(key='KO', value='F', count=0),\n",
       " 'VN': Window(key='VN', value='S', count=0),\n",
       " 'OS': Window(key='OS', value='B', count=4429719110),\n",
       " 'NP': Window(key='NP', value='C', count=134147574441),\n",
       " 'OV': Window(key='OV', value='C', count=0),\n",
       " 'CS': Window(key='CS', value='P', count=0),\n",
       " 'BH': Window(key='BH', value='P', count=485722628631),\n",
       " 'SS': Window(key='SS', value='P', count=0),\n",
       " 'BB': Window(key='BB', value='H', count=252039032349),\n",
       " 'PH': Window(key='PH', value='V', count=939284660532),\n",
       " 'HN': Window(key='HN', value='F', count=392498128810),\n",
       " 'KV': Window(key='KV', value='H', count=360820615920),\n",
       " 'HC': Window(key='HC', value='B', count=181751237498),\n",
       " 'BC': Window(key='BC', value='P', count=90880725358),\n",
       " 'CK': Window(key='CK', value='P', count=0),\n",
       " 'PS': Window(key='PS', value='O', count=8857712948),\n",
       " 'SH': Window(key='SH', value='N', count=0),\n",
       " 'FH': Window(key='FH', value='N', count=654461986969),\n",
       " 'NN': Window(key='NN', value='P', count=71314948461),\n",
       " 'HS': Window(key='HS', value='O', count=0),\n",
       " 'CB': Window(key='CB', value='F', count=0),\n",
       " 'HH': Window(key='HH', value='F', count=443800261626),\n",
       " 'SB': Window(key='SB', value='P', count=8266927597),\n",
       " 'NB': Window(key='NB', value='F', count=1107985134),\n",
       " 'BO': Window(key='BO', value='V', count=161443022690),\n",
       " 'PN': Window(key='PN', value='H', count=424638500753),\n",
       " 'VP': Window(key='VP', value='B', count=391321627455),\n",
       " 'SC': Window(key='SC', value='C', count=0),\n",
       " 'HB': Window(key='HB', value='H', count=749934532670),\n",
       " 'FP': Window(key='FP', value='O', count=0),\n",
       " 'FC': Window(key='FC', value='H', count=340761739370),\n",
       " 'KP': Window(key='KP', value='B', count=307509035465),\n",
       " 'FB': Window(key='FB', value='B', count=196687815500),\n",
       " 'VK': Window(key='VK', value='F', count=616397764973),\n",
       " 'CV': Window(key='CV', value='P', count=0),\n",
       " 'VF': Window(key='VF', value='V', count=1103495283740),\n",
       " 'SP': Window(key='SP', value='K', count=4134218440),\n",
       " 'CC': Window(key='CC', value='K', count=0),\n",
       " 'HV': Window(key='HV', value='P', count=612067546434),\n",
       " 'NC': Window(key='NC', value='N', count=134510397622),\n",
       " 'VH': Window(key='VH', value='K', count=511133080035),\n",
       " 'PF': Window(key='PF', value='P', count=354189413856),\n",
       " 'PB': Window(key='PB', value='S', count=15497096932),\n",
       " 'BF': Window(key='BF', value='K', count=0),\n",
       " 'FF': Window(key='FF', value='C', count=157980009113),\n",
       " 'FV': Window(key='FV', value='V', count=340234529329),\n",
       " 'KS': Window(key='KS', value='H', count=0),\n",
       " 'VB': Window(key='VB', value='F', count=195640138522),\n",
       " 'SV': Window(key='SV', value='F', count=340301489240),\n",
       " 'HO': Window(key='HO', value='B', count=316135611349),\n",
       " 'FN': Window(key='FN', value='C', count=523516774575),\n",
       " 'SN': Window(key='SN', value='F', count=0),\n",
       " 'OB': Window(key='OB', value='N', count=2215327848),\n",
       " 'KN': Window(key='KN', value='P', count=0),\n",
       " 'BV': Window(key='BV', value='H', count=80731554266),\n",
       " 'ON': Window(key='ON', value='N', count=7900968222),\n",
       " 'NF': Window(key='NF', value='S', count=243206757746),\n",
       " 'OF': Window(key='OF', value='P', count=275172703368),\n",
       " 'NV': Window(key='NV', value='S', count=388915669231),\n",
       " 'VS': Window(key='VS', value='C', count=0),\n",
       " 'OO': Window(key='OO', value='C', count=0),\n",
       " 'BP': Window(key='BP', value='H', count=638768762454),\n",
       " 'BK': Window(key='BK', value='N', count=11362878492),\n",
       " 'CP': Window(key='CP', value='N', count=196734740492),\n",
       " 'PC': Window(key='PC', value='K', count=45443684087),\n",
       " 'CN': Window(key='CN', value='H', count=360205890666),\n",
       " 'KB': Window(key='KB', value='B', count=307457248868),\n",
       " 'BS': Window(key='BS', value='P', count=2215327848),\n",
       " 'KK': Window(key='KK', value='P', count=0),\n",
       " 'SF': Window(key='SF', value='V', count=291732841041),\n",
       " 'CO': Window(key='CO', value='V', count=0),\n",
       " 'CH': Window(key='CH', value='P', count=180150206467),\n",
       " 'FO': Window(key='FO', value='B', count=0),\n",
       " 'FS': Window(key='FS', value='F', count=315991099959),\n",
       " 'VO': Window(key='VO', value='H', count=82946882114),\n",
       " 'NS': Window(key='NS', value='F', count=316043230321),\n",
       " 'KC': Window(key='KC', value='H', count=22723645313),\n",
       " 'VV': Window(key='VV', value='K', count=721763048804),\n",
       " 'NO': Window(key='NO', value='P', count=0),\n",
       " 'OK': Window(key='OK', value='F', count=1034059386),\n",
       " 'PO': Window(key='PO', value='V', count=4429719110),\n",
       " 'FK': Window(key='FK', value='H', count=524391232760),\n",
       " 'OP': Window(key='OP', value='H', count=137599141809),\n",
       " 'PV': Window(key='PV', value='N', count=777863372419),\n",
       " 'CF': Window(key='CF', value='P', count=78980591623),\n",
       " 'NH': Window(key='NH', value='K', count=327222437055),\n",
       " 'SK': Window(key='SK', value='O', count=2067554482),\n",
       " 'KH': Window(key='KH', value='P', count=610920035370),\n",
       " 'HP': Window(key='HP', value='V', count=782712705394),\n",
       " 'OC': Window(key='OC', value='V', count=0),\n",
       " 'HK': Window(key='HK', value='F', count=262165060722)}"
      ]
     },
     "execution_count": 169,
     "metadata": {},
     "output_type": "execute_result"
    }
   ],
   "source": [
    "windows"
   ]
  },
  {
   "cell_type": "code",
   "execution_count": 175,
   "metadata": {},
   "outputs": [],
   "source": [
    "result = {}\n",
    "\n",
    "for k, window in windows.items():\n",
    "    if k[0] not in result:\n",
    "        result[k[0]] = window.count\n",
    "    else:\n",
    "        result[k[0]] += window.count"
   ]
  },
  {
   "cell_type": "code",
   "execution_count": 178,
   "metadata": {},
   "outputs": [
    {
     "name": "stdout",
     "output_type": "stream",
     "text": [
      "max=4290332671591 - min=565989294648 = 3724343376942\n"
     ]
    }
   ],
   "source": [
    "c = list(Counter(result).most_common())\n",
    "\n",
    "max = c[0][1]\n",
    "min = c[-1][1]\n",
    "\n",
    "#fakin magic 1 (input data need -1, test data need + 1)\n",
    "print(f'{max=} - {min=} = {max - min - 1}')"
   ]
  }
 ],
 "metadata": {
  "interpreter": {
   "hash": "98f78525312aa7537cdbdabd42a2ea1d92467029a55d5f2fa3007de8c400d6f4"
  },
  "kernelspec": {
   "display_name": "Python 3.9.5 64-bit",
   "language": "python",
   "name": "python3"
  },
  "language_info": {
   "codemirror_mode": {
    "name": "ipython",
    "version": 3
   },
   "file_extension": ".py",
   "mimetype": "text/x-python",
   "name": "python",
   "nbconvert_exporter": "python",
   "pygments_lexer": "ipython3",
   "version": "3.9.5"
  },
  "orig_nbformat": 4
 },
 "nbformat": 4,
 "nbformat_minor": 2
}
