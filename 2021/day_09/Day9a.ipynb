{
 "cells": [
  {
   "cell_type": "code",
   "execution_count": 11,
   "metadata": {},
   "outputs": [],
   "source": [
    "import pandas as pd"
   ]
  },
  {
   "cell_type": "code",
   "execution_count": 12,
   "metadata": {},
   "outputs": [],
   "source": [
    "with open('input.txt') as f:\n",
    "    input = [line.strip('\\n') for line in f]\n",
    "\n",
    "input = pd.DataFrame([[int(char) for char in row] for row in input])"
   ]
  },
  {
   "cell_type": "code",
   "execution_count": 13,
   "metadata": {},
   "outputs": [],
   "source": [
    "result = []\n",
    "dummy = 10\n",
    "\n",
    "for i in input.columns:\n",
    "    for j in range(len(input)):\n",
    "        \n",
    "\n",
    "        center = input[i][j]\n",
    "        north = input[i][j - 1] if j > 0 else dummy\n",
    "        south = input[i][j + 1] if j < len(input) - 1 else dummy\n",
    "        east = input[i + 1][j]  if i < len(input.columns) - 1 else dummy\n",
    "        west = input[i - 1][j]  if i > 0 else dummy\n",
    "\n",
    "        if (center < north) & (center < south) & (center < east) &(center < west):\n",
    "            result.append(center)\n",
    "\n",
    "        result\n",
    "    "
   ]
  },
  {
   "cell_type": "code",
   "execution_count": 14,
   "metadata": {},
   "outputs": [
    {
     "name": "stdout",
     "output_type": "stream",
     "text": [
      "Result: 545\n"
     ]
    }
   ],
   "source": [
    "print(f'Result: {sum(result) + len(result)}')"
   ]
  }
 ],
 "metadata": {
  "interpreter": {
   "hash": "98f78525312aa7537cdbdabd42a2ea1d92467029a55d5f2fa3007de8c400d6f4"
  },
  "kernelspec": {
   "display_name": "Python 3.9.5 64-bit",
   "language": "python",
   "name": "python3"
  },
  "language_info": {
   "codemirror_mode": {
    "name": "ipython",
    "version": 3
   },
   "file_extension": ".py",
   "mimetype": "text/x-python",
   "name": "python",
   "nbconvert_exporter": "python",
   "pygments_lexer": "ipython3",
   "version": "3.9.5"
  },
  "orig_nbformat": 4
 },
 "nbformat": 4,
 "nbformat_minor": 2
}
