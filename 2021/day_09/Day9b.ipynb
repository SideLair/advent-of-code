{
 "cells": [
  {
   "cell_type": "code",
   "execution_count": 1,
   "metadata": {},
   "outputs": [],
   "source": [
    "import pandas as pd\n",
    "from functools import reduce"
   ]
  },
  {
   "cell_type": "code",
   "execution_count": 2,
   "metadata": {},
   "outputs": [],
   "source": [
    "with open('input.txt') as f:\n",
    "    input = [line.strip('\\n') for line in f]\n",
    "\n",
    "input = pd.DataFrame([[int(char) for char in row] for row in input])"
   ]
  },
  {
   "cell_type": "code",
   "execution_count": 4,
   "metadata": {},
   "outputs": [],
   "source": [
    "def get_starter_points():\n",
    "    start_result = []\n",
    "    dummy = 10\n",
    "\n",
    "    for i in input.columns:\n",
    "        for j in range(len(input)):\n",
    "\n",
    "            center = input[i][j]\n",
    "            north = input[i][j - 1] if j > 0 else dummy\n",
    "            south = input[i][j + 1] if j < len(input) - 1 else dummy\n",
    "            east = input[i + 1][j]  if i < len(input.columns) - 1 else dummy\n",
    "            west = input[i - 1][j]  if i > 0 else dummy\n",
    "\n",
    "            if (center < north) & (center < south) & (center < east) &(center < west):\n",
    "                start_result.append((center, i, j))\n",
    "\n",
    "    return start_result\n",
    "    "
   ]
  },
  {
   "cell_type": "code",
   "execution_count": 10,
   "metadata": {},
   "outputs": [],
   "source": [
    "def get_neighbors(map, starter_point):\n",
    "    dummy = 10\n",
    "    result = []\n",
    "    value, i, j = starter_point\n",
    "    \n",
    "    n = (map[i][j - 1] if j > 0 else dummy, i, j - 1)\n",
    "    s = (map[i][j + 1] if j < len(map) - 1 else dummy, i, j + 1)\n",
    "    e = (map[i + 1][j] if i < len(map.columns) - 1 else dummy, i + 1, j)\n",
    "    w = (map[i - 1][j] if i > 0 else dummy, i - 1, j)\n",
    "\n",
    "    nw = (map[i - 1][j - 1] if ((j > 0) & (i > 0)) else dummy, i - 1, j - 1)\n",
    "    ne = (map[i + 1][j - 1] if ((j > 0) & (i < len(map.columns) - 1)) else dummy, i + 1, j - 1)\n",
    "    sw = (map[i - 1][j + 1] if ((j < len(map) - 1) & (i > 0)) else dummy, i - 1, j + 1)\n",
    "    se = (map[i + 1][j + 1] if ((j < len(map) - 1) & (i < len(map.columns) - 1)) else dummy, i + 1, j + 1)\n",
    "\n",
    "    for neighbor, n_i, n_j in [n, s, e, w, nw, ne, sw ,se]:\n",
    "        if (neighbor > value) & (neighbor < 9):\n",
    "            result.append((neighbor, n_i, n_j))\n",
    "\n",
    "    return result\n"
   ]
  },
  {
   "cell_type": "code",
   "execution_count": 8,
   "metadata": {},
   "outputs": [],
   "source": [
    "def get_basins(starting_points):\n",
    "    basins = []\n",
    "\n",
    "    for counter, starting_point in enumerate(starting_points):\n",
    "\n",
    "        basin = [starting_point]\n",
    "        basin_index = 0\n",
    "        while basin_index < len(basin):\n",
    "            \n",
    "            new_items = get_neighbors(input, basin[basin_index])\n",
    "            basin.extend(new_items.copy())\n",
    "\n",
    "            basin_index += 1\n",
    "\n",
    "        basins.append(set(basin))\n",
    "\n",
    "    return basins\n"
   ]
  },
  {
   "cell_type": "code",
   "execution_count": 11,
   "metadata": {},
   "outputs": [
    {
     "name": "stdout",
     "output_type": "stream",
     "text": [
      "Result: 950600\n"
     ]
    }
   ],
   "source": [
    "starting_points = get_starter_points()\n",
    "basins = get_basins(starting_points)\n",
    "\n",
    "res = reduce(lambda x, y: x * y, sorted([len(b) for b in basins], reverse=True)[:3])\n",
    "\n",
    "print(f'Result: {res}')"
   ]
  }
 ],
 "metadata": {
  "interpreter": {
   "hash": "98f78525312aa7537cdbdabd42a2ea1d92467029a55d5f2fa3007de8c400d6f4"
  },
  "kernelspec": {
   "display_name": "Python 3.9.5 64-bit",
   "language": "python",
   "name": "python3"
  },
  "language_info": {
   "codemirror_mode": {
    "name": "ipython",
    "version": 3
   },
   "file_extension": ".py",
   "mimetype": "text/x-python",
   "name": "python",
   "nbconvert_exporter": "python",
   "pygments_lexer": "ipython3",
   "version": "3.9.5"
  },
  "orig_nbformat": 4
 },
 "nbformat": 4,
 "nbformat_minor": 2
}
