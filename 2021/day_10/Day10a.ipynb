{
 "cells": [
  {
   "cell_type": "code",
   "execution_count": 1,
   "metadata": {},
   "outputs": [],
   "source": [
    "with open('input.txt') as f:\n",
    "    input = [line.strip('\\n') for line in f]\n",
    "\n",
    "input = [row for row in input]"
   ]
  },
  {
   "cell_type": "code",
   "execution_count": 3,
   "metadata": {},
   "outputs": [],
   "source": [
    "def count_points(errors):\n",
    "    points = {\n",
    "        ')' : 3,\n",
    "        '}' : 1197,\n",
    "        ']' : 57,\n",
    "        '>' : 25137\n",
    "    }\n",
    "\n",
    "    return sum([points[e] for e in errors])"
   ]
  },
  {
   "cell_type": "code",
   "execution_count": 4,
   "metadata": {},
   "outputs": [],
   "source": [
    "errors = []\n",
    "openers = '({[<'\n",
    "brackets = {\n",
    "    ')' : '(',\n",
    "    '}' : '{',\n",
    "    ']' : '[',\n",
    "    '>' : '<'\n",
    "}\n",
    "\n",
    "for line in input:\n",
    "    stack = []\n",
    "\n",
    "    for i, c in enumerate(line):\n",
    "        if (len(stack) == 0) | (c in openers):\n",
    "            stack.append(c)\n",
    "        else:\n",
    "            if brackets[c] != stack[-1]:\n",
    "                errors.append(line[i])\n",
    "                break\n",
    "            else:\n",
    "                stack.pop()"
   ]
  },
  {
   "cell_type": "code",
   "execution_count": 5,
   "metadata": {},
   "outputs": [
    {
     "data": {
      "text/plain": [
       "399153"
      ]
     },
     "execution_count": 5,
     "metadata": {},
     "output_type": "execute_result"
    }
   ],
   "source": [
    "count_points(errors)"
   ]
  }
 ],
 "metadata": {
  "interpreter": {
   "hash": "98f78525312aa7537cdbdabd42a2ea1d92467029a55d5f2fa3007de8c400d6f4"
  },
  "kernelspec": {
   "display_name": "Python 3.9.5 64-bit",
   "language": "python",
   "name": "python3"
  },
  "language_info": {
   "codemirror_mode": {
    "name": "ipython",
    "version": 3
   },
   "file_extension": ".py",
   "mimetype": "text/x-python",
   "name": "python",
   "nbconvert_exporter": "python",
   "pygments_lexer": "ipython3",
   "version": "3.9.5"
  },
  "orig_nbformat": 4
 },
 "nbformat": 4,
 "nbformat_minor": 2
}
