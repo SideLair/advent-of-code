{
 "cells": [
  {
   "cell_type": "code",
   "execution_count": 1,
   "metadata": {},
   "outputs": [],
   "source": [
    "with open('input.txt') as f:\n",
    "    input = [line.strip('\\n') for line in f]\n",
    "\n",
    "input = [row for row in input]"
   ]
  },
  {
   "cell_type": "code",
   "execution_count": 2,
   "metadata": {},
   "outputs": [],
   "source": [
    "def get_reverse(phrase):\n",
    "    brackets = {\n",
    "    '(' : ')',\n",
    "    '{' : '}',\n",
    "    '[' : ']',\n",
    "    '<' : '>'\n",
    "}\n",
    "\n",
    "    return ''.join([brackets[c] for c in phrase][::-1])"
   ]
  },
  {
   "cell_type": "code",
   "execution_count": 3,
   "metadata": {},
   "outputs": [],
   "source": [
    "def count_points(brackets):\n",
    "    points = {\n",
    "        ')' : 1,\n",
    "        '}' : 3,\n",
    "        ']' : 2,\n",
    "        '>' : 4\n",
    "    }\n",
    "    total = 0\n",
    "\n",
    "    for b in brackets:\n",
    "        total = (total * 5) + points[b]\n",
    "\n",
    "    return total"
   ]
  },
  {
   "cell_type": "code",
   "execution_count": 4,
   "metadata": {},
   "outputs": [],
   "source": [
    "errors = []\n",
    "scores = []\n",
    "\n",
    "openers = '({[<'\n",
    "brackets = {\n",
    "    ')' : '(',\n",
    "    '}' : '{',\n",
    "    ']' : '[',\n",
    "    '>' : '<'\n",
    "}\n",
    "\n",
    "for line in input:\n",
    "    stack = []\n",
    "\n",
    "    for i, c in enumerate(line):\n",
    "        if (len(stack) == 0) | (c in openers):\n",
    "            stack.append(c)\n",
    "        else:\n",
    "            if brackets[c] != stack[-1]:\n",
    "                errors.append(line[i])\n",
    "                break\n",
    "            else:\n",
    "                stack.pop()\n",
    "\n",
    "        if i == len(line) - 1:\n",
    "            missing_part = get_reverse(''.join(stack))\n",
    "            scores.append(count_points(missing_part))        "
   ]
  },
  {
   "cell_type": "code",
   "execution_count": 5,
   "metadata": {},
   "outputs": [
    {
     "data": {
      "text/plain": [
       "2995077699"
      ]
     },
     "execution_count": 5,
     "metadata": {},
     "output_type": "execute_result"
    }
   ],
   "source": [
    "sorted(scores)[len(sorted(scores)) // 2]"
   ]
  }
 ],
 "metadata": {
  "interpreter": {
   "hash": "98f78525312aa7537cdbdabd42a2ea1d92467029a55d5f2fa3007de8c400d6f4"
  },
  "kernelspec": {
   "display_name": "Python 3.9.5 64-bit",
   "language": "python",
   "name": "python3"
  },
  "language_info": {
   "codemirror_mode": {
    "name": "ipython",
    "version": 3
   },
   "file_extension": ".py",
   "mimetype": "text/x-python",
   "name": "python",
   "nbconvert_exporter": "python",
   "pygments_lexer": "ipython3",
   "version": "3.9.5"
  },
  "orig_nbformat": 4
 },
 "nbformat": 4,
 "nbformat_minor": 2
}
