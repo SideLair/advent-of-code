{
 "cells": [
  {
   "cell_type": "code",
   "execution_count": 1,
   "metadata": {},
   "outputs": [],
   "source": [
    "with open('input.txt') as f:\n",
    "    input = [line.split(',') for line in f]\n",
    "\n",
    "input = [int(n) for n in input[0]]"
   ]
  },
  {
   "cell_type": "code",
   "execution_count": 2,
   "metadata": {},
   "outputs": [],
   "source": [
    "def initial_counters(input):\n",
    "    fish = {\n",
    "        8 : 0,\n",
    "        7 : 0,\n",
    "        6 : 0,\n",
    "        5 : 0,\n",
    "        4 : 0,\n",
    "        3 : 0,\n",
    "        2 : 0,\n",
    "        1 : 0,\n",
    "        0 : 0,\n",
    "    }\n",
    "    for item in input:\n",
    "        fish[item] += 1\n",
    "\n",
    "    return fish"
   ]
  },
  {
   "cell_type": "code",
   "execution_count": 3,
   "metadata": {},
   "outputs": [],
   "source": [
    "def fish_count(swarm, days):\n",
    "    \n",
    "    for _ in range(days):\n",
    "        temp_dict = {\n",
    "            8 : 0,\n",
    "            7 : 0,\n",
    "            6 : 0,\n",
    "            5 : 0,\n",
    "            4 : 0,\n",
    "            3 : 0,\n",
    "            2 : 0,\n",
    "            1 : 0,\n",
    "            0 : 0,\n",
    "        }\n",
    "\n",
    "        for k, v in swarm.items():\n",
    "            if k == 0:\n",
    "                temp_dict[6] += v\n",
    "                temp_dict[8] += v\n",
    "            else:\n",
    "                temp_dict[k - 1] += v\n",
    "            \n",
    "            swarm = temp_dict.copy()\n",
    "\n",
    "    \n",
    "    return sum(swarm.values())"
   ]
  },
  {
   "cell_type": "code",
   "execution_count": 4,
   "metadata": {},
   "outputs": [
    {
     "name": "stdout",
     "output_type": "stream",
     "text": [
      "There would be 1746710169834 lantern fish after 256 days.\n"
     ]
    }
   ],
   "source": [
    "days = 256\n",
    "fish = initial_counters(input)\n",
    "\n",
    "print(f'There would be {fish_count(fish, days)} lantern fish after {days} days.')"
   ]
  }
 ],
 "metadata": {
  "interpreter": {
   "hash": "98f78525312aa7537cdbdabd42a2ea1d92467029a55d5f2fa3007de8c400d6f4"
  },
  "kernelspec": {
   "display_name": "Python 3.9.5 64-bit",
   "language": "python",
   "name": "python3"
  },
  "language_info": {
   "codemirror_mode": {
    "name": "ipython",
    "version": 3
   },
   "file_extension": ".py",
   "mimetype": "text/x-python",
   "name": "python",
   "nbconvert_exporter": "python",
   "pygments_lexer": "ipython3",
   "version": "3.9.5"
  },
  "orig_nbformat": 4
 },
 "nbformat": 4,
 "nbformat_minor": 2
}
