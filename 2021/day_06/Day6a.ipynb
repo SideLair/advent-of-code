{
 "cells": [
  {
   "cell_type": "code",
   "execution_count": 63,
   "metadata": {},
   "outputs": [],
   "source": [
    "with open('input.txt') as f:\n",
    "    input = [line.split(',') for line in f]\n",
    "\n",
    "input = [int(n) for n in input[0]]"
   ]
  },
  {
   "cell_type": "code",
   "execution_count": 75,
   "metadata": {},
   "outputs": [],
   "source": [
    "def fish_count(swarm, days):\n",
    "\n",
    "    for _ in range(days):\n",
    "        new_swarm = []\n",
    "        add_count = 0\n",
    "\n",
    "        for fish in swarm:\n",
    "            if fish == 0:\n",
    "                new_swarm.append(6)\n",
    "                add_count += 1\n",
    "            else:\n",
    "                new_swarm.append(fish - 1)\n",
    "\n",
    "        new_swarm.extend([8] * add_count)\n",
    "\n",
    "        swarm = new_swarm.copy()\n",
    "\n",
    "    return len(new_swarm)"
   ]
  },
  {
   "cell_type": "code",
   "execution_count": 76,
   "metadata": {},
   "outputs": [
    {
     "name": "stdout",
     "output_type": "stream",
     "text": [
      "There would be 390011 lantern fish after 80 days.\n"
     ]
    }
   ],
   "source": [
    "days = 80\n",
    "res = fish_count(input, days)\n",
    "\n",
    "print(f'There would be {res} lantern fish after {days} days.')"
   ]
  }
 ],
 "metadata": {
  "interpreter": {
   "hash": "98f78525312aa7537cdbdabd42a2ea1d92467029a55d5f2fa3007de8c400d6f4"
  },
  "kernelspec": {
   "display_name": "Python 3.9.5 64-bit",
   "language": "python",
   "name": "python3"
  },
  "language_info": {
   "codemirror_mode": {
    "name": "ipython",
    "version": 3
   },
   "file_extension": ".py",
   "mimetype": "text/x-python",
   "name": "python",
   "nbconvert_exporter": "python",
   "pygments_lexer": "ipython3",
   "version": "3.9.5"
  },
  "orig_nbformat": 4
 },
 "nbformat": 4,
 "nbformat_minor": 2
}
