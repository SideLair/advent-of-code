{
 "cells": [
  {
   "cell_type": "code",
   "execution_count": 22,
   "metadata": {},
   "outputs": [],
   "source": [
    "with open('input.txt') as f:\n",
    "    input = [line.split(',') for line in f]\n",
    "\n",
    "input = [int(n) for n in input[0]]"
   ]
  },
  {
   "cell_type": "code",
   "execution_count": 4,
   "metadata": {},
   "outputs": [
    {
     "data": {
      "text/plain": [
       "[16, 1, 2, 0, 4, 2, 7, 1, 2, 14]"
      ]
     },
     "execution_count": 4,
     "metadata": {},
     "output_type": "execute_result"
    }
   ],
   "source": [
    "input"
   ]
  },
  {
   "cell_type": "code",
   "execution_count": 30,
   "metadata": {},
   "outputs": [
    {
     "name": "stdout",
     "output_type": "stream",
     "text": [
      "The least possible fuel amount is: 355764\n"
     ]
    }
   ],
   "source": [
    "min = 1_000_000_000\n",
    "\n",
    "for step in set(input):\n",
    "    sum = 0\n",
    "\n",
    "    for coord in input:\n",
    "        sum += abs(coord - step)\n",
    "\n",
    "    if sum < min:\n",
    "        min = sum\n",
    "\n",
    "print(f'The least possible fuel amount is: {min}')"
   ]
  }
 ],
 "metadata": {
  "interpreter": {
   "hash": "98f78525312aa7537cdbdabd42a2ea1d92467029a55d5f2fa3007de8c400d6f4"
  },
  "kernelspec": {
   "display_name": "Python 3.9.5 64-bit",
   "language": "python",
   "name": "python3"
  },
  "language_info": {
   "codemirror_mode": {
    "name": "ipython",
    "version": 3
   },
   "file_extension": ".py",
   "mimetype": "text/x-python",
   "name": "python",
   "nbconvert_exporter": "python",
   "pygments_lexer": "ipython3",
   "version": "3.9.5"
  },
  "orig_nbformat": 4
 },
 "nbformat": 4,
 "nbformat_minor": 2
}
