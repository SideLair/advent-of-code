{
 "cells": [
  {
   "cell_type": "code",
   "execution_count": 27,
   "metadata": {},
   "outputs": [],
   "source": [
    "import re\n",
    "import itertools"
   ]
  },
  {
   "cell_type": "code",
   "execution_count": 28,
   "metadata": {},
   "outputs": [],
   "source": [
    "with open('input.txt') as f:\n",
    "    input = [line.strip('\\n') for line in f]\n",
    "\n",
    "pairs = [(re.search(r'(\\w+)-(\\w+)', pair).groups()) for pair in input]\n",
    "\n",
    "backup = pairs.copy()"
   ]
  },
  {
   "cell_type": "code",
   "execution_count": 29,
   "metadata": {},
   "outputs": [],
   "source": [
    "def exclude_starts(pairs):\n",
    "    starts = []\n",
    "    new_pairs = []\n",
    "\n",
    "    for a, b in pairs:\n",
    "        if (a == 'start'):\n",
    "            starts.append((a, b))\n",
    "        elif (b == 'start'):\n",
    "            starts.append((b, a))\n",
    "        else:\n",
    "            new_pairs.append((a, b))\n",
    "\n",
    "    return starts, new_pairs"
   ]
  },
  {
   "cell_type": "code",
   "execution_count": 30,
   "metadata": {},
   "outputs": [],
   "source": [
    "def get_path_count(all_paths):\n",
    "    res = []\n",
    "\n",
    "    for line in all_paths:\n",
    "        if 'end,' in line:\n",
    "            res.append(line[:line.find('end,') + 3])\n",
    "    return len(set(res))"
   ]
  },
  {
   "cell_type": "code",
   "execution_count": 31,
   "metadata": {},
   "outputs": [],
   "source": [
    "from dataclasses import dataclass\n",
    "\n",
    "class Cave:\n",
    "    parent : str\n",
    "    children : list\n",
    "    possible_ways : list\n",
    "    is_start : bool\n",
    "    is_end : bool\n",
    "    level : 0\n",
    "\n",
    "    result : list\n",
    "\n",
    "    def __init__(self, parent, routes, level):\n",
    "        self.level = level\n",
    "        self.parent = parent\n",
    "        self.is_start = self.parent == 'start'\n",
    "        self.is_end = self.parent == 'end'\n",
    "\n",
    "        self.possible_ways = []\n",
    "        self.children = []\n",
    "        self.result = []\n",
    "\n",
    "        self.fill_possible_ways(routes)\n",
    "\n",
    "        self.fill_children(routes)\n",
    "\n",
    "        self.fill_result()\n",
    "\n",
    "\n",
    "    def fill_possible_ways(self, routes):\n",
    "\n",
    "        for a, b in routes:\n",
    "            if a == self.parent:\n",
    "                if self.parent.isupper():\n",
    "                    self.possible_ways.append((a, b))\n",
    "\n",
    "            elif b == self.parent:\n",
    "                if self.parent.isupper():\n",
    "                    self.possible_ways.append((a, b))\n",
    "\n",
    "            else:\n",
    "                self.possible_ways.append((a, b))\n",
    "\n",
    "    def fill_children(self, routes):\n",
    "\n",
    "        for a, b in routes:\n",
    "            \n",
    "            if a == self.parent:\n",
    "                self.children.append(Cave(b, self.possible_ways, self.level + 1))\n",
    "\n",
    "            elif b == self.parent:\n",
    "                self.children.append(Cave(a, self.possible_ways, self.level + 1))\n",
    "\n",
    "    def fill_result(self):\n",
    "        if len(self.children) == 0:\n",
    "            self.result.append(f'{self.parent},')\n",
    "        else:\n",
    "            for child in self.children:\n",
    "                for r in child.result:\n",
    "                    self.result.append(f'{self.parent},{r},')\n",
    "\n",
    "    def __repr__(self) -> str:\n",
    "        return f'{self.level}LVL Parent: {self.parent} START:{self.is_start} END:{self.is_end} {self.possible_ways=}'\n",
    "\n"
   ]
  },
  {
   "cell_type": "code",
   "execution_count": 32,
   "metadata": {},
   "outputs": [
    {
     "data": {
      "text/plain": [
       "4241"
      ]
     },
     "execution_count": 32,
     "metadata": {},
     "output_type": "execute_result"
    }
   ],
   "source": [
    "starts, pairs = exclude_starts(backup.copy())\n",
    "\n",
    "start_cave = Cave('start', backup.copy(), 0)\n",
    "\n",
    "get_path_count(start_cave.result)\n",
    "    "
   ]
  }
 ],
 "metadata": {
  "interpreter": {
   "hash": "98f78525312aa7537cdbdabd42a2ea1d92467029a55d5f2fa3007de8c400d6f4"
  },
  "kernelspec": {
   "display_name": "Python 3.9.5 64-bit",
   "language": "python",
   "name": "python3"
  },
  "language_info": {
   "codemirror_mode": {
    "name": "ipython",
    "version": 3
   },
   "file_extension": ".py",
   "mimetype": "text/x-python",
   "name": "python",
   "nbconvert_exporter": "python",
   "pygments_lexer": "ipython3",
   "version": "3.9.5"
  },
  "orig_nbformat": 4
 },
 "nbformat": 4,
 "nbformat_minor": 2
}
