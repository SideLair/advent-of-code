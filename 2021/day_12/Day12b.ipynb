{
 "cells": [
  {
   "cell_type": "code",
   "execution_count": 28,
   "metadata": {},
   "outputs": [],
   "source": [
    "import re\n",
    "from collections import Counter"
   ]
  },
  {
   "cell_type": "code",
   "execution_count": 29,
   "metadata": {},
   "outputs": [],
   "source": [
    "with open('input.txt') as f:\n",
    "    input = [line.strip('\\n') for line in f]\n",
    "\n",
    "pairs = [(re.search(r'(\\w+)-(\\w+)', pair).groups()) for pair in input]\n",
    "\n",
    "backup = pairs.copy()"
   ]
  },
  {
   "cell_type": "code",
   "execution_count": 30,
   "metadata": {},
   "outputs": [],
   "source": [
    "def exclude_starts(pairs):\n",
    "    starts = []\n",
    "    new_pairs = []\n",
    "\n",
    "    for a, b in pairs:\n",
    "        if (a == 'start'):\n",
    "            starts.append(('$', b))\n",
    "        elif (b == 'start'):\n",
    "            starts.append(('$', a))\n",
    "        elif (a == 'end'):\n",
    "            new_pairs.append((b, '€'))\n",
    "        elif (b == 'end'):\n",
    "            new_pairs.append((a, '€'))\n",
    "        else:\n",
    "            new_pairs.append((a, b))\n",
    "\n",
    "    return starts, new_pairs"
   ]
  },
  {
   "cell_type": "code",
   "execution_count": 31,
   "metadata": {},
   "outputs": [],
   "source": [
    "def has_2_lowers(phrase):\n",
    "    phrase = phrase.split(',')\n",
    "    counter = Counter(phrase)\n",
    "\n",
    "    for ch, count in counter.items():\n",
    "        if (ch.islower()) & (count >= 2):\n",
    "            return True\n",
    "\n",
    "    return False"
   ]
  },
  {
   "cell_type": "code",
   "execution_count": 32,
   "metadata": {},
   "outputs": [],
   "source": [
    "def get_lowers(phrase):\n",
    "    phrase = phrase.split(',')\n",
    "    \n",
    "    return set([c for c in phrase if c.islower()])"
   ]
  },
  {
   "cell_type": "code",
   "execution_count": 33,
   "metadata": {},
   "outputs": [],
   "source": [
    "def get_path_count(all_paths):\n",
    "    res = []\n",
    "\n",
    "    for line in all_paths:\n",
    "        if '€,' in line:\n",
    "            res.append(line[:line.find('€,') + 3])\n",
    "    return len(set(res))"
   ]
  },
  {
   "cell_type": "code",
   "execution_count": 34,
   "metadata": {},
   "outputs": [
    {
     "name": "stdout",
     "output_type": "stream",
     "text": [
      "5\n",
      "10\n",
      "15\n"
     ]
    }
   ],
   "source": [
    "starts, pairs = exclude_starts(backup.copy())\n",
    "runs = [f'{a},{b},' for a, b in starts]\n",
    "i = 0\n",
    "\n",
    "while i < 15:\n",
    "    runs = list(set(runs))\n",
    "    new_runs = []\n",
    "    \n",
    "    for run in runs:\n",
    "        if '€' in run:\n",
    "            continue\n",
    "\n",
    "        last_phrase = run[run[:-1].rfind(',', 1) + 1:-1]\n",
    "        current_lowers = get_lowers(run)\n",
    "        \n",
    "        for a, b in pairs:\n",
    "            if a == last_phrase:\n",
    "                if has_2_lowers(run):\n",
    "                    if b in current_lowers:\n",
    "                        continue\n",
    "                    else:\n",
    "                        new_runs.append(f'{run}{b},')\n",
    "                else:\n",
    "                    new_runs.append(f'{run}{b},')\n",
    "\n",
    "            elif b == last_phrase:\n",
    "                if has_2_lowers(run):\n",
    "                    if a in current_lowers:\n",
    "                        continue\n",
    "                    else:\n",
    "                        new_runs.append(f'{run}{a},')\n",
    "                else:\n",
    "                    new_runs.append(f'{run}{a},')\n",
    "\n",
    "    runs.extend(new_runs)\n",
    "    i += 1\n",
    "\n",
    "    if i % 5 == 0:\n",
    "        print(i)\n"
   ]
  },
  {
   "cell_type": "code",
   "execution_count": 35,
   "metadata": {},
   "outputs": [
    {
     "data": {
      "text/plain": [
       "122134"
      ]
     },
     "execution_count": 35,
     "metadata": {},
     "output_type": "execute_result"
    }
   ],
   "source": [
    "get_path_count(runs)"
   ]
  }
 ],
 "metadata": {
  "interpreter": {
   "hash": "98f78525312aa7537cdbdabd42a2ea1d92467029a55d5f2fa3007de8c400d6f4"
  },
  "kernelspec": {
   "display_name": "Python 3.9.5 64-bit",
   "language": "python",
   "name": "python3"
  },
  "language_info": {
   "codemirror_mode": {
    "name": "ipython",
    "version": 3
   },
   "file_extension": ".py",
   "mimetype": "text/x-python",
   "name": "python",
   "nbconvert_exporter": "python",
   "pygments_lexer": "ipython3",
   "version": "3.9.5"
  },
  "orig_nbformat": 4
 },
 "nbformat": 4,
 "nbformat_minor": 2
}
