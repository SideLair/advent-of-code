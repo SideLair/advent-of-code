{
 "cells": [
  {
   "cell_type": "code",
   "execution_count": 27,
   "metadata": {},
   "outputs": [],
   "source": [
    "import pandas as pd"
   ]
  },
  {
   "cell_type": "code",
   "execution_count": 28,
   "metadata": {},
   "outputs": [],
   "source": [
    "with open('input.txt') as f:\n",
    "    input = [line.strip() for line in f]"
   ]
  },
  {
   "cell_type": "code",
   "execution_count": 29,
   "metadata": {},
   "outputs": [],
   "source": [
    "data = pd.DataFrame(input)\n",
    "data = data[0].apply(lambda x: list(x))\n",
    "data = pd.DataFrame(data.to_list())"
   ]
  },
  {
   "cell_type": "code",
   "execution_count": 30,
   "metadata": {},
   "outputs": [
    {
     "name": "stdout",
     "output_type": "stream",
     "text": [
      "gama='111011110011', epsilon='000100001100', 3827 * 268 = 1025636\n"
     ]
    }
   ],
   "source": [
    "gama = ''\n",
    "epsilon = ''\n",
    "\n",
    "for col in data.mode().iloc[0]:\n",
    "    if int(col) == 1:\n",
    "        gama += '1'\n",
    "        epsilon += '0'\n",
    "    else:\n",
    "        gama += '0'\n",
    "        epsilon += '1'\n",
    "\n",
    "print(f'{gama=}, {epsilon=}, {int(gama, 2)} * {int(epsilon, 2)} = {int(gama, 2) * int(epsilon, 2)}')"
   ]
  }
 ],
 "metadata": {
  "interpreter": {
   "hash": "98f78525312aa7537cdbdabd42a2ea1d92467029a55d5f2fa3007de8c400d6f4"
  },
  "kernelspec": {
   "display_name": "Python 3.9.5 64-bit",
   "language": "python",
   "name": "python3"
  },
  "language_info": {
   "codemirror_mode": {
    "name": "ipython",
    "version": 3
   },
   "file_extension": ".py",
   "mimetype": "text/x-python",
   "name": "python",
   "nbconvert_exporter": "python",
   "pygments_lexer": "ipython3",
   "version": "3.9.5"
  },
  "orig_nbformat": 4
 },
 "nbformat": 4,
 "nbformat_minor": 2
}
