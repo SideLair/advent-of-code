{
 "cells": [
  {
   "cell_type": "code",
   "execution_count": 1,
   "metadata": {},
   "outputs": [],
   "source": [
    "import pandas as pd"
   ]
  },
  {
   "cell_type": "code",
   "execution_count": 2,
   "metadata": {},
   "outputs": [],
   "source": [
    "with open('test.txt') as f:\n",
    "    input = [line.strip() for line in f]"
   ]
  },
  {
   "cell_type": "code",
   "execution_count": 3,
   "metadata": {},
   "outputs": [],
   "source": [
    "data = pd.DataFrame(input)\n",
    "data = data[0].apply(lambda x: list(x))\n",
    "data = pd.DataFrame(data.to_list())"
   ]
  },
  {
   "cell_type": "code",
   "execution_count": 4,
   "metadata": {},
   "outputs": [],
   "source": [
    "def extract_rating(data, lead_value):\n",
    "    \n",
    "    for col in data.columns:\n",
    "        val_counts = data[col].value_counts().to_dict()\n",
    "        \n",
    "        \n",
    "\n",
    "        #print(val_counts, len(data))\n",
    "        if lead_value == 1:\n",
    "\n",
    "            if val_counts['0'] > val_counts['1']:\n",
    "                mcv_bit = 0\n",
    "            elif val_counts['0'] < val_counts['1']:\n",
    "                mcv_bit = 1\n",
    "            else:\n",
    "                mcv_bit = lead_value\n",
    "        else:\n",
    "            if val_counts['0'] > val_counts['1']:\n",
    "                mcv_bit = 1\n",
    "            elif val_counts['0'] < val_counts['1']:\n",
    "                mcv_bit = 0\n",
    "            else:\n",
    "                mcv_bit = lead_value\n",
    "        data = data[data[col] == str(mcv_bit)]\n",
    "        \n",
    "        if len(data) == 1:\n",
    "            return data.iloc[0].str.cat()"
   ]
  },
  {
   "cell_type": "code",
   "execution_count": 5,
   "metadata": {},
   "outputs": [],
   "source": [
    "oxy = extract_rating(data, 1)\n",
    "co2 = extract_rating(data, 0)"
   ]
  },
  {
   "cell_type": "code",
   "execution_count": 6,
   "metadata": {},
   "outputs": [
    {
     "name": "stdout",
     "output_type": "stream",
     "text": [
      "oxy='10111', co2='01010', 23 * 10 = 230\n"
     ]
    }
   ],
   "source": [
    "print(f'{oxy=}, {co2=}, {int(oxy, 2)} * { int(co2, 2)} = {int(oxy, 2) * int(co2, 2)}')"
   ]
  }
 ],
 "metadata": {
  "interpreter": {
   "hash": "98f78525312aa7537cdbdabd42a2ea1d92467029a55d5f2fa3007de8c400d6f4"
  },
  "kernelspec": {
   "display_name": "Python 3.9.5 64-bit",
   "language": "python",
   "name": "python3"
  },
  "language_info": {
   "codemirror_mode": {
    "name": "ipython",
    "version": 3
   },
   "file_extension": ".py",
   "mimetype": "text/x-python",
   "name": "python",
   "nbconvert_exporter": "python",
   "pygments_lexer": "ipython3",
   "version": "3.9.5"
  },
  "orig_nbformat": 4
 },
 "nbformat": 4,
 "nbformat_minor": 2
}
