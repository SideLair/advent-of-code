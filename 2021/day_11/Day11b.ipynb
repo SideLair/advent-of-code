{
 "cells": [
  {
   "cell_type": "code",
   "execution_count": 10,
   "metadata": {},
   "outputs": [],
   "source": [
    "import pandas as pd"
   ]
  },
  {
   "cell_type": "code",
   "execution_count": 11,
   "metadata": {},
   "outputs": [],
   "source": [
    "with open('input.txt') as f:\n",
    "    input = [line.strip('\\n') for line in f]\n",
    "\n",
    "input = pd.DataFrame([[int(c) for c in row] for row in input])"
   ]
  },
  {
   "cell_type": "code",
   "execution_count": 12,
   "metadata": {},
   "outputs": [],
   "source": [
    "def affect(coords, map):\n",
    "    i, j = coords\n",
    "    dummy = -1\n",
    "\n",
    "    n = (map[i][j - 1] if j > 0 else dummy, i, j - 1)\n",
    "    s = (map[i][j + 1] if j < len(map) - 1 else dummy, i, j + 1)\n",
    "    e = (map[i + 1][j] if i < len(map.columns) - 1 else dummy, i + 1, j)\n",
    "    w = (map[i - 1][j] if i > 0 else dummy, i - 1, j)\n",
    "\n",
    "    nw = (map[i - 1][j - 1] if ((j > 0) & (i > 0)) else dummy, i - 1, j - 1)\n",
    "    ne = (map[i + 1][j - 1] if ((j > 0) & (i < len(map.columns) - 1)) else dummy, i + 1, j - 1)\n",
    "    sw = (map[i - 1][j + 1] if ((j < len(map) - 1) & (i > 0)) else dummy, i - 1, j + 1)\n",
    "    se = (map[i + 1][j + 1] if ((j < len(map) - 1) & (i < len(map.columns) - 1)) else dummy, i + 1, j + 1)\n",
    "\n",
    "    for flag, n_i, n_j in [n, s, e, w, nw, ne, sw ,se]:\n",
    "        if flag >= 0:\n",
    "            map[n_i][n_j] += 1\n",
    "\n",
    "    return map"
   ]
  },
  {
   "cell_type": "code",
   "execution_count": 13,
   "metadata": {},
   "outputs": [
    {
     "name": "stdout",
     "output_type": "stream",
     "text": [
      "1st octopus party started at 519. step.\n"
     ]
    }
   ],
   "source": [
    "for step in range(2000):\n",
    "    mask_allow_blink = input.copy().applymap(lambda x: True)\n",
    "    blinks_this_round = 1\n",
    "\n",
    "    if input.isin([0]).sum().sum() == 100:\n",
    "        print(f'1st octopus party started at {step}. step.')\n",
    "        break\n",
    "\n",
    "    #phase1\n",
    "    input = input.applymap(lambda x: x + 1)\n",
    "\n",
    "    #phase2\n",
    "    while blinks_this_round != 0:\n",
    "        blinks_this_round = 0\n",
    "        for col_index in input.columns:\n",
    "            for row_index in range(len(input)):\n",
    "                if (input[col_index][row_index] > 9) & (mask_allow_blink[col_index][row_index]):\n",
    "                    input = affect(coords=(col_index, row_index), map=input)\n",
    "                    \n",
    "                    mask_allow_blink[col_index][row_index] = False\n",
    "                    blinks_this_round += 1\n",
    "    \n",
    "    #phase3\n",
    "    input = input.applymap(lambda x: 0 if x > 9 else x)"
   ]
  }
 ],
 "metadata": {
  "interpreter": {
   "hash": "98f78525312aa7537cdbdabd42a2ea1d92467029a55d5f2fa3007de8c400d6f4"
  },
  "kernelspec": {
   "display_name": "Python 3.9.5 64-bit",
   "language": "python",
   "name": "python3"
  },
  "language_info": {
   "codemirror_mode": {
    "name": "ipython",
    "version": 3
   },
   "file_extension": ".py",
   "mimetype": "text/x-python",
   "name": "python",
   "nbconvert_exporter": "python",
   "pygments_lexer": "ipython3",
   "version": "3.9.5"
  },
  "orig_nbformat": 4
 },
 "nbformat": 4,
 "nbformat_minor": 2
}
