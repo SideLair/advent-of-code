{
 "cells": [
  {
   "cell_type": "code",
   "execution_count": 1,
   "metadata": {},
   "outputs": [],
   "source": [
    "import re\n",
    "import pprint as pp"
   ]
  },
  {
   "cell_type": "code",
   "execution_count": 2,
   "metadata": {},
   "outputs": [],
   "source": [
    "with open('input.txt') as f:\n",
    "    input = [line.strip() for line in f]"
   ]
  },
  {
   "cell_type": "code",
   "execution_count": 3,
   "metadata": {},
   "outputs": [],
   "source": [
    "class Vent_line():\n",
    "    xy1 = (-1, -1)\n",
    "    xy2 = (-1, -1)\n",
    "    line_coords = []\n",
    "    is_diagonal = False\n",
    "\n",
    "    \n",
    "    def __init__(self, x_1, y_1, x_2, y_2):\n",
    "        self.xy1 = (int(x_1), int(y_1))\n",
    "        self.xy2 = (int(x_2), int(y_2))\n",
    "        self.line_coords = []\n",
    "        self.calculate_line()\n",
    "\n",
    "    def calculate_line(self):\n",
    "        xy_temp = self.xy1\n",
    "\n",
    "        self.line_coords.append(xy_temp)\n",
    "\n",
    "        while ((xy_temp[0] != self.xy2[0]) | (xy_temp[1] != self.xy2[1])):\n",
    "\n",
    "            if (xy_temp[0] > self.xy2[0]) & (xy_temp[1] > self.xy2[1]):\n",
    "                xy_temp = (xy_temp[0] - 1, xy_temp[1] - 1)\n",
    "                \n",
    "            elif (xy_temp[0] < self.xy2[0]) & (xy_temp[1] < self.xy2[1]):\n",
    "                xy_temp = (xy_temp[0] + 1, xy_temp[1] + 1)\n",
    "                \n",
    "            elif (xy_temp[0] < self.xy2[0]) & (xy_temp[1] > self.xy2[1]):\n",
    "                xy_temp = (xy_temp[0] + 1, xy_temp[1] - 1)\n",
    "                \n",
    "            elif (xy_temp[0] > self.xy2[0]) & (xy_temp[1] < self.xy2[1]):\n",
    "                xy_temp = (xy_temp[0] - 1, xy_temp[1] + 1)\n",
    "                \n",
    "\n",
    "            elif (xy_temp[0] == self.xy2[0]) & (xy_temp[1] < self.xy2[1]):\n",
    "                xy_temp = (xy_temp[0], xy_temp[1] + 1)\n",
    "            elif (xy_temp[0] == self.xy2[0]) & (xy_temp[1] > self.xy2[1]):\n",
    "                xy_temp = (xy_temp[0], xy_temp[1] - 1)\n",
    "\n",
    "            elif (xy_temp[0] < self.xy2[0]) & (xy_temp[1] == self.xy2[1]):\n",
    "                xy_temp = (xy_temp[0] + 1, xy_temp[1])\n",
    "            elif (xy_temp[0] > self.xy2[0]) & (xy_temp[1] == self.xy2[1]):\n",
    "                xy_temp = (xy_temp[0] - 1, xy_temp[1])\n",
    "\n",
    "\n",
    "            self.line_coords.append(xy_temp)\n",
    "        "
   ]
  },
  {
   "cell_type": "code",
   "execution_count": 4,
   "metadata": {},
   "outputs": [],
   "source": [
    "vent_lines = []\n",
    "\n",
    "for row in input:\n",
    "    x1, y1, x2, y2 = re.match(r'(\\d*),(\\d*) -> (\\d*),(\\d*)', row).groups()\n",
    "    new_vline = Vent_line(x1, y1, x2, y2)\n",
    "\n",
    "    if not new_vline.is_diagonal:\n",
    "        vent_lines.append(Vent_line(x1, y1, x2, y2))"
   ]
  },
  {
   "cell_type": "code",
   "execution_count": 5,
   "metadata": {},
   "outputs": [],
   "source": [
    "def get_vent_lines(input):\n",
    "    vent_lines = []\n",
    "\n",
    "    for row in input:\n",
    "        x1, y1, x2, y2 = re.match(r'(\\d*),(\\d*) -> (\\d*),(\\d*)', row).groups()\n",
    "        new_vline = Vent_line(x1, y1, x2, y2)\n",
    "\n",
    "        if not new_vline.is_diagonal:\n",
    "            vent_lines.append(Vent_line(x1, y1, x2, y2))\n",
    "\n",
    "    return vent_lines"
   ]
  },
  {
   "cell_type": "code",
   "execution_count": 6,
   "metadata": {},
   "outputs": [],
   "source": [
    "def calculate_risk(vent_lines, ocean_floor):\n",
    "    risk_places_count = 0\n",
    "\n",
    "    for vline in vent_lines:\n",
    "        for x, y in vline.line_coords:\n",
    "            ocean_floor[y][x] += 1\n",
    "\n",
    "            if ocean_floor[y][x] == 2:\n",
    "                risk_places_count += 1\n",
    "\n",
    "    print(f'Count of risk places: {risk_places_count}')"
   ]
  },
  {
   "cell_type": "code",
   "execution_count": 7,
   "metadata": {},
   "outputs": [],
   "source": [
    "def prepare_ocean_floor(size):\n",
    "    return [[0] * size for i in range(size)]"
   ]
  },
  {
   "cell_type": "code",
   "execution_count": 8,
   "metadata": {},
   "outputs": [
    {
     "name": "stdout",
     "output_type": "stream",
     "text": [
      "139\n"
     ]
    },
    {
     "ename": "TypeError",
     "evalue": "'builtin_function_or_method' object is not subscriptable",
     "output_type": "error",
     "traceback": [
      "\u001b[1;31m---------------------------------------------------------------------------\u001b[0m",
      "\u001b[1;31mTypeError\u001b[0m                                 Traceback (most recent call last)",
      "\u001b[1;32m~\\AppData\\Local\\Temp/ipykernel_32260/1370237545.py\u001b[0m in \u001b[0;36m<module>\u001b[1;34m\u001b[0m\n\u001b[0;32m      3\u001b[0m \u001b[1;32mfor\u001b[0m \u001b[0mvline\u001b[0m \u001b[1;32min\u001b[0m \u001b[0mvent_lines\u001b[0m\u001b[1;33m:\u001b[0m\u001b[1;33m\u001b[0m\u001b[1;33m\u001b[0m\u001b[0m\n\u001b[0;32m      4\u001b[0m     \u001b[0mprint\u001b[0m\u001b[1;33m(\u001b[0m\u001b[0mvline\u001b[0m\u001b[1;33m.\u001b[0m\u001b[0mxy2\u001b[0m\u001b[1;33m[\u001b[0m\u001b[1;36m0\u001b[0m\u001b[1;33m]\u001b[0m\u001b[1;33m)\u001b[0m\u001b[1;33m\u001b[0m\u001b[1;33m\u001b[0m\u001b[0m\n\u001b[1;32m----> 5\u001b[1;33m     \u001b[1;32mif\u001b[0m \u001b[0mvline\u001b[0m\u001b[1;33m.\u001b[0m\u001b[0mxy2\u001b[0m\u001b[1;33m[\u001b[0m\u001b[1;36m0\u001b[0m\u001b[1;33m]\u001b[0m \u001b[1;33m>\u001b[0m \u001b[0mmax\u001b[0m\u001b[1;33m[\u001b[0m\u001b[1;36m0\u001b[0m\u001b[1;33m]\u001b[0m\u001b[1;33m:\u001b[0m\u001b[1;33m\u001b[0m\u001b[1;33m\u001b[0m\u001b[0m\n\u001b[0m\u001b[0;32m      6\u001b[0m         \u001b[0mmax\u001b[0m\u001b[1;33m[\u001b[0m\u001b[1;36m0\u001b[0m\u001b[1;33m]\u001b[0m \u001b[1;33m=\u001b[0m \u001b[0mvline\u001b[0m\u001b[1;33m.\u001b[0m\u001b[0mxy2\u001b[0m\u001b[1;33m[\u001b[0m\u001b[1;36m0\u001b[0m\u001b[1;33m]\u001b[0m\u001b[1;33m\u001b[0m\u001b[1;33m\u001b[0m\u001b[0m\n\u001b[0;32m      7\u001b[0m \u001b[1;33m\u001b[0m\u001b[0m\n",
      "\u001b[1;31mTypeError\u001b[0m: 'builtin_function_or_method' object is not subscriptable"
     ]
    }
   ],
   "source": [
    "xy_max = (0, 0)\n",
    "\n",
    "for vline in vent_lines:\n",
    "    print(vline.xy2[0])\n",
    "    if vline.xy2[0] > max[0]:\n",
    "        max[0] = vline.xy2[0]\n",
    "\n",
    "    if vline.xy2[1] > max[1]:\n",
    "        max[0] = vline.xy2[0]\n",
    "\n",
    "    \n",
    "xy_max"
   ]
  },
  {
   "cell_type": "code",
   "execution_count": 9,
   "metadata": {},
   "outputs": [
    {
     "name": "stdout",
     "output_type": "stream",
     "text": [
      "Count of risk places: 19939\n"
     ]
    }
   ],
   "source": [
    "vent_lines = get_vent_lines(input)\n",
    "ocean_floor = prepare_ocean_floor(1000)\n",
    "calculate_risk(vent_lines, ocean_floor)"
   ]
  }
 ],
 "metadata": {
  "interpreter": {
   "hash": "98f78525312aa7537cdbdabd42a2ea1d92467029a55d5f2fa3007de8c400d6f4"
  },
  "kernelspec": {
   "display_name": "Python 3.9.5 64-bit",
   "language": "python",
   "name": "python3"
  },
  "language_info": {
   "codemirror_mode": {
    "name": "ipython",
    "version": 3
   },
   "file_extension": ".py",
   "mimetype": "text/x-python",
   "name": "python",
   "nbconvert_exporter": "python",
   "pygments_lexer": "ipython3",
   "version": "3.9.5"
  },
  "orig_nbformat": 4
 },
 "nbformat": 4,
 "nbformat_minor": 2
}
