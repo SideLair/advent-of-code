{
 "cells": [
  {
   "cell_type": "code",
   "execution_count": 1,
   "metadata": {},
   "outputs": [],
   "source": [
    "import re\n",
    "import pprint as pp"
   ]
  },
  {
   "cell_type": "code",
   "execution_count": 2,
   "metadata": {},
   "outputs": [],
   "source": [
    "with open('input.txt') as f:\n",
    "    input = [line.strip() for line in f]"
   ]
  },
  {
   "cell_type": "code",
   "execution_count": 14,
   "metadata": {},
   "outputs": [],
   "source": [
    "class Vent_line():\n",
    "    xy1 = (-1, -1)\n",
    "    xy2 = (-1, -1)\n",
    "    line_coords = []\n",
    "    is_diagonal = False\n",
    "\n",
    "    \n",
    "    def __init__(self, x_1, y_1, x_2, y_2):\n",
    "        self.xy1 = (int(x_1), int(y_1))\n",
    "        self.xy2 = (int(x_2), int(y_2))\n",
    "        self.line_coords = []\n",
    "        self.calculate_line()\n",
    "\n",
    "    def calculate_line(self):\n",
    "        xy_temp = self.xy1\n",
    "\n",
    "        self.line_coords.append(xy_temp)\n",
    "\n",
    "        while ((xy_temp[0] != self.xy2[0]) | (xy_temp[1] != self.xy2[1])):\n",
    "\n",
    "            if (xy_temp[0] > self.xy2[0]) & (xy_temp[1] > self.xy2[1]):\n",
    "                xy_temp = (xy_temp[0] - 1, xy_temp[1] - 1)\n",
    "                self.is_diagonal = True\n",
    "            elif (xy_temp[0] < self.xy2[0]) & (xy_temp[1] < self.xy2[1]):\n",
    "                xy_temp = (xy_temp[0] + 1, xy_temp[1] + 1)\n",
    "                self.is_diagonal = True\n",
    "                \n",
    "            elif (xy_temp[0] < self.xy2[0]) & (xy_temp[1] > self.xy2[1]):\n",
    "                xy_temp = (xy_temp[0] + 1, xy_temp[1] - 1)\n",
    "                self.is_diagonal = True\n",
    "            elif (xy_temp[0] > self.xy2[0]) & (xy_temp[1] < self.xy2[1]):\n",
    "                xy_temp = (xy_temp[0] - 1, xy_temp[1] + 1)\n",
    "                self.is_diagonal = True\n",
    "\n",
    "            elif (xy_temp[0] == self.xy2[0]) & (xy_temp[1] < self.xy2[1]):\n",
    "                xy_temp = (xy_temp[0], xy_temp[1] + 1)\n",
    "            elif (xy_temp[0] == self.xy2[0]) & (xy_temp[1] > self.xy2[1]):\n",
    "                xy_temp = (xy_temp[0], xy_temp[1] - 1)\n",
    "\n",
    "            elif (xy_temp[0] < self.xy2[0]) & (xy_temp[1] == self.xy2[1]):\n",
    "                xy_temp = (xy_temp[0] + 1, xy_temp[1])\n",
    "            elif (xy_temp[0] > self.xy2[0]) & (xy_temp[1] == self.xy2[1]):\n",
    "                xy_temp = (xy_temp[0] - 1, xy_temp[1])\n",
    "\n",
    "\n",
    "            self.line_coords.append(xy_temp)\n",
    "        "
   ]
  },
  {
   "cell_type": "code",
   "execution_count": 17,
   "metadata": {},
   "outputs": [],
   "source": [
    "def get_vent_lines(input):\n",
    "    vent_lines = []\n",
    "\n",
    "    for row in input:\n",
    "        x1, y1, x2, y2 = re.match(r'(\\d*),(\\d*) -> (\\d*),(\\d*)', row).groups()\n",
    "        new_vline = Vent_line(x1, y1, x2, y2)\n",
    "\n",
    "        vent_lines.append(new_vline)\n",
    "\n",
    "    return vent_lines"
   ]
  },
  {
   "cell_type": "code",
   "execution_count": 16,
   "metadata": {},
   "outputs": [],
   "source": [
    "def calculate_risk(vent_lines, ocean_floor):\n",
    "    risk_places_count = 0\n",
    "\n",
    "    for vline in vent_lines:\n",
    "        for x, y in vline.line_coords:\n",
    "            ocean_floor[y][x] += 1\n",
    "\n",
    "            if ocean_floor[y][x] == 2:\n",
    "                risk_places_count += 1\n",
    "\n",
    "    print(f'Count of risk places: {risk_places_count}')"
   ]
  },
  {
   "cell_type": "code",
   "execution_count": 6,
   "metadata": {},
   "outputs": [],
   "source": [
    "def prepare_ocean_floor(vent_lines):\n",
    "    xy_max = (0, 0)\n",
    "\n",
    "    for vline in vent_lines:\n",
    "        if vline.xy2[0] > xy_max[0]:\n",
    "            xy_max = (vline.xy2[0], xy_max[1])\n",
    "\n",
    "        if vline.xy2[1] > xy_max[1]:\n",
    "            xy_max = (vline.xy2[1], xy_max[0])\n",
    "            \n",
    "        if vline.xy1[0] > xy_max[0]:\n",
    "            xy_max = (vline.xy1[0], xy_max[1])\n",
    "\n",
    "        if vline.xy1[1] > xy_max[1]:\n",
    "            xy_max = (vline.xy1[1], xy_max[0])\n",
    "\n",
    "    size = max(xy_max) + 1\n",
    "    \n",
    "    return [[0] * size for i in range(size)]"
   ]
  },
  {
   "cell_type": "code",
   "execution_count": 18,
   "metadata": {},
   "outputs": [
    {
     "name": "stdout",
     "output_type": "stream",
     "text": [
      "Count of risk places: 19939\n"
     ]
    }
   ],
   "source": [
    "vent_lines = get_vent_lines(input)\n",
    "ocean_floor = prepare_ocean_floor(vent_lines)\n",
    "\n",
    "calculate_risk(vent_lines, ocean_floor)"
   ]
  }
 ],
 "metadata": {
  "interpreter": {
   "hash": "98f78525312aa7537cdbdabd42a2ea1d92467029a55d5f2fa3007de8c400d6f4"
  },
  "kernelspec": {
   "display_name": "Python 3.9.5 64-bit",
   "language": "python",
   "name": "python3"
  },
  "language_info": {
   "codemirror_mode": {
    "name": "ipython",
    "version": 3
   },
   "file_extension": ".py",
   "mimetype": "text/x-python",
   "name": "python",
   "nbconvert_exporter": "python",
   "pygments_lexer": "ipython3",
   "version": "3.9.5"
  },
  "orig_nbformat": 4
 },
 "nbformat": 4,
 "nbformat_minor": 2
}
