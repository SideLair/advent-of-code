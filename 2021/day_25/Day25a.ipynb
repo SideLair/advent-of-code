{
 "cells": [
  {
   "cell_type": "code",
   "execution_count": 292,
   "metadata": {},
   "outputs": [],
   "source": [
    "with open('input.txt') as f:\n",
    "    input = [line.strip('\\n') for line in f]"
   ]
  },
  {
   "cell_type": "markdown",
   "metadata": {},
   "source": [
    "1. nacist\n",
    "2. prevest do slovniku > : (x, y)\n",
    "3. projet kopii slovniku a zjistovat esi je \n",
    "    a) vpravo tecka, pak se > muze hybnout\n",
    "    b) je dole tecka, pak se v muze hybnout"
   ]
  },
  {
   "cell_type": "code",
   "execution_count": 293,
   "metadata": {},
   "outputs": [],
   "source": [
    "def preproces_cucumbs(input):\n",
    "    cucumbs = {}\n",
    "\n",
    "    for i, row in enumerate(input):\n",
    "        for j, c in enumerate(row):\n",
    "            if c not in cucumbs:\n",
    "                cucumbs[c] = set()\n",
    "                \n",
    "            cucumbs[c].add((i, j))\n",
    "        \n",
    "    return cucumbs\n"
   ]
  },
  {
   "cell_type": "code",
   "execution_count": 294,
   "metadata": {},
   "outputs": [],
   "source": [
    "def get_new_coord(current_coord, direction, max_index_i, max_index_j):\n",
    "    i, j = current_coord\n",
    "\n",
    "    if direction == '>':\n",
    "        new_i = i\n",
    "        new_j = 0 if j + 1 > max_index_j else j + 1\n",
    "    elif direction == 'v':\n",
    "        new_i = 0 if i + 1 > max_index_i else i + 1\n",
    "        new_j = j\n",
    "    else:\n",
    "        new_i = i\n",
    "        new_j = j\n",
    "\n",
    "    return (new_i, new_j)\n"
   ]
  },
  {
   "cell_type": "code",
   "execution_count": 295,
   "metadata": {},
   "outputs": [],
   "source": [
    "def print_state(cucumbs, input):\n",
    "    ground = [[s for s in row] for row in input]\n",
    "    for c, coords in cucumbs.items():\n",
    "        for i, j in coords:\n",
    "            ground[i][j] = c\n",
    "\n",
    "    for line in ground:\n",
    "        print(''.join(line))"
   ]
  },
  {
   "cell_type": "code",
   "execution_count": 296,
   "metadata": {},
   "outputs": [
    {
     "name": "stdout",
     "output_type": "stream",
     "text": [
      "max_index_i=136 max_index_j=138\n"
     ]
    }
   ],
   "source": [
    "max_index_i = len(input) - 1\n",
    "max_index_j = len(input[0]) - 1\n",
    "\n",
    "print(f'{max_index_i=} {max_index_j=}')\n",
    "\n",
    "cucumbs = preproces_cucumbs(input)"
   ]
  },
  {
   "cell_type": "code",
   "execution_count": 297,
   "metadata": {},
   "outputs": [],
   "source": [
    "def move_cucumbs(direction, cucumbs):\n",
    "    was_moved = False\n",
    "    new_cucumbs = {\n",
    "        direction : set(),\n",
    "        '.' : set()\n",
    "    }\n",
    "\n",
    "    for cur_coord in cucumbs[direction]:\n",
    "        new_coord = get_new_coord(cur_coord, direction, max_index_i, max_index_j)\n",
    "        if new_coord in cucumbs['.']:\n",
    "            new_cucumbs[direction].add(new_coord)\n",
    "            new_cucumbs['.'].add(cur_coord)\n",
    "\n",
    "            was_moved = True\n",
    "        else:\n",
    "            new_cucumbs[direction].add(cur_coord)\n",
    "\n",
    "\n",
    "    cucumbs[direction] = new_cucumbs[direction]\n",
    "    cucumbs['.'] |= new_cucumbs['.']\n",
    "    cucumbs['.'] -= new_cucumbs[direction]\n",
    "\n",
    "    return (was_moved, cucumbs)"
   ]
  },
  {
   "cell_type": "code",
   "execution_count": 298,
   "metadata": {},
   "outputs": [
    {
     "name": "stdout",
     "output_type": "stream",
     "text": [
      "No moves in round 337\n"
     ]
    }
   ],
   "source": [
    "for r in range(1, 1000):\n",
    "       \n",
    "    was_moved, cucumbs = move_cucumbs('>', cucumbs)\n",
    "    was_moved, cucumbs = move_cucumbs('v', cucumbs)\n",
    "\n",
    "    if not was_moved:\n",
    "        print(f'No moves in round {r}')\n",
    "        break    \n"
   ]
  }
 ],
 "metadata": {
  "interpreter": {
   "hash": "98f78525312aa7537cdbdabd42a2ea1d92467029a55d5f2fa3007de8c400d6f4"
  },
  "kernelspec": {
   "display_name": "Python 3.9.5 64-bit",
   "language": "python",
   "name": "python3"
  },
  "language_info": {
   "codemirror_mode": {
    "name": "ipython",
    "version": 3
   },
   "file_extension": ".py",
   "mimetype": "text/x-python",
   "name": "python",
   "nbconvert_exporter": "python",
   "pygments_lexer": "ipython3",
   "version": "3.9.5"
  },
  "orig_nbformat": 4
 },
 "nbformat": 4,
 "nbformat_minor": 2
}
