{
 "cells": [
  {
   "cell_type": "markdown",
   "metadata": {},
   "source": [
    "### Day 5 - nice & ugly text\n",
    "\n",
    "https://adventofcode.com/2015/day/5"
   ]
  },
  {
   "cell_type": "code",
   "execution_count": 1,
   "metadata": {},
   "outputs": [],
   "source": [
    "from collections import Counter"
   ]
  },
  {
   "cell_type": "code",
   "execution_count": 2,
   "metadata": {},
   "outputs": [],
   "source": [
    "input_file = open(\"input_05.txt\", \"r\")\n",
    "data = input_file.read()\n",
    "texts = data.strip().split('\\n')"
   ]
  },
  {
   "cell_type": "code",
   "execution_count": 3,
   "metadata": {},
   "outputs": [],
   "source": [
    "def check(text):\n",
    "    vowels = ['a', 'e', 'i', 'o', 'u']\n",
    "    forbidens = ['ab', 'cd', 'pq', 'xy']\n",
    "\n",
    "    conditions = {\n",
    "        'vowels' : sum([v for k, v in Counter(text).items() if k in vowels]) >= 3,\n",
    "        'doubles' : len([True for i in range(2, len(text) + 1) if len(set(text[i-2:i])) == 1]) > 0,\n",
    "        'forbidens' : len([f for f in forbidens if f in text]) ==  0\n",
    "    }\n",
    "\n",
    "    conditions\n",
    "\n",
    "    return list(conditions.values()).count(True) == 3"
   ]
  },
  {
   "cell_type": "code",
   "execution_count": 4,
   "metadata": {},
   "outputs": [
    {
     "data": {
      "text/plain": [
       "238"
      ]
     },
     "execution_count": 4,
     "metadata": {},
     "output_type": "execute_result"
    }
   ],
   "source": [
    "Counter([check(t) for t in texts])[True]"
   ]
  },
  {
   "cell_type": "code",
   "execution_count": 5,
   "metadata": {},
   "outputs": [],
   "source": [
    "def check2(data):\n",
    "    data_2 = data[::2]\n",
    "    data_3 = data[1::2]\n",
    "\n",
    "    for i in list(range(0, len(data) - 1)):\n",
    "        window = data[i:i+2]\n",
    "        pre = data[:i]\n",
    "        post = data[2+i:]\n",
    "\n",
    "        doubles = (window in pre) or (window in post)\n",
    "\n",
    "        if doubles:\n",
    "            break\n",
    "\n",
    "    doubles_odd = (\n",
    "        len([True for i in range(2, len(data_2) + 1) if len(set(data_2[i-2:i])) == 1]) + \n",
    "        len([True for i in range(2, len(data_3) + 1) if len(set(data_3[i-2:i])) == 1])\n",
    "        ) > 0\n",
    "\n",
    "    return doubles & doubles_odd"
   ]
  },
  {
   "cell_type": "code",
   "execution_count": 6,
   "metadata": {},
   "outputs": [
    {
     "data": {
      "text/plain": [
       "69"
      ]
     },
     "execution_count": 6,
     "metadata": {},
     "output_type": "execute_result"
    }
   ],
   "source": [
    "Counter([check2(t) for t in texts])[True]\n"
   ]
  }
 ],
 "metadata": {
  "kernelspec": {
   "display_name": "Python 3.10.5 ('venv-jupyter')",
   "language": "python",
   "name": "python3"
  },
  "language_info": {
   "codemirror_mode": {
    "name": "ipython",
    "version": 3
   },
   "file_extension": ".py",
   "mimetype": "text/x-python",
   "name": "python",
   "nbconvert_exporter": "python",
   "pygments_lexer": "ipython3",
   "version": "3.10.5"
  },
  "orig_nbformat": 4,
  "vscode": {
   "interpreter": {
    "hash": "62abda820e838343c9dc43ed9e178e200f47ce3a485529130a5bf834a20b7dfe"
   }
  }
 },
 "nbformat": 4,
 "nbformat_minor": 2
}
