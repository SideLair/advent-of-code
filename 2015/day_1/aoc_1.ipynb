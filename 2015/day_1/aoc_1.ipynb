{
 "cells": [
  {
   "cell_type": "markdown",
   "metadata": {},
   "source": [
    "### Day 1 - lifts\n",
    "\n",
    "https://adventofcode.com/2015/day/1"
   ]
  },
  {
   "cell_type": "code",
   "execution_count": null,
   "metadata": {},
   "outputs": [],
   "source": [
    "input_file = open(\"input_01.txt\", \"r\")\n",
    "data = input_file.read()\n",
    "#data = test_data\n",
    "data"
   ]
  },
  {
   "cell_type": "code",
   "execution_count": 4,
   "metadata": {},
   "outputs": [
    {
     "data": {
      "text/plain": [
       "74"
      ]
     },
     "execution_count": 4,
     "metadata": {},
     "output_type": "execute_result"
    }
   ],
   "source": [
    "data.count('(') - data.count(')')"
   ]
  },
  {
   "cell_type": "code",
   "execution_count": 10,
   "metadata": {},
   "outputs": [
    {
     "name": "stdout",
     "output_type": "stream",
     "text": [
      "-1 1795\n"
     ]
    }
   ],
   "source": [
    "current_floor = 0\n",
    "\n",
    "for index, c in enumerate(data):\n",
    "    current_floor = current_floor + 1 if c == '(' else current_floor - 1\n",
    "    if current_floor == -1:\n",
    "        print(current_floor, index + 1)\n",
    "        break"
   ]
  }
 ],
 "metadata": {
  "kernelspec": {
   "display_name": "Python 3.10.5 ('venv-jupyter')",
   "language": "python",
   "name": "python3"
  },
  "language_info": {
   "codemirror_mode": {
    "name": "ipython",
    "version": 3
   },
   "file_extension": ".py",
   "mimetype": "text/x-python",
   "name": "python",
   "nbconvert_exporter": "python",
   "pygments_lexer": "ipython3",
   "version": "3.10.5"
  },
  "orig_nbformat": 4,
  "vscode": {
   "interpreter": {
    "hash": "62abda820e838343c9dc43ed9e178e200f47ce3a485529130a5bf834a20b7dfe"
   }
  }
 },
 "nbformat": 4,
 "nbformat_minor": 2
}
