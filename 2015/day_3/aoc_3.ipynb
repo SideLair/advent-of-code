{
 "cells": [
  {
   "cell_type": "markdown",
   "metadata": {},
   "source": [
    "### Day 3 - gifts 2 houses\n",
    "\n",
    "https://adventofcode.com/2015/day/3"
   ]
  },
  {
   "cell_type": "code",
   "execution_count": 1,
   "metadata": {},
   "outputs": [],
   "source": [
    "input_file = open(\"input_03.txt\", \"r\")\n",
    "data = input_file.read()\n",
    "#data = '^v^v^v^v^v'\n",
    "track_history = data.strip()"
   ]
  },
  {
   "cell_type": "code",
   "execution_count": 2,
   "metadata": {},
   "outputs": [],
   "source": [
    "def get_visited_position(track_history):\n",
    "    visited_positions = set()\n",
    "    current_positon = (0, 0)\n",
    "\n",
    "    visited_positions.add(current_positon)\n",
    "\n",
    "    for direction in track_history:\n",
    "        if direction == '^':\n",
    "            new_positon = (current_positon[0] + 1, current_positon[1])\n",
    "        elif direction == '<':\n",
    "            new_positon = (current_positon[0], current_positon[1] + 1)\n",
    "        elif direction == '>':\n",
    "            new_positon = (current_positon[0], current_positon[1] - 1)\n",
    "        elif direction == 'v':\n",
    "            new_positon = (current_positon[0] - 1, current_positon[1])\n",
    "\n",
    "        visited_positions.add(new_positon)\n",
    "        current_positon = new_positon\n",
    "\n",
    "    return visited_positions"
   ]
  },
  {
   "cell_type": "code",
   "execution_count": 3,
   "metadata": {},
   "outputs": [
    {
     "data": {
      "text/plain": [
       "2565"
      ]
     },
     "execution_count": 3,
     "metadata": {},
     "output_type": "execute_result"
    }
   ],
   "source": [
    "len(get_visited_position(track_history))"
   ]
  },
  {
   "cell_type": "code",
   "execution_count": 4,
   "metadata": {},
   "outputs": [
    {
     "data": {
      "text/plain": [
       "2639"
      ]
     },
     "execution_count": 4,
     "metadata": {},
     "output_type": "execute_result"
    }
   ],
   "source": [
    "santas_history = track_history[::2]\n",
    "robots_history = track_history[1::2]\n",
    "\n",
    "len(get_visited_position(santas_history).union(get_visited_position(robots_history)))"
   ]
  }
 ],
 "metadata": {
  "kernelspec": {
   "display_name": "Python 3.10.5 ('venv-jupyter')",
   "language": "python",
   "name": "python3"
  },
  "language_info": {
   "codemirror_mode": {
    "name": "ipython",
    "version": 3
   },
   "file_extension": ".py",
   "mimetype": "text/x-python",
   "name": "python",
   "nbconvert_exporter": "python",
   "pygments_lexer": "ipython3",
   "version": "3.10.5"
  },
  "orig_nbformat": 4,
  "vscode": {
   "interpreter": {
    "hash": "62abda820e838343c9dc43ed9e178e200f47ce3a485529130a5bf834a20b7dfe"
   }
  }
 },
 "nbformat": 4,
 "nbformat_minor": 2
}
