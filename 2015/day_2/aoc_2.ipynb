{
 "cells": [
  {
   "cell_type": "markdown",
   "metadata": {},
   "source": [
    "### Day 2 - paper and ribbons\n",
    "\n",
    "https://adventofcode.com/2015/day/2"
   ]
  },
  {
   "cell_type": "code",
   "execution_count": 1,
   "metadata": {},
   "outputs": [],
   "source": [
    "input_file = open(\"input_02.txt\", \"r\")\n",
    "data = input_file.read()\n",
    "#data = '1x1x10'\n",
    "packages = data.strip().split('\\n')"
   ]
  },
  {
   "cell_type": "code",
   "execution_count": 2,
   "metadata": {},
   "outputs": [
    {
     "data": {
      "text/plain": [
       "1606483"
      ]
     },
     "execution_count": 2,
     "metadata": {},
     "output_type": "execute_result"
    }
   ],
   "source": [
    "pckgs = [package.split('x') for package in packages]\n",
    "pckg_size = [[int(l), int(w), int(h)] for l, w, h in pckgs]\n",
    "pckg_total_area = sum([2*sum([l*w, w*h, h*l]) + min([l*w, w*h, h*l]) for l, w, h in pckg_size])\n",
    "\n",
    "pckg_total_area"
   ]
  },
  {
   "cell_type": "code",
   "execution_count": 3,
   "metadata": {},
   "outputs": [
    {
     "data": {
      "text/plain": [
       "3842356"
      ]
     },
     "execution_count": 3,
     "metadata": {},
     "output_type": "execute_result"
    }
   ],
   "source": [
    "ribbon_counter = []\n",
    "\n",
    "for l, w, h in pckg_size:\n",
    "    sides = [l, w, h]\n",
    "    sides.remove(max(sides))\n",
    "    \n",
    "    ribbon_counter.append(l*w*h + sum([i+i for i in sides]))\n",
    "\n",
    "sum(ribbon_counter)"
   ]
  }
 ],
 "metadata": {
  "kernelspec": {
   "display_name": "Python 3.10.5 ('venv-jupyter')",
   "language": "python",
   "name": "python3"
  },
  "language_info": {
   "codemirror_mode": {
    "name": "ipython",
    "version": 3
   },
   "file_extension": ".py",
   "mimetype": "text/x-python",
   "name": "python",
   "nbconvert_exporter": "python",
   "pygments_lexer": "ipython3",
   "version": "3.10.5"
  },
  "orig_nbformat": 4,
  "vscode": {
   "interpreter": {
    "hash": "62abda820e838343c9dc43ed9e178e200f47ce3a485529130a5bf834a20b7dfe"
   }
  }
 },
 "nbformat": 4,
 "nbformat_minor": 2
}
