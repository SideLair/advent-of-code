{
 "cells": [
  {
   "cell_type": "markdown",
   "metadata": {},
   "source": [
    "### Day 3 - triangles \n",
    "\n",
    "\n",
    "https://adventofcode.com/2016/day/3\n",
    "\n",
    "<i>written by [https://chat.openai.com/]</i>"
   ]
  },
  {
   "cell_type": "markdown",
   "metadata": {},
   "source": [
    "input() replaced by data and instructions provided by chatbot:<br> To use this script, the triangle sides should be entered as a multiline string, with each line representing a row of triangle sides. The sides within each row should be separated by one or more spaces, as in the example. The script will then output the number of possible triangles, as described in the problem. Note that the input format is not strictly specified, so the script may need to be adjusted if the input is not in the exact format shown in the example."
   ]
  },
  {
   "cell_type": "code",
   "execution_count": 1,
   "metadata": {},
   "outputs": [],
   "source": [
    "input_file = open(\"input_03.txt\", \"r\")\n",
    "data = input_file.read()"
   ]
  },
  {
   "cell_type": "code",
   "execution_count": 2,
   "metadata": {},
   "outputs": [
    {
     "name": "stdout",
     "output_type": "stream",
     "text": [
      "1032 of the listed triangles are possible.\n"
     ]
    }
   ],
   "source": [
    "# Parse the input and extract the triangle sides\n",
    "triangles = []\n",
    "for line in data.split(\"\\n\"):\n",
    "  if line:  # Ignore empty lines\n",
    "    a, b, c = map(int, line.split())\n",
    "    triangles.append((a, b, c))\n",
    "\n",
    "# Count the number of possible triangles\n",
    "possible = 0\n",
    "for a, b, c in triangles:\n",
    "  if a + b > c and a + c > b and b + c > a:\n",
    "    possible += 1\n",
    "\n",
    "print(f\"{possible} of the listed triangles are possible.\")"
   ]
  },
  {
   "cell_type": "code",
   "execution_count": 3,
   "metadata": {},
   "outputs": [
    {
     "name": "stdout",
     "output_type": "stream",
     "text": [
      "1838 of the listed triangles are possible.\n"
     ]
    }
   ],
   "source": [
    "# Parse the input and extract the triangle sides\n",
    "triangles = []\n",
    "lines = data.split(\"\\n\")[:-1]  # Ignore the last empty line\n",
    "for i in range(0, len(lines), 3):\n",
    "  # Extract the sides of each triangle from the columns\n",
    "  a1, a2, a3 = map(int, lines[i].split())\n",
    "  b1, b2, b3 = map(int, lines[i+1].split())\n",
    "  c1, c2, c3 = map(int, lines[i+2].split())\n",
    "  triangles.extend([(a1, b1, c1), (a2, b2, c2), (a3, b3, c3)])\n",
    "\n",
    "# Count the number of possible triangles\n",
    "possible = 0\n",
    "for a, b, c in triangles:\n",
    "  if a + b > c and a + c > b and b + c > a:\n",
    "    possible += 1\n",
    "\n",
    "print(f\"{possible} of the listed triangles are possible.\")"
   ]
  },
  {
   "cell_type": "code",
   "execution_count": null,
   "metadata": {},
   "outputs": [],
   "source": []
  }
 ],
 "metadata": {
  "kernelspec": {
   "display_name": "Python 3.10.5 ('venv-jupyter')",
   "language": "python",
   "name": "python3"
  },
  "language_info": {
   "codemirror_mode": {
    "name": "ipython",
    "version": 3
   },
   "file_extension": ".py",
   "mimetype": "text/x-python",
   "name": "python",
   "nbconvert_exporter": "python",
   "pygments_lexer": "ipython3",
   "version": "3.10.5"
  },
  "orig_nbformat": 4,
  "vscode": {
   "interpreter": {
    "hash": "62abda820e838343c9dc43ed9e178e200f47ce3a485529130a5bf834a20b7dfe"
   }
  }
 },
 "nbformat": 4,
 "nbformat_minor": 2
}
