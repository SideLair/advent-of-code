{
 "cells": [
  {
   "cell_type": "markdown",
   "metadata": {},
   "source": [
    "### Day 5 - door lock\n",
    "\n",
    "\n",
    "https://adventofcode.com/2016/day/5\n",
    "\n",
    "<i>written by [https://chat.openai.com/]</i>"
   ]
  },
  {
   "cell_type": "code",
   "execution_count": 1,
   "metadata": {},
   "outputs": [
    {
     "name": "stdout",
     "output_type": "stream",
     "text": [
      "f77a0e6e\n"
     ]
    }
   ],
   "source": [
    "import hashlib\n",
    "\n",
    "# The Door ID\n",
    "door_id = \"cxdnnyjw\"\n",
    "\n",
    "# The password\n",
    "password = \"\"\n",
    "\n",
    "# The index to use for hashing\n",
    "index = 0\n",
    "\n",
    "# Keep going until the password is complete\n",
    "while len(password) < 8:\n",
    "  # Calculate the MD5 hash of the Door ID and the current index\n",
    "  m = hashlib.md5()\n",
    "  m.update((door_id + str(index)).encode(\"utf-8\"))\n",
    "  h = m.hexdigest()\n",
    "\n",
    "  # Check if the hash starts with five zeroes\n",
    "  if h[:5] == \"00000\":\n",
    "    # Add the sixth character of the hash to the password\n",
    "    password += h[5]\n",
    "\n",
    "  # Increment the index\n",
    "  index += 1\n",
    "\n",
    "# Print the password\n",
    "print(password)"
   ]
  },
  {
   "cell_type": "code",
   "execution_count": 3,
   "metadata": {},
   "outputs": [
    {
     "name": "stdout",
     "output_type": "stream",
     "text": [
      "f77a0e6e\n"
     ]
    }
   ],
   "source": [
    "import hashlib\n",
    "\n",
    "door_id = \"cxdnnyjw\"  # replace with the actual Door ID\n",
    "password = \"\"  # initialize empty password\n",
    "index = 0  # initialize index\n",
    "\n",
    "while len(password) < 8:\n",
    "    # generate the hash for the current index\n",
    "    h = hashlib.md5()\n",
    "    h.update(door_id.encode())\n",
    "    h.update(str(index).encode())\n",
    "    hash_str = h.hexdigest()\n",
    "\n",
    "    # check if the hash starts with five zeroes\n",
    "    if hash_str.startswith(\"00000\"):\n",
    "        # if it does, add the sixth character to the password\n",
    "        password += hash_str[5]\n",
    "\n",
    "    index += 1  # increment the index\n",
    "\n",
    "# print the generated password\n",
    "print(password)"
   ]
  },
  {
   "cell_type": "code",
   "execution_count": 5,
   "metadata": {},
   "outputs": [
    {
     "name": "stdout",
     "output_type": "stream",
     "text": [
      "['_', '_', '_', '_', '_', '_', '_', 'c']\n",
      "['9', '_', '_', '_', '_', '_', '_', 'c']\n",
      "['9', '_', '_', '_', '_', '_', 'e', 'c']\n",
      "['9', '_', '_', '_', '2', '_', 'e', 'c']\n",
      "['9', '_', '9', '_', '2', '_', 'e', 'c']\n",
      "['9', '_', '9', '8', '2', '_', 'e', 'c']\n",
      "['9', '_', '9', '8', '2', '8', 'e', 'c']\n",
      "['9', '9', '9', '8', '2', '8', 'e', 'c']\n",
      "999828ec\n"
     ]
    }
   ],
   "source": [
    "import hashlib\n",
    "\n",
    "door_id = \"cxdnnyjw\"  # replace with the actual Door ID\n",
    "password = [\"_\"] * 8  # initialize password with underscores\n",
    "index = 0  # initialize index\n",
    "\n",
    "while not all(c.isalnum() for c in password):  # continue until password is filled\n",
    "    # generate the hash for the current index\n",
    "    h = hashlib.md5()\n",
    "    h.update(door_id.encode())\n",
    "    h.update(str(index).encode())\n",
    "    hash_str = h.hexdigest()\n",
    "\n",
    "    # check if the hash starts with five zeroes\n",
    "    if hash_str.startswith(\"00000\"):\n",
    "        # if it does, extract the position and character from the hash\n",
    "        pos = int(hash_str[5], 16)  # convert from hexadecimal to integer\n",
    "        char = hash_str[6]\n",
    "\n",
    "        # only update the password if the position is valid (0-7)\n",
    "        # and if the character at that position is still an underscore\n",
    "        if 0 <= pos < len(password) and password[pos] == \"_\":\n",
    "            password[pos] = char\n",
    "            print(password)\n",
    "\n",
    "    index += 1  # increment the index\n",
    "\n",
    "# print the generated password\n",
    "print(\"\".join(password))"
   ]
  },
  {
   "cell_type": "code",
   "execution_count": 4,
   "metadata": {},
   "outputs": [
    {
     "ename": "AttributeError",
     "evalue": "'list' object has no attribute 'join'",
     "output_type": "error",
     "traceback": [
      "\u001b[1;31m---------------------------------------------------------------------------\u001b[0m",
      "\u001b[1;31mAttributeError\u001b[0m                            Traceback (most recent call last)",
      "\u001b[1;32md:\\analyzy\\advent-of-code\\2016\\day_5\\aoc_5.ipynb Cell 5\u001b[0m in \u001b[0;36m<cell line: 1>\u001b[1;34m()\u001b[0m\n\u001b[1;32m----> <a href='vscode-notebook-cell:/d%3A/analyzy/advent-of-code/2016/day_5/aoc_5.ipynb#X15sZmlsZQ%3D%3D?line=0'>1</a>\u001b[0m [\u001b[39m'\u001b[39;49m\u001b[39m9\u001b[39;49m\u001b[39m'\u001b[39;49m, \u001b[39m'\u001b[39;49m\u001b[39m9\u001b[39;49m\u001b[39m'\u001b[39;49m, \u001b[39m'\u001b[39;49m\u001b[39m9\u001b[39;49m\u001b[39m'\u001b[39;49m, \u001b[39m'\u001b[39;49m\u001b[39m8\u001b[39;49m\u001b[39m'\u001b[39;49m, \u001b[39m'\u001b[39;49m\u001b[39m2\u001b[39;49m\u001b[39m'\u001b[39;49m, \u001b[39m'\u001b[39;49m\u001b[39m8\u001b[39;49m\u001b[39m'\u001b[39;49m, \u001b[39m'\u001b[39;49m\u001b[39me\u001b[39;49m\u001b[39m'\u001b[39;49m, \u001b[39m'\u001b[39;49m\u001b[39mc\u001b[39;49m\u001b[39m'\u001b[39;49m]\u001b[39m.\u001b[39;49mjoin(password)\n",
      "\u001b[1;31mAttributeError\u001b[0m: 'list' object has no attribute 'join'"
     ]
    }
   ],
   "source": [
    "['9', '9', '9', '8', '2', '8', 'e', 'c'].join(password)"
   ]
  },
  {
   "cell_type": "code",
   "execution_count": 2,
   "metadata": {},
   "outputs": [
    {
     "name": "stdout",
     "output_type": "stream",
     "text": [
      "________\n"
     ]
    }
   ],
   "source": [
    "import concurrent.futures\n",
    "import hashlib\n",
    "\n",
    "door_id = \"cxdnnyjw\"  # replace with the actual Door ID\n",
    "password = [\"_\"] * 8  # initialize password with underscores\n",
    "index = 0  # initialize index\n",
    "\n",
    "# function to generate and check the hashes\n",
    "def compute_hash(index):\n",
    "    # generate the hash for the current index\n",
    "    h = hashlib.md5()\n",
    "    h.update(door_id.encode())\n",
    "    h.update(str(index).encode())\n",
    "    hash_str = h.hexdigest()\n",
    "\n",
    "    # check if the hash starts with five zeroes\n",
    "    if hash_str.startswith(\"00000\"):\n",
    "        # if it does, extract the position and character from the hash\n",
    "        pos = int(hash_str[5], 16)  # convert from hexadecimal to integer\n",
    "        char = hash_str[6]\n",
    "\n",
    "        # only update the password if the position is valid (0-7)\n",
    "        # and if the character at that position is still an underscore\n",
    "        if 0 <= pos < len(password) and password[pos] == \"_\":\n",
    "            password[pos] = char\n",
    "\n",
    "# use a ThreadPoolExecutor to run the function in multiple threads\n",
    "with concurrent.futures.ThreadPoolExecutor() as executor:\n",
    "    # submit a new task for each index\n",
    "    for i in range(index, 100000):  # replace with a higher value if necessary\n",
    "        executor.submit(compute_hash, i)\n",
    "\n",
    "# print the generated password\n",
    "print(\"\".join(password))"
   ]
  }
 ],
 "metadata": {
  "kernelspec": {
   "display_name": "Python 3.10.5 ('venv-jupyter')",
   "language": "python",
   "name": "python3"
  },
  "language_info": {
   "codemirror_mode": {
    "name": "ipython",
    "version": 3
   },
   "file_extension": ".py",
   "mimetype": "text/x-python",
   "name": "python",
   "nbconvert_exporter": "python",
   "pygments_lexer": "ipython3",
   "version": "3.10.5"
  },
  "orig_nbformat": 4,
  "vscode": {
   "interpreter": {
    "hash": "62abda820e838343c9dc43ed9e178e200f47ce3a485529130a5bf834a20b7dfe"
   }
  }
 },
 "nbformat": 4,
 "nbformat_minor": 2
}
