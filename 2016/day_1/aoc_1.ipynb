{
 "cells": [
  {
   "cell_type": "markdown",
   "metadata": {},
   "source": [
    "### Day 1 - no taxi\n",
    "\n",
    "https://adventofcode.com/2016/day/1\n",
    "\n",
    "<i>written by [https://chat.openai.com/]</i>"
   ]
  },
  {
   "cell_type": "code",
   "execution_count": 1,
   "metadata": {},
   "outputs": [],
   "source": [
    "with open(\"input_01.txt\", \"r\") as input_file:\n",
    "    instructions = input_file.read().replace(' ', '').split(',')"
   ]
  },
  {
   "cell_type": "code",
   "execution_count": 2,
   "metadata": {},
   "outputs": [
    {
     "name": "stdout",
     "output_type": "stream",
     "text": [
      "Easter Bunny HQ is 246 blocks away.\n"
     ]
    }
   ],
   "source": [
    "# Parse the input and extract the instructions\n",
    "#instructions = input().split(\", \")\n",
    "\n",
    "# Initialize the position and direction\n",
    "x, y = 0, 0\n",
    "dir = \"N\"\n",
    "\n",
    "# Loop through the instructions and update the position and direction\n",
    "for inst in instructions:\n",
    "  # Turn left or right\n",
    "  if inst[0] == \"L\":\n",
    "    dir = {\"N\": \"W\", \"W\": \"S\", \"S\": \"E\", \"E\": \"N\"}[dir]\n",
    "  elif inst[0] == \"R\":\n",
    "    dir = {\"N\": \"E\", \"E\": \"S\", \"S\": \"W\", \"W\": \"N\"}[dir]\n",
    "\n",
    "  # Walk forward the given number of blocks\n",
    "  blocks = int(inst[1:])\n",
    "  if dir == \"N\":\n",
    "    y += blocks\n",
    "  elif dir == \"S\":\n",
    "    y -= blocks\n",
    "  elif dir == \"E\":\n",
    "    x += blocks\n",
    "  elif dir == \"W\":\n",
    "    x -= blocks\n",
    "\n",
    "# Calculate the Manhattan distance to the destination\n",
    "distance = abs(x) + abs(y)\n",
    "print(f\"Easter Bunny HQ is {distance} blocks away.\")\n"
   ]
  },
  {
   "cell_type": "code",
   "execution_count": 3,
   "metadata": {},
   "outputs": [
    {
     "name": "stdout",
     "output_type": "stream",
     "text": [
      "The first location visited twice is 124 blocks away.\n",
      "The first location visited twice is 250 blocks away.\n",
      "The first location visited twice is 253 blocks away.\n",
      "The first location visited twice is 250 blocks away.\n",
      "The first location visited twice is 251 blocks away.\n",
      "The first location visited twice is 254 blocks away.\n",
      "The first location visited twice is 253 blocks away.\n",
      "The first location visited twice is 252 blocks away.\n",
      "The first location visited twice is 251 blocks away.\n",
      "The first location visited twice is 243 blocks away.\n",
      "The first location visited twice is 244 blocks away.\n",
      "The first location visited twice is 245 blocks away.\n",
      "The first location visited twice is 246 blocks away.\n",
      "The first location visited twice is 247 blocks away.\n",
      "The first location visited twice is 248 blocks away.\n",
      "The first location visited twice is 245 blocks away.\n",
      "The first location visited twice is 244 blocks away.\n",
      "The first location visited twice is 243 blocks away.\n",
      "The first location visited twice is 236 blocks away.\n",
      "The first location visited twice is 234 blocks away.\n",
      "The first location visited twice is 233 blocks away.\n",
      "The first location visited twice is 232 blocks away.\n",
      "The first location visited twice is 231 blocks away.\n",
      "The first location visited twice is 227 blocks away.\n",
      "The first location visited twice is 223 blocks away.\n",
      "The first location visited twice is 224 blocks away.\n",
      "The first location visited twice is 225 blocks away.\n",
      "The first location visited twice is 226 blocks away.\n",
      "The first location visited twice is 227 blocks away.\n",
      "The first location visited twice is 228 blocks away.\n",
      "The first location visited twice is 226 blocks away.\n",
      "The first location visited twice is 225 blocks away.\n",
      "The first location visited twice is 224 blocks away.\n",
      "The first location visited twice is 223 blocks away.\n",
      "The first location visited twice is 222 blocks away.\n",
      "The first location visited twice is 221 blocks away.\n",
      "The first location visited twice is 222 blocks away.\n",
      "The first location visited twice is 223 blocks away.\n",
      "The first location visited twice is 224 blocks away.\n",
      "The first location visited twice is 229 blocks away.\n",
      "The first location visited twice is 230 blocks away.\n",
      "The first location visited twice is 231 blocks away.\n",
      "The first location visited twice is 232 blocks away.\n",
      "The first location visited twice is 235 blocks away.\n",
      "The first location visited twice is 236 blocks away.\n",
      "The first location visited twice is 237 blocks away.\n",
      "The first location visited twice is 239 blocks away.\n",
      "The first location visited twice is 235 blocks away.\n",
      "The first location visited twice is 230 blocks away.\n",
      "The first location visited twice is 231 blocks away.\n",
      "The first location visited twice is 232 blocks away.\n",
      "The first location visited twice is 233 blocks away.\n",
      "The first location visited twice is 240 blocks away.\n",
      "The first location visited twice is 254 blocks away.\n",
      "The first location visited twice is 250 blocks away.\n",
      "The first location visited twice is 249 blocks away.\n",
      "The first location visited twice is 251 blocks away.\n",
      "The first location visited twice is 253 blocks away.\n",
      "The first location visited twice is 249 blocks away.\n"
     ]
    },
    {
     "ename": "",
     "evalue": "",
     "output_type": "error",
     "traceback": [
      "The Kernel crashed while executing code in the the current cell or a previous cell. Please review the code in the cell(s) to identify a possible cause of the failure. Click <a href='https://aka.ms/vscodeJupyterKernelCrash'>here</a> for more info. View Jupyter <a href='command:jupyter.viewOutput'>log</a> for further details."
     ]
    }
   ],
   "source": [
    "# Parse the input and extract the instructions\n",
    "#instructions = input().split(\", \")\n",
    "\n",
    "# Initialize the position and direction\n",
    "x, y = 0, 0\n",
    "dir = \"N\"\n",
    "\n",
    "# Keep track of the visited locations\n",
    "visited = set()\n",
    "visited.add((x, y))\n",
    "\n",
    "# Loop through the instructions and update the position and direction\n",
    "for inst in instructions:\n",
    "  # Turn left or right\n",
    "  if inst[0] == \"L\":\n",
    "    dir = {\"N\": \"W\", \"W\": \"S\", \"S\": \"E\", \"E\": \"N\"}[dir]\n",
    "  elif inst[0] == \"R\":\n",
    "    dir = {\"N\": \"E\", \"E\": \"S\", \"S\": \"W\", \"W\": \"N\"}[dir]\n",
    "\n",
    "  # Walk forward the given number of blocks\n",
    "  blocks = int(inst[1:])\n",
    "  for i in range(blocks):\n",
    "    # Update the position based on the current direction\n",
    "    if dir == \"N\":\n",
    "      y += 1\n",
    "    elif dir == \"S\":\n",
    "      y -= 1\n",
    "    elif dir == \"E\":\n",
    "      x += 1\n",
    "    elif dir == \"W\":\n",
    "      x -= 1\n",
    "\n",
    "    # Check if the new location has been visited before\n",
    "    if (x, y) in visited:\n",
    "      # Calculate the Manhattan distance to the destination\n",
    "      distance = abs(x) + abs(y)\n",
    "      print(f\"The first location visited twice is {distance} blocks away.\")\n",
    "      quit()\n",
    "\n",
    "    # Mark the location as visited\n",
    "    visited.add((x, y))"
   ]
  }
 ],
 "metadata": {
  "kernelspec": {
   "display_name": "Python 3.10.5 ('venv-jupyter')",
   "language": "python",
   "name": "python3"
  },
  "language_info": {
   "codemirror_mode": {
    "name": "ipython",
    "version": 3
   },
   "file_extension": ".py",
   "mimetype": "text/x-python",
   "name": "python",
   "nbconvert_exporter": "python",
   "pygments_lexer": "ipython3",
   "version": "3.10.5"
  },
  "orig_nbformat": 4,
  "vscode": {
   "interpreter": {
    "hash": "62abda820e838343c9dc43ed9e178e200f47ce3a485529130a5bf834a20b7dfe"
   }
  }
 },
 "nbformat": 4,
 "nbformat_minor": 2
}
