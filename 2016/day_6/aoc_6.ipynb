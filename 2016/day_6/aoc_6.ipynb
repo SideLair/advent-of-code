{
 "cells": [
  {
   "cell_type": "markdown",
   "metadata": {},
   "source": [
    "### Day 6 - signals\n",
    "\n",
    "\n",
    "https://adventofcode.com/2016/day/6\n",
    "\n",
    "<i>written by [https://chat.openai.com/]</i>"
   ]
  },
  {
   "cell_type": "code",
   "execution_count": 3,
   "metadata": {},
   "outputs": [
    {
     "name": "stdout",
     "output_type": "stream",
     "text": [
      "kqsdmzft\n"
     ]
    }
   ],
   "source": [
    "# Read the input messages\n",
    "messages = [\n",
    "    \"eedadn\",\n",
    "    \"drvtee\",\n",
    "    \"eandsr\",\n",
    "    \"raavrd\",\n",
    "    \"atevrs\",\n",
    "    \"tsrnev\",\n",
    "    \"sdttsa\",\n",
    "    \"rasrtv\",\n",
    "    \"nssdts\",\n",
    "    \"ntnada\",\n",
    "    \"svetve\",\n",
    "    \"tesnvt\",\n",
    "    \"vntsnd\",\n",
    "    \"vrdear\",\n",
    "    \"dvrsen\",\n",
    "    \"enarar\",\n",
    "]\n",
    "\n",
    "input_file = open(\"input_06.txt\", \"r\")\n",
    "messages = input_file.read().strip().split('\\n')\n",
    "\n",
    "# Create a list to store the error-corrected message\n",
    "error_corrected_message = []\n",
    "\n",
    "# Iterate over each position in the message\n",
    "for i in range(len(messages[0])):\n",
    "    # Create a dictionary to store the counts of each character at the current\n",
    "    # position\n",
    "    counts = {}\n",
    "    \n",
    "    # Iterate over the characters at the current position in each message\n",
    "    for message in messages:\n",
    "        # Increment the count for the current character in the counts dictionary\n",
    "        character = message[i]\n",
    "        if character in counts:\n",
    "            counts[character] += 1\n",
    "        else:\n",
    "            counts[character] = 1\n",
    "    \n",
    "    # Find the most common character at the current position by looking for the\n",
    "    # character with the highest count in the counts dictionary\n",
    "    most_common_character = None\n",
    "    most_common_count = 0\n",
    "    for character, count in counts.items():\n",
    "        if count > most_common_count:\n",
    "            most_common_character = character\n",
    "            most_common_count = count\n",
    "    \n",
    "    # Append the most common character at the current position to the\n",
    "    # error-corrected message\n",
    "    error_corrected_message.append(most_common_character)\n",
    "\n",
    "# Print the error-corrected message\n",
    "print(\"\".join(error_corrected_message))\n",
    "# Output: easter\n"
   ]
  },
  {
   "cell_type": "code",
   "execution_count": 5,
   "metadata": {},
   "outputs": [
    {
     "name": "stdout",
     "output_type": "stream",
     "text": [
      "tpooccyo\n"
     ]
    }
   ],
   "source": [
    "# Import the Counter class\n",
    "from collections import Counter\n",
    "\n",
    "# Read the input messages\n",
    "messages = [\n",
    "    \"eedadn\",\n",
    "    \"drvtee\",\n",
    "    \"eandsr\",\n",
    "    \"raavrd\",\n",
    "    \"atevrs\",\n",
    "    \"tsrnev\",\n",
    "    \"sdttsa\",\n",
    "    \"rasrtv\",\n",
    "    \"nssdts\",\n",
    "    \"ntnada\",\n",
    "    \"svetve\",\n",
    "    \"tesnvt\",\n",
    "    \"vntsnd\",\n",
    "    \"vrdear\",\n",
    "    \"dvrsen\",\n",
    "    \"enarar\",\n",
    "]\n",
    "\n",
    "input_file = open(\"input_06.txt\", \"r\")\n",
    "messages = input_file.read().strip().split('\\n')\n",
    "\n",
    "# Create a list to store the error-corrected message\n",
    "error_corrected_message = []\n",
    "\n",
    "# Iterate over each position in the message\n",
    "for i in range(len(messages[0])):\n",
    "    # Create a Counter to store the counts of each character at the current\n",
    "    # position\n",
    "    counts = Counter()\n",
    "    \n",
    "    # Iterate over the characters at the current position in each message\n",
    "    for message in messages:\n",
    "        # Increment the count for the current character in the counts Counter\n",
    "        character = message[i]\n",
    "        counts[character] += 1\n",
    "    \n",
    "    # Find the least common character at the current position by looking for the\n",
    "    # character with the lowest count in the counts Counter\n",
    "    least_common_character = None\n",
    "    least_common_count = float(\"inf\")\n",
    "    for character, count in counts.items():\n",
    "        if count < least_common_count or least_common_character is None:\n",
    "            least_common_character = character\n",
    "            least_common_count = count\n",
    "    \n",
    "    # Append the least common character at the current position to the\n",
    "    # error-corrected message\n",
    "    error_corrected_message.append(least_common_character)\n",
    "\n",
    "# Print the error-corrected message\n",
    "print(\"\".join(error_corrected_message))\n",
    "# Output: advent\n"
   ]
  }
 ],
 "metadata": {
  "kernelspec": {
   "display_name": "Python 3.10.5 ('venv-jupyter')",
   "language": "python",
   "name": "python3"
  },
  "language_info": {
   "codemirror_mode": {
    "name": "ipython",
    "version": 3
   },
   "file_extension": ".py",
   "mimetype": "text/x-python",
   "name": "python",
   "nbconvert_exporter": "python",
   "pygments_lexer": "ipython3",
   "version": "3.10.5"
  },
  "orig_nbformat": 4,
  "vscode": {
   "interpreter": {
    "hash": "62abda820e838343c9dc43ed9e178e200f47ce3a485529130a5bf834a20b7dfe"
   }
  }
 },
 "nbformat": 4,
 "nbformat_minor": 2
}
