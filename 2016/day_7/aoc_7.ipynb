{
 "cells": [
  {
   "cell_type": "markdown",
   "metadata": {},
   "source": [
    "### Day 7 - IPv7\n",
    "\n",
    "\n",
    "https://adventofcode.com/2016/day/6\n",
    "\n",
    "<i>written by [https://chat.openai.com/]</i>"
   ]
  },
  {
   "cell_type": "code",
   "execution_count": 5,
   "metadata": {},
   "outputs": [
    {
     "name": "stdout",
     "output_type": "stream",
     "text": [
      "107\n"
     ]
    }
   ],
   "source": [
    "# Read the input IP addresses\n",
    "addresses = [\n",
    "    \"abba[mnop]qrst\",\n",
    "    \"abcd[bddb]xyyx\",\n",
    "    \"aaaa[qwer]tyui\",\n",
    "    \"ioxxoj[asdfgh]zxcvbn\",\n",
    "]\n",
    "\n",
    "input_file = open(\"input_07.txt\", \"r\")\n",
    "addresses = input_file.read().split('\\n')\n",
    "\n",
    "# Create a counter to track the number of IP addresses that support TLS\n",
    "tls_count = 0\n",
    "\n",
    "# Iterate over the IP addresses\n",
    "for address in addresses:\n",
    "    # Create a flag to track whether we are currently within square brackets\n",
    "    in_brackets = False\n",
    "    \n",
    "    # Create a flag to track whether the IP address supports TLS\n",
    "    supports_tls = False\n",
    "    \n",
    "    # Iterate over the characters in the IP address\n",
    "    for i in range(len(address)):\n",
    "        # Check if the current character is an open square bracket\n",
    "        if address[i] == \"[\":\n",
    "            # Set the in_brackets flag to indicate that we are now within square\n",
    "            # brackets\n",
    "            in_brackets = True\n",
    "        \n",
    "        # Check if the current character is a close square bracket\n",
    "        elif address[i] == \"]\":\n",
    "            # Unset the in_brackets flag to indicate that we are now outside of\n",
    "            # square brackets\n",
    "            in_brackets = False\n",
    "        \n",
    "        # Check if the current character is the first character of an ABBA\n",
    "        # sequence\n",
    "        elif (i + 3 < len(address) and address[i] != address[i+1] and\n",
    "              address[i] == address[i+3] and address[i+1] == address[i+2]):\n",
    "            # Check if we are currently within square brackets\n",
    "            if in_brackets:\n",
    "                # Set the supports_tls flag to False to indicate that the IP\n",
    "                # address does not support TLS\n",
    "                supports_tls = False\n",
    "            else:\n",
    "                # Set the supports_tls flag to True to indicate that the IP\n",
    "                # address supports TLS\n",
    "                supports_tls = True\n",
    "    \n",
    "    # Check if the IP address supports TLS\n",
    "    if supports_tls:\n",
    "        # Increment the TLS count\n",
    "        tls_count += 1\n",
    "\n",
    "# Print the number of IP addresses that support TLS\n",
    "print(tls_count)\n",
    "# Output: 2\n"
   ]
  },
  {
   "cell_type": "code",
   "execution_count": 6,
   "metadata": {},
   "outputs": [
    {
     "name": "stdout",
     "output_type": "stream",
     "text": [
      "105\n"
     ]
    }
   ],
   "source": [
    "# Parse the input into a list of IP addresses\n",
    "with open('input_07.txt') as f:\n",
    "    ips = f.read().strip().split('\\n')\n",
    "\n",
    "# Define a function to check if an IP address supports TLS\n",
    "def supports_tls(ip):\n",
    "    # A flag to indicate if we are currently inside square brackets\n",
    "    in_brackets = False\n",
    "\n",
    "    # A flag to indicate if the IP supports TLS\n",
    "    supports_tls = False\n",
    "\n",
    "    # Iterate over the characters in the IP\n",
    "    for i in range(len(ip)):\n",
    "        # If we encounter an opening square bracket, set the in_brackets flag to True\n",
    "        if ip[i] == '[':\n",
    "            in_brackets = True\n",
    "        # If we encounter a closing square bracket, set the in_brackets flag to False\n",
    "        elif ip[i] == ']':\n",
    "            in_brackets = False\n",
    "        # If we are not in square brackets and we have a valid ABBA, set the supports_tls flag to True\n",
    "        elif not in_brackets and i < len(ip) - 3 and ip[i] == ip[i + 3] and ip[i + 1] == ip[i + 2] and ip[i] != ip[i + 1]:\n",
    "            supports_tls = True\n",
    "        # If we are in square brackets and we have a valid ABBA, return False immediately\n",
    "        elif in_brackets and i < len(ip) - 3 and ip[i] == ip[i + 3] and ip[i + 1] == ip[i + 2] and ip[i] != ip[i + 1]:\n",
    "            return False\n",
    "\n",
    "    # Return the value of the supports_tls flag\n",
    "    return supports_tls\n",
    "\n",
    "# Count the number of IPs that support TLS\n",
    "count = 0\n",
    "for ip in ips:\n",
    "    if supports_tls(ip):\n",
    "        count += 1\n",
    "\n",
    "# Print the result\n",
    "print(count)\n"
   ]
  },
  {
   "cell_type": "code",
   "execution_count": 8,
   "metadata": {},
   "outputs": [
    {
     "name": "stdout",
     "output_type": "stream",
     "text": [
      "31\n"
     ]
    }
   ],
   "source": [
    "# Parse the input into a list of IP addresses\n",
    "with open('input_07.txt') as f:\n",
    "    ips = f.read().strip().split('\\n')\n",
    "\n",
    "# Define a function to check if an IP address supports SSL\n",
    "def supports_ssl(ip):\n",
    "    # A flag to indicate if we are currently inside square brackets\n",
    "    in_brackets = False\n",
    "\n",
    "    # A set to store the ABA sequences found in the supernet\n",
    "    supernet_abas = set()\n",
    "\n",
    "    # A set to store the BAB sequences found in the hypernet\n",
    "    hypernet_babs = set()\n",
    "\n",
    "    # Iterate over the characters in the IP address\n",
    "    for i in range(len(ip)):\n",
    "        # If we encounter an opening square bracket, set the in_brackets flag to True\n",
    "        if ip[i] == '[':\n",
    "            in_brackets = True\n",
    "        # If we encounter a closing square bracket, set the in_brackets flag to False\n",
    "        elif ip[i] == ']':\n",
    "            in_brackets = False\n",
    "        # If we are not in square brackets and we have a valid ABA sequence, add it to the supernet_abas set\n",
    "        elif not in_brackets and i < len(ip) - 2 and ip[i] == ip[i + 2] and ip[i] != ip[i + 1]:\n",
    "            supernet_abas.add(ip[i:i + 3])\n",
    "        # If we are in square brackets and we have a valid BAB sequence, add it to the hypernet_babs set\n",
    "        elif in_brackets and i < len(ip) - 2 and ip[i] == ip[i + 2] and ip[i] != ip[i + 1]:\n",
    "            hypernet_babs.add(ip[i + 1] + ip[i] + ip[i + 1])\n",
    "\n",
    "    # Check if any of the ABA sequences in the supernet have a corresponding BAB sequence in the hypernet\n",
    "    for aba in supernet_abas:\n",
    "        if aba[1] + aba[0] + aba[1] in hypernet_babs:\n",
    "            return True\n",
    "\n",
    "    # If we didn't find any matching ABA-BAB sequences, return False\n",
    "    return False\n",
    "\n",
    "# Count the number of IPs that support SSL\n",
    "count = 0\n",
    "for ip in ips:\n",
    "    if supports_ssl(ip):\n",
    "        count += 1\n",
    "\n",
    "# Print the result\n",
    "print(count)\n"
   ]
  },
  {
   "cell_type": "code",
   "execution_count": 12,
   "metadata": {},
   "outputs": [
    {
     "name": "stdout",
     "output_type": "stream",
     "text": [
      "0\n"
     ]
    }
   ],
   "source": [
    "# Parse the input into a list of IP addresses\n",
    "with open('input_07.txt') as f:\n",
    "    ips = f.read().strip().split('\\n')\n",
    "\n",
    "# Import the regular expression module\n",
    "import re\n",
    "\n",
    "# Compile the regular expression pattern for ABA sequences\n",
    "aba_pattern = re.compile(r'(?=(\\w)(\\w)\\1)')\n",
    "\n",
    "# Compile the regular expression pattern for BAB sequences\n",
    "bab_pattern = re.compile(r'(?=(\\w)(\\w)\\1)')\n",
    "\n",
    "# Define a function to check if an IP address supports SSL\n",
    "def supports_ssl(ip):\n",
    "    # A set to store the ABA sequences found in the supernet\n",
    "    supernet_abas = set()\n",
    "\n",
    "    # A set to store the BAB sequences found in the hypernet\n",
    "    hypernet_babs = set()\n",
    "\n",
    "    # Iterate over the supernet and hypernet sequences in the IP address\n",
    "    for sequence in re.split(r'\\[|\\]', ip):\n",
    "        # Check if the sequence is a supernet or hypernet sequence\n",
    "        is_supernet = sequence.startswith(ip)\n",
    "\n",
    "        # Find all the ABA sequences in the supernet sequences\n",
    "        if is_supernet:\n",
    "            for match in aba_pattern.finditer(sequence):\n",
    "                supernet_abas.add(match.group(0))\n",
    "\n",
    "        # Find all the BAB sequences in the hypernet sequences\n",
    "        else:\n",
    "            for match in bab_pattern.finditer(sequence):\n",
    "                hypernet_babs.add(match.group(1) + match.group(2) + match.group(1))\n",
    "\n",
    "    # Check if any of the ABA sequences in the supernet have a corresponding BAB sequence in the hypernet\n",
    "    for aba in supernet_abas:\n",
    "        if aba[1] + aba[0] + aba[1] in hypernet_babs:\n",
    "            return True\n",
    "\n",
    "    # If we didn't find any matching ABA-BAB sequences, return False\n",
    "    return False\n",
    "\n",
    "# Count the number of IPs that support SSL\n",
    "count = 0\n",
    "for ip in ips:\n",
    "    if supports_ssl(ip):\n",
    "        count += 1\n",
    "\n",
    "# Print the result\n",
    "print(count)\n"
   ]
  }
 ],
 "metadata": {
  "kernelspec": {
   "display_name": "Python 3.10.5 ('venv-jupyter')",
   "language": "python",
   "name": "python3"
  },
  "language_info": {
   "codemirror_mode": {
    "name": "ipython",
    "version": 3
   },
   "file_extension": ".py",
   "mimetype": "text/x-python",
   "name": "python",
   "nbconvert_exporter": "python",
   "pygments_lexer": "ipython3",
   "version": "3.10.5"
  },
  "orig_nbformat": 4,
  "vscode": {
   "interpreter": {
    "hash": "62abda820e838343c9dc43ed9e178e200f47ce3a485529130a5bf834a20b7dfe"
   }
  }
 },
 "nbformat": 4,
 "nbformat_minor": 2
}
