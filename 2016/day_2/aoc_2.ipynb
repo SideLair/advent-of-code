{
 "cells": [
  {
   "cell_type": "markdown",
   "metadata": {},
   "source": [
    "### Day 2 - bathroom security \n",
    "\n",
    "\n",
    "https://adventofcode.com/2016/day/2\n",
    "\n",
    "<i>written by [https://chat.openai.com/]</i>"
   ]
  },
  {
   "cell_type": "code",
   "execution_count": 30,
   "metadata": {},
   "outputs": [],
   "source": [
    "input_file = open(\"input_02.txt\", \"r\")\n",
    "instructions = input_file.read().strip().split('\\n')"
   ]
  },
  {
   "cell_type": "code",
   "execution_count": 17,
   "metadata": {},
   "outputs": [],
   "source": [
    "instructions = \"\"\"ULL\n",
    "RRDDD\n",
    "LURDL\n",
    "UUUUD\"\"\".split('\\n')"
   ]
  },
  {
   "cell_type": "code",
   "execution_count": 22,
   "metadata": {},
   "outputs": [
    {
     "name": "stdout",
     "output_type": "stream",
     "text": [
      "The bathroom code is 78293.\n"
     ]
    }
   ],
   "source": [
    "# Parse the input and extract the instruction#s\n",
    "#instructions = input().split(\"\\n\")[:-1]  # Ignore the last empty line\n",
    "\n",
    "# Initialize the keypad and starting position\n",
    "keypad = [[1, 2, 3], [4, 5, 6], [7, 8, 9]]\n",
    "x, y = 1, 1\n",
    "\n",
    "# Loop through the instructions and update the position\n",
    "code = \"\"\n",
    "for inst in instructions:\n",
    "  for c in inst:\n",
    "    # Update the position based on the current direction\n",
    "    if c == \"U\":\n",
    "      y = max(0, y - 1)\n",
    "    elif c == \"D\":\n",
    "      y = min(2, y + 1)\n",
    "    elif c == \"L\":\n",
    "      x = max(0, x - 1)\n",
    "    elif c == \"R\":\n",
    "      x = min(2, x + 1)\n",
    "\n",
    "  # Add the current keypad number to the code\n",
    "  code += str(keypad[y][x])\n",
    "\n",
    "print(f\"The bathroom code is {code}.\")"
   ]
  },
  {
   "cell_type": "code",
   "execution_count": 33,
   "metadata": {},
   "outputs": [
    {
     "name": "stdout",
     "output_type": "stream",
     "text": [
      "The bathroom code is AC8C8.\n"
     ]
    }
   ],
   "source": [
    "# Parse the input and extract the instructions\n",
    "#instructions = input().split(\"\\n\")[:-1]  # Ignore the last empty line\n",
    "\n",
    "# Initialize the keypad and starting position\n",
    "keypad = [\n",
    "    [\"\", \"\", \"1\", \"\", \"\"],\n",
    "    [\"\", \"2\", \"3\", \"4\", \"\"],\n",
    "    [\"5\", \"6\", \"7\", \"8\", \"9\"],\n",
    "    [\"\", \"A\", \"B\", \"C\", \"\"],\n",
    "    [\"\", \"\", \"D\", \"\", \"\"],\n",
    "]\n",
    "x, y = 0, 2\n",
    "\n",
    "# Loop through the instructions and update the position\n",
    "code = \"\"\n",
    "for inst in instructions:\n",
    "  for c in inst:\n",
    "    # Update the position based on the current direction\n",
    "    if c == \"U\" and y > 0 and keypad[y-1][x] != \"\":\n",
    "      y -= 1\n",
    "    elif c == \"D\" and y < 4 and keypad[y+1][x] != \"\":\n",
    "      y += 1\n",
    "    elif c == \"L\" and x > 0 and keypad[y][x-1] != \"\":\n",
    "      x -= 1\n",
    "    elif c == \"R\" and x < 4 and keypad[y][x+1] != \"\":\n",
    "      x += 1\n",
    "\n",
    "  # Add the current keypad number to the code\n",
    "  code += keypad[y][x]\n",
    "\n",
    "print(f\"The bathroom code is {code}.\")"
   ]
  }
 ],
 "metadata": {
  "kernelspec": {
   "display_name": "Python 3.10.5 ('venv-jupyter')",
   "language": "python",
   "name": "python3"
  },
  "language_info": {
   "codemirror_mode": {
    "name": "ipython",
    "version": 3
   },
   "file_extension": ".py",
   "mimetype": "text/x-python",
   "name": "python",
   "nbconvert_exporter": "python",
   "pygments_lexer": "ipython3",
   "version": "3.10.5"
  },
  "orig_nbformat": 4,
  "vscode": {
   "interpreter": {
    "hash": "62abda820e838343c9dc43ed9e178e200f47ce3a485529130a5bf834a20b7dfe"
   }
  }
 },
 "nbformat": 4,
 "nbformat_minor": 2
}
